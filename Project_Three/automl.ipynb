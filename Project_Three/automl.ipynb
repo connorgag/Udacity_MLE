{
  "cells": [
    {
      "attachments": {},
      "cell_type": "markdown",
      "metadata": {},
      "source": [
        "# Automated ML\n",
        "\n",
        "TODO: Import Dependencies. In the cell below, import all the dependencies that you will need to complete the project."
      ]
    },
    {
      "cell_type": "code",
      "execution_count": 1,
      "metadata": {
        "gather": {
          "logged": 1683667930708
        },
        "jupyter": {
          "outputs_hidden": false,
          "source_hidden": false
        },
        "nteract": {
          "transient": {
            "deleting": false
          }
        }
      },
      "outputs": [
        {
          "name": "stdout",
          "output_type": "stream",
          "text": [
            "SDK version: 1.49.0\n"
          ]
        }
      ],
      "source": [
        "import logging\n",
        "import os\n",
        "import csv\n",
        "\n",
        "from matplotlib import pyplot as plt\n",
        "import numpy as np\n",
        "import pandas as pd\n",
        "from sklearn import datasets\n",
        "import pkg_resources\n",
        "\n",
        "import azureml.core\n",
        "from azureml.core.experiment import Experiment\n",
        "from azureml.core.workspace import Workspace\n",
        "from azureml.train.automl import AutoMLConfig\n",
        "from azureml.core.dataset import Dataset\n",
        "\n",
        "from azureml.pipeline.steps import AutoMLStep\n",
        "\n",
        "from azureml.core.compute import AmlCompute\n",
        "from azureml.core.compute import ComputeTarget\n",
        "from azureml.core.compute_target import ComputeTargetException\n",
        "from azureml.data.datapath import DataPath\n",
        "from azure.storage.blob import BlobServiceClient, BlobClient, ContainerClient\n",
        "from azureml.core import Workspace, Dataset\n",
        "from azureml.train.automl.utilities import get_primary_metrics\n",
        "from azureml.widgets import RunDetails\n",
        "from azureml.core.run import Run\n",
        "from azureml.train.automl.run import AutoMLRun\n",
        "\n",
        "from azureml.core import Environment\n",
        "from azureml.core.model import InferenceConfig\n",
        "from azureml.core.model import Model\n",
        "from azureml.core.webservice import AciWebservice\n",
        "\n",
        "from azureml.core.authentication import InteractiveLoginAuthentication\n",
        "import requests\n",
        "import json\n",
        "from azureml.core import Workspace, Model, Webservice\n",
        "\n",
        "import urllib.request\n",
        "import json\n",
        "import os\n",
        "import ssl\n",
        "# Check core SDK version number\n",
        "print(\"SDK version:\", azureml.core.VERSION)"
      ]
    },
    {
      "attachments": {},
      "cell_type": "markdown",
      "metadata": {},
      "source": [
        "Must download config file from Azure ML UI and put the config.json in the same directory"
      ]
    },
    {
      "cell_type": "code",
      "execution_count": 2,
      "metadata": {
        "gather": {
          "logged": 1683667934699
        }
      },
      "outputs": [
        {
          "name": "stdout",
          "output_type": "stream",
          "text": [
            "quick-starts-ws-233364\n",
            "aml-quickstarts-233364\n",
            "westus2\n",
            "3d1a56d2-7c81-4118-9790-f85d1acf0c77\n"
          ]
        }
      ],
      "source": [
        "ws = Workspace.from_config()\n",
        "print(ws.name, ws.resource_group, ws.location, ws.subscription_id, sep = '\\n')"
      ]
    },
    {
      "cell_type": "code",
      "execution_count": 3,
      "metadata": {
        "gather": {
          "logged": 1683667935293
        }
      },
      "outputs": [
        {
          "name": "stdout",
          "output_type": "stream",
          "text": [
            "Found existing cluster, use it.\n",
            "Succeeded\n",
            "AmlCompute wait for completion finished\n",
            "\n",
            "Minimum number of nodes requested have been provisioned\n"
          ]
        }
      ],
      "source": [
        "from azureml.core.compute import AmlCompute\n",
        "from azureml.core.compute import ComputeTarget\n",
        "from azureml.core.compute_target import ComputeTargetException\n",
        "\n",
        "# NOTE: update the cluster name to match the existing cluster\n",
        "# Choose a name for your CPU cluster\n",
        "amlcompute_cluster_name = \"Project-3-Compute\"\n",
        "\n",
        "# Verify that cluster does not exist already\n",
        "try:\n",
        "    compute_target = ComputeTarget(workspace=ws, name=amlcompute_cluster_name)\n",
        "    print('Found existing cluster, use it.')\n",
        "except ComputeTargetException:\n",
        "    compute_config = AmlCompute.provisioning_configuration(vm_size='Standard_DS3_v2',# for GPU, use \"STANDARD_NC6\"\n",
        "                                                           #vm_priority = 'lowpriority', # optional\n",
        "                                                           max_nodes=4)\n",
        "    compute_target = ComputeTarget.create(ws, amlcompute_cluster_name, compute_config)\n",
        "\n",
        "compute_target.wait_for_completion(show_output=True, min_node_count = 0, timeout_in_minutes = 10)"
      ]
    },
    {
      "attachments": {},
      "cell_type": "markdown",
      "metadata": {},
      "source": [
        "## Dataset\n",
        "\n",
        "### Overview\n",
        "TODO: In this markdown cell, give an overview of the dataset you are using. Also mention the task you will be performing.\n",
        "\n",
        "\n",
        "TODO: Get data. In the cell below, write code to access the data you will be using in this project. Remember that the dataset needs to be external."
      ]
    },
    {
      "cell_type": "code",
      "execution_count": 4,
      "metadata": {
        "gather": {
          "logged": 1683667938661
        },
        "jupyter": {
          "outputs_hidden": false,
          "source_hidden": false
        },
        "nteract": {
          "transient": {
            "deleting": false
          }
        }
      },
      "outputs": [],
      "source": [
        "# choose a name for experiment\n",
        "experiment_name = 'Project_3_Experiment_AutoML'\n",
        "experiment=Experiment(ws, experiment_name)"
      ]
    },
    {
      "attachments": {},
      "cell_type": "markdown",
      "metadata": {},
      "source": [
        "### Upload Data"
      ]
    },
    {
      "attachments": {},
      "cell_type": "markdown",
      "metadata": {},
      "source": [
        "Must Upload the data manually before running this part"
      ]
    },
    {
      "cell_type": "code",
      "execution_count": 5,
      "metadata": {
        "gather": {
          "logged": 1683667946212
        }
      },
      "outputs": [],
      "source": [
        "dataset = Dataset.get_by_name(ws, name='behavioral_data')"
      ]
    },
    {
      "attachments": {},
      "cell_type": "markdown",
      "metadata": {},
      "source": [
        "## AutoML Configuration\n",
        "\n",
        "TODO: Explain why you chose the automl settings and cofiguration you used below."
      ]
    },
    {
      "attachments": {},
      "cell_type": "markdown",
      "metadata": {},
      "source": [
        "Target: GENHLTH - general health"
      ]
    },
    {
      "cell_type": "code",
      "execution_count": 6,
      "metadata": {
        "gather": {
          "logged": 1683667948475
        }
      },
      "outputs": [
        {
          "data": {
            "text/plain": [
              "['spearman_correlation',\n",
              " 'normalized_root_mean_squared_error',\n",
              " 'r2_score',\n",
              " 'normalized_mean_absolute_error']"
            ]
          },
          "execution_count": 6,
          "metadata": {},
          "output_type": "execute_result"
        }
      ],
      "source": [
        "get_primary_metrics('regression')"
      ]
    },
    {
      "cell_type": "code",
      "execution_count": 7,
      "metadata": {
        "gather": {
          "logged": 1683667948744
        },
        "jupyter": {
          "outputs_hidden": false,
          "source_hidden": false
        },
        "nteract": {
          "transient": {
            "deleting": false
          }
        }
      },
      "outputs": [],
      "source": [
        "# TODO: Put your automl settings here\n",
        "automl_settings = {\n",
        "    \"experiment_timeout_hours\": 1,\n",
        "    \"max_concurrent_iterations\": 4,\n",
        "    \"primary_metric\" : 'normalized_root_mean_squared_error'\n",
        "}\n",
        "\n",
        "# TODO: Put your automl config here\n",
        "automl_config = AutoMLConfig(compute_target=compute_target,\n",
        "                             task = \"regression\",\n",
        "                             training_data=dataset,\n",
        "                             label_column_name=\"GENHLTH\",   \n",
        "                             path = '.',\n",
        "                             enable_early_stopping= True,\n",
        "                             featurization= 'auto',\n",
        "                             debug_log = \"automl_errors.log\",\n",
        "                             **automl_settings\n",
        "                            )"
      ]
    },
    {
      "cell_type": "code",
      "execution_count": 8,
      "metadata": {
        "gather": {
          "logged": 1683667955096
        },
        "jupyter": {
          "outputs_hidden": false,
          "source_hidden": false
        },
        "nteract": {
          "transient": {
            "deleting": false
          }
        }
      },
      "outputs": [
        {
          "name": "stdout",
          "output_type": "stream",
          "text": [
            "Submitting remote run.\n"
          ]
        },
        {
          "data": {
            "text/html": [
              "<table style=\"width:100%\"><tr><th>Experiment</th><th>Id</th><th>Type</th><th>Status</th><th>Details Page</th><th>Docs Page</th></tr><tr><td>Project_3_Experiment_AutoML</td><td>AutoML_4a5c5fed-840b-4b21-916c-9a592aae73e0</td><td>automl</td><td>NotStarted</td><td><a href=\"https://ml.azure.com/runs/AutoML_4a5c5fed-840b-4b21-916c-9a592aae73e0?wsid=/subscriptions/3d1a56d2-7c81-4118-9790-f85d1acf0c77/resourcegroups/aml-quickstarts-233364/workspaces/quick-starts-ws-233364&amp;tid=660b3398-b80e-49d2-bc5b-ac1dc93b5254\" target=\"_blank\" rel=\"noopener\">Link to Azure Machine Learning studio</a></td><td><a href=\"https://docs.microsoft.com/en-us/python/api/overview/azure/ml/intro?view=azure-ml-py\" target=\"_blank\" rel=\"noopener\">Link to Documentation</a></td></tr></table>"
            ],
            "text/plain": [
              "<IPython.core.display.HTML object>"
            ]
          },
          "metadata": {},
          "output_type": "display_data"
        }
      ],
      "source": [
        "# TODO: Submit your experiment\n",
        "remote_run = experiment.submit(automl_config)"
      ]
    },
    {
      "attachments": {},
      "cell_type": "markdown",
      "metadata": {},
      "source": [
        "Run this if your kernel is restarted"
      ]
    },
    {
      "cell_type": "code",
      "execution_count": 27,
      "metadata": {
        "gather": {
          "logged": 1682973196002
        }
      },
      "outputs": [],
      "source": [
        "# remote_run = AutoMLRun(experiment, [run for run in experiment.get_runs()][0].id)"
      ]
    },
    {
      "cell_type": "code",
      "execution_count": 9,
      "metadata": {
        "gather": {
          "logged": 1683066179330
        }
      },
      "outputs": [
        {
          "data": {
            "text/html": [
              "<table style=\"width:100%\"><tr><th>Experiment</th><th>Id</th><th>Type</th><th>Status</th><th>Details Page</th><th>Docs Page</th></tr><tr><td>Project_3_Experiment_AutoML</td><td>AutoML_479441af-c3b3-442a-b0da-f81ce10b714b</td><td>automl</td><td>NotStarted</td><td><a href=\"https://ml.azure.com/runs/AutoML_479441af-c3b3-442a-b0da-f81ce10b714b?wsid=/subscriptions/6971f5ac-8af1-446e-8034-05acea24681f/resourcegroups/aml-quickstarts-232519/workspaces/quick-starts-ws-232519&amp;tid=660b3398-b80e-49d2-bc5b-ac1dc93b5254\" target=\"_blank\" rel=\"noopener\">Link to Azure Machine Learning studio</a></td><td><a href=\"https://docs.microsoft.com/en-us/python/api/overview/azure/ml/intro?view=azure-ml-py\" target=\"_blank\" rel=\"noopener\">Link to Documentation</a></td></tr></table>"
            ],
            "text/plain": [
              "Run(Experiment: Project_3_Experiment_AutoML,\n",
              "Id: AutoML_479441af-c3b3-442a-b0da-f81ce10b714b,\n",
              "Type: automl,\n",
              "Status: NotStarted)"
            ]
          },
          "execution_count": 9,
          "metadata": {},
          "output_type": "execute_result"
        }
      ],
      "source": [
        "remote_run"
      ]
    },
    {
      "attachments": {},
      "cell_type": "markdown",
      "metadata": {},
      "source": [
        "## Run Details\n",
        "\n",
        "OPTIONAL: Write about the different models trained and their performance. Why do you think some models did better than others?\n",
        "\n",
        "TODO: In the cell below, use the `RunDetails` widget to show the different experiments."
      ]
    },
    {
      "cell_type": "code",
      "execution_count": 10,
      "metadata": {
        "gather": {
          "logged": 1683066217608
        },
        "jupyter": {
          "outputs_hidden": false,
          "source_hidden": false
        },
        "nteract": {
          "transient": {
            "deleting": false
          }
        }
      },
      "outputs": [
        {
          "data": {
            "application/vnd.jupyter.widget-view+json": {
              "model_id": "a6112af6273b4a94bc5a74c8e89da37d",
              "version_major": 2,
              "version_minor": 0
            },
            "text/plain": [
              "_AutoMLWidget(widget_settings={'childWidgetDisplay': 'popup', 'send_telemetry': False, 'log_level': 'INFO', 's…"
            ]
          },
          "metadata": {},
          "output_type": "display_data"
        },
        {
          "data": {
            "application/aml.mini.widget.v1": "{\"status\": \"Running\", \"workbench_run_details_uri\": \"https://ml.azure.com/runs/AutoML_479441af-c3b3-442a-b0da-f81ce10b714b?wsid=/subscriptions/6971f5ac-8af1-446e-8034-05acea24681f/resourcegroups/aml-quickstarts-232519/workspaces/quick-starts-ws-232519&tid=660b3398-b80e-49d2-bc5b-ac1dc93b5254\", \"run_id\": \"AutoML_479441af-c3b3-442a-b0da-f81ce10b714b\", \"run_properties\": {\"run_id\": \"AutoML_479441af-c3b3-442a-b0da-f81ce10b714b\", \"created_utc\": \"2023-05-02T22:22:51.126254Z\", \"properties\": {\"num_iterations\": \"1000\", \"training_type\": \"TrainFull\", \"acquisition_function\": \"EI\", \"primary_metric\": \"normalized_root_mean_squared_error\", \"train_split\": \"0\", \"acquisition_parameter\": \"0\", \"num_cross_validation\": null, \"target\": \"Project-3-Compute\", \"AMLSettingsJsonString\": \"{\\\"path\\\":null,\\\"name\\\":\\\"Project_3_Experiment_AutoML\\\",\\\"subscription_id\\\":\\\"6971f5ac-8af1-446e-8034-05acea24681f\\\",\\\"resource_group\\\":\\\"aml-quickstarts-232519\\\",\\\"workspace_name\\\":\\\"quick-starts-ws-232519\\\",\\\"region\\\":\\\"southcentralus\\\",\\\"compute_target\\\":\\\"Project-3-Compute\\\",\\\"spark_service\\\":null,\\\"azure_service\\\":\\\"remote\\\",\\\"many_models\\\":false,\\\"pipeline_fetch_max_batch_size\\\":1,\\\"enable_batch_run\\\":true,\\\"enable_parallel_run\\\":false,\\\"num_procs\\\":null,\\\"enable_run_restructure\\\":false,\\\"start_auxiliary_runs_before_parent_complete\\\":false,\\\"enable_code_generation\\\":true,\\\"iterations\\\":1000,\\\"primary_metric\\\":\\\"normalized_root_mean_squared_error\\\",\\\"task_type\\\":\\\"regression\\\",\\\"positive_label\\\":null,\\\"data_script\\\":null,\\\"test_size\\\":0.0,\\\"test_include_predictions_only\\\":false,\\\"validation_size\\\":0.0,\\\"n_cross_validations\\\":null,\\\"y_min\\\":null,\\\"y_max\\\":null,\\\"num_classes\\\":null,\\\"featurization\\\":\\\"auto\\\",\\\"_ignore_package_version_incompatibilities\\\":false,\\\"is_timeseries\\\":false,\\\"max_cores_per_iteration\\\":1,\\\"max_concurrent_iterations\\\":4,\\\"iteration_timeout_minutes\\\":null,\\\"mem_in_mb\\\":null,\\\"enforce_time_on_windows\\\":false,\\\"experiment_timeout_minutes\\\":60,\\\"experiment_exit_score\\\":null,\\\"partition_column_names\\\":null,\\\"whitelist_models\\\":null,\\\"blacklist_algos\\\":[\\\"TensorFlowDNN\\\",\\\"TensorFlowLinearRegressor\\\"],\\\"supported_models\\\":[\\\"FastLinearRegressor\\\",\\\"TabnetRegressor\\\",\\\"DecisionTree\\\",\\\"OnlineGradientDescentRegressor\\\",\\\"KNN\\\",\\\"LassoLars\\\",\\\"RandomForest\\\",\\\"TensorFlowLinearRegressor\\\",\\\"LightGBM\\\",\\\"ExtremeRandomTrees\\\",\\\"SGD\\\",\\\"TensorFlowDNN\\\",\\\"ElasticNet\\\",\\\"GradientBoosting\\\",\\\"XGBoostRegressor\\\"],\\\"private_models\\\":[],\\\"auto_blacklist\\\":true,\\\"blacklist_samples_reached\\\":false,\\\"exclude_nan_labels\\\":true,\\\"verbosity\\\":20,\\\"_debug_log\\\":\\\"azureml_automl.log\\\",\\\"show_warnings\\\":false,\\\"model_explainability\\\":true,\\\"service_url\\\":null,\\\"sdk_url\\\":null,\\\"sdk_packages\\\":null,\\\"enable_onnx_compatible_models\\\":false,\\\"enable_split_onnx_featurizer_estimator_models\\\":false,\\\"vm_type\\\":\\\"STANDARD_DS3_V2\\\",\\\"telemetry_verbosity\\\":20,\\\"send_telemetry\\\":true,\\\"enable_dnn\\\":false,\\\"scenario\\\":\\\"AutoML\\\",\\\"environment_label\\\":null,\\\"save_mlflow\\\":false,\\\"enable_categorical_indicators\\\":false,\\\"force_text_dnn\\\":false,\\\"enable_feature_sweeping\\\":true,\\\"enable_early_stopping\\\":true,\\\"early_stopping_n_iters\\\":10,\\\"arguments\\\":null,\\\"dataset_id\\\":\\\"f871ed69-7f41-4fb9-b5b9-7dac3dd1b316\\\",\\\"hyperdrive_config\\\":null,\\\"validation_dataset_id\\\":null,\\\"run_source\\\":null,\\\"metrics\\\":null,\\\"enable_metric_confidence\\\":false,\\\"enable_ensembling\\\":true,\\\"enable_stack_ensembling\\\":true,\\\"ensemble_iterations\\\":15,\\\"enable_tf\\\":false,\\\"enable_subsampling\\\":null,\\\"subsample_seed\\\":null,\\\"enable_nimbusml\\\":false,\\\"enable_streaming\\\":false,\\\"force_streaming\\\":false,\\\"track_child_runs\\\":true,\\\"n_best_runs\\\":1,\\\"allowed_private_models\\\":[],\\\"label_column_name\\\":\\\"GENHLTH\\\",\\\"weight_column_name\\\":null,\\\"cv_split_column_names\\\":null,\\\"enable_local_managed\\\":false,\\\"_local_managed_run_id\\\":null,\\\"cost_mode\\\":1,\\\"lag_length\\\":0,\\\"metric_operation\\\":\\\"minimize\\\",\\\"preprocess\\\":true}\", \"DataPrepJsonString\": \"{\\\\\\\"training_data\\\\\\\": {\\\\\\\"datasetId\\\\\\\": \\\\\\\"f871ed69-7f41-4fb9-b5b9-7dac3dd1b316\\\\\\\"}, \\\\\\\"datasets\\\\\\\": 0}\", \"EnableSubsampling\": null, \"runTemplate\": \"AutoML\", \"azureml.runsource\": \"automl\", \"display_task_type\": \"regression\", \"dependencies_versions\": \"{\\\"azureml-widgets\\\": \\\"1.49.0\\\", \\\"azureml-training-tabular\\\": \\\"1.49.0\\\", \\\"azureml-train\\\": \\\"1.49.0\\\", \\\"azureml-train-restclients-hyperdrive\\\": \\\"1.49.0\\\", \\\"azureml-train-core\\\": \\\"1.49.0\\\", \\\"azureml-train-automl\\\": \\\"1.49.0\\\", \\\"azureml-train-automl-runtime\\\": \\\"1.49.0\\\", \\\"azureml-train-automl-client\\\": \\\"1.49.0\\\", \\\"azureml-tensorboard\\\": \\\"1.49.0\\\", \\\"azureml-telemetry\\\": \\\"1.49.0\\\", \\\"azureml-sdk\\\": \\\"1.49.0\\\", \\\"azureml-responsibleai\\\": \\\"1.49.0\\\", \\\"azureml-pipeline\\\": \\\"1.49.0\\\", \\\"azureml-pipeline-steps\\\": \\\"1.49.0\\\", \\\"azureml-pipeline-core\\\": \\\"1.49.0\\\", \\\"azureml-opendatasets\\\": \\\"1.49.0\\\", \\\"azureml-mlflow\\\": \\\"1.49.0\\\", \\\"azureml-interpret\\\": \\\"1.49.0\\\", \\\"azureml-inference-server-http\\\": \\\"0.8.0\\\", \\\"azureml-explain-model\\\": \\\"1.49.0\\\", \\\"azureml-defaults\\\": \\\"1.49.0\\\", \\\"azureml-dataset-runtime\\\": \\\"1.49.0\\\", \\\"azureml-dataprep\\\": \\\"4.9.1\\\", \\\"azureml-dataprep-rslex\\\": \\\"2.16.1\\\", \\\"azureml-dataprep-native\\\": \\\"38.0.0\\\", \\\"azureml-datadrift\\\": \\\"1.49.0\\\", \\\"azureml-core\\\": \\\"1.49.0\\\", \\\"azureml-contrib-services\\\": \\\"1.49.0\\\", \\\"azureml-contrib-server\\\": \\\"1.49.0\\\", \\\"azureml-contrib-reinforcementlearning\\\": \\\"1.49.0\\\", \\\"azureml-contrib-pipeline-steps\\\": \\\"1.49.0\\\", \\\"azureml-contrib-notebook\\\": \\\"1.49.0\\\", \\\"azureml-contrib-fairness\\\": \\\"1.49.0\\\", \\\"azureml-contrib-dataset\\\": \\\"1.49.0\\\", \\\"azureml-contrib-automl-pipeline-steps\\\": \\\"1.49.0\\\", \\\"azureml-cli-common\\\": \\\"1.49.0\\\", \\\"azureml-automl-runtime\\\": \\\"1.49.0\\\", \\\"azureml-automl-dnn-nlp\\\": \\\"1.49.0\\\", \\\"azureml-automl-core\\\": \\\"1.49.0\\\", \\\"azureml-accel-models\\\": \\\"1.49.0\\\"}\", \"_aml_system_scenario_identification\": \"Remote.Parent\", \"ClientType\": \"SDK\", \"PlatformVersion\": \"DPV1\", \"environment_cpu_name\": \"AzureML-AutoML\", \"environment_cpu_label\": \"prod\", \"environment_gpu_name\": \"AzureML-AutoML-GPU\", \"environment_gpu_label\": \"prod\", \"root_attribution\": \"automl\", \"attribution\": \"AutoML\", \"Orchestrator\": \"AutoML\", \"CancelUri\": \"https://southcentralus.api.azureml.ms/jasmine/v1.0/subscriptions/6971f5ac-8af1-446e-8034-05acea24681f/resourceGroups/aml-quickstarts-232519/providers/Microsoft.MachineLearningServices/workspaces/quick-starts-ws-232519/experimentids/16181227-a5ca-49b9-b18f-e459c670f91f/cancel/AutoML_479441af-c3b3-442a-b0da-f81ce10b714b\", \"ClientSdkVersion\": null, \"snapshotId\": \"00000000-0000-0000-0000-000000000000\", \"SetupRunId\": \"AutoML_479441af-c3b3-442a-b0da-f81ce10b714b_setup\", \"SetupRunContainerId\": \"dcid.AutoML_479441af-c3b3-442a-b0da-f81ce10b714b_setup\", \"FeaturizationRunJsonPath\": \"featurizer_container.json\", \"FeaturizationRunId\": \"AutoML_479441af-c3b3-442a-b0da-f81ce10b714b_featurize\", \"ProblemInfoJsonString\": \"{\\\"dataset_num_categorical\\\": 0, \\\"is_sparse\\\": true, \\\"subsampling\\\": false, \\\"has_extra_col\\\": true, \\\"dataset_classes\\\": 7, \\\"dataset_features\\\": 9632, \\\"dataset_samples\\\": 397308, \\\"single_frequency_class_detected\\\": false}\"}, \"tags\": {\"model_explain_run\": \"best_run\", \"_aml_system_automl_run_workspace_id\": \"c7a3b080-e698-48bf-986c-e8a1a632717f\", \"_aml_system_azureml.automlComponent\": \"AutoML\", \"pipeline_id_000\": \"faf12f74cf9bbd358ca5525682c5030d36f7be7c;b76be6b5846772ee1128c4d415381c1e9fed455e;3d41561aa650aa5533e046dbc8a84c64295d0663;4bc4ec47eb8df2d5d68b361cd60120e65196f757;cb44bb856e47d617d7a9ad0d334455564181de96\", \"score_000\": \"0.10100834891391398;0.11501352567962973;0.11117491880638788;0.10133701973464475;0.11269142583882213\", \"predicted_cost_000\": \"0;0.5;0.5;0;0.5\", \"fit_time_000\": \"69.16619600000001;123.161488;846.380857;770.578745;37.475351\", \"training_percent_000\": \"100;100;100;100;100\", \"iteration_000\": \"0;10;15;1;16\", \"run_preprocessor_000\": \"MaxAbsScaler;MaxAbsScaler;StandardScalerWrapper;MaxAbsScaler;StandardScalerWrapper\", \"run_algorithm_000\": \"LightGBM;RandomForest;ElasticNet;XGBoostRegressor;DecisionTree\"}, \"end_time_utc\": null, \"status\": \"Running\", \"log_files\": {}, \"log_groups\": [], \"run_duration\": \"1:40:38\", \"run_number\": \"1683066171\", \"run_queued_details\": {\"status\": \"Running\", \"details\": null}}, \"child_runs\": [{\"run_id\": \"AutoML_479441af-c3b3-442a-b0da-f81ce10b714b_setup\", \"run_number\": 1683066185, \"metric\": null, \"status\": \"Completed\", \"run_type\": \"azureml.scriptrun\", \"training_percent\": null, \"start_time\": \"2023-05-02T22:25:30.270903Z\", \"end_time\": \"2023-05-02T22:31:37.938339Z\", \"created_time\": \"2023-05-02T22:23:05.227462Z\", \"created_time_dt\": \"2023-05-02T22:23:05.227462Z\", \"duration\": \"0:08:32\", \"iteration\": null, \"goal\": null, \"run_name\": \"Completed\", \"run_properties\": null}, {\"run_id\": \"AutoML_479441af-c3b3-442a-b0da-f81ce10b714b_featurize\", \"run_number\": 1683066698, \"metric\": null, \"status\": \"Completed\", \"run_type\": \"automl.featurization\", \"training_percent\": null, \"start_time\": \"2023-05-02T22:31:38.682699Z\", \"end_time\": \"2023-05-02T23:20:30.035785Z\", \"created_time\": \"2023-05-02T22:31:38.315052Z\", \"created_time_dt\": \"2023-05-02T22:31:38.315052Z\", \"duration\": \"0:48:51\", \"iteration\": null, \"goal\": null, \"run_name\": \"Completed\", \"run_properties\": null}, {\"run_id\": \"AutoML_479441af-c3b3-442a-b0da-f81ce10b714b_0\", \"run_number\": 1683069632, \"metric\": null, \"status\": \"Completed\", \"run_type\": null, \"training_percent\": \"100\", \"start_time\": \"2023-05-02T23:31:58.7871Z\", \"end_time\": \"2023-05-02T23:33:30.057265Z\", \"created_time\": \"2023-05-02T23:20:32.155969Z\", \"created_time_dt\": \"2023-05-02T23:20:32.155969Z\", \"duration\": \"0:12:57\", \"iteration\": \"0\", \"goal\": \"normalized_root_mean_squared_error_min\", \"run_name\": \"MaxAbsScaler, LightGBM\", \"run_properties\": \"copy=True\", \"primary_metric\": 0.10100835, \"best_metric\": 0.10100835}, {\"run_id\": \"AutoML_479441af-c3b3-442a-b0da-f81ce10b714b_3\", \"run_number\": 1683069633, \"metric\": null, \"status\": \"NotStarted\", \"run_type\": null, \"training_percent\": \"100\", \"start_time\": \"\", \"end_time\": \"\", \"created_time\": \"2023-05-02T23:20:33.784928Z\", \"created_time_dt\": \"2023-05-02T23:20:33.784928Z\", \"duration\": \"0:42:56\", \"iteration\": \"3\", \"goal\": null, \"run_name\": \"NotStarted\", \"run_properties\": null}, {\"run_id\": \"AutoML_479441af-c3b3-442a-b0da-f81ce10b714b_4\", \"run_number\": 1683069634, \"metric\": null, \"status\": \"NotStarted\", \"run_type\": null, \"training_percent\": \"100\", \"start_time\": \"\", \"end_time\": \"\", \"created_time\": \"2023-05-02T23:20:34.261071Z\", \"created_time_dt\": \"2023-05-02T23:20:34.261071Z\", \"duration\": \"0:42:55\", \"iteration\": \"4\", \"goal\": null, \"run_name\": \"NotStarted\", \"run_properties\": null}, {\"run_id\": \"AutoML_479441af-c3b3-442a-b0da-f81ce10b714b_6\", \"run_number\": 1683069635, \"metric\": null, \"status\": \"NotStarted\", \"run_type\": null, \"training_percent\": \"100\", \"start_time\": \"\", \"end_time\": \"\", \"created_time\": \"2023-05-02T23:20:35.413846Z\", \"created_time_dt\": \"2023-05-02T23:20:35.413846Z\", \"duration\": \"0:42:54\", \"iteration\": \"6\", \"goal\": null, \"run_name\": \"NotStarted\", \"run_properties\": null}, {\"run_id\": \"AutoML_479441af-c3b3-442a-b0da-f81ce10b714b_8\", \"run_number\": 1683069636, \"metric\": null, \"status\": \"NotStarted\", \"run_type\": null, \"training_percent\": \"100\", \"start_time\": \"\", \"end_time\": \"\", \"created_time\": \"2023-05-02T23:20:36.612495Z\", \"created_time_dt\": \"2023-05-02T23:20:36.612495Z\", \"duration\": \"0:42:53\", \"iteration\": \"8\", \"goal\": null, \"run_name\": \"NotStarted\", \"run_properties\": null}, {\"run_id\": \"AutoML_479441af-c3b3-442a-b0da-f81ce10b714b_9\", \"run_number\": 1683069637, \"metric\": null, \"status\": \"NotStarted\", \"run_type\": null, \"training_percent\": \"100\", \"start_time\": \"\", \"end_time\": \"\", \"created_time\": \"2023-05-02T23:20:37.160349Z\", \"created_time_dt\": \"2023-05-02T23:20:37.160349Z\", \"duration\": \"0:42:52\", \"iteration\": \"9\", \"goal\": null, \"run_name\": \"NotStarted\", \"run_properties\": null}, {\"run_id\": \"AutoML_479441af-c3b3-442a-b0da-f81ce10b714b_12\", \"run_number\": 1683069638, \"metric\": null, \"status\": \"NotStarted\", \"run_type\": null, \"training_percent\": \"100\", \"start_time\": \"\", \"end_time\": \"\", \"created_time\": \"2023-05-02T23:20:38.890336Z\", \"created_time_dt\": \"2023-05-02T23:20:38.890336Z\", \"duration\": \"0:42:51\", \"iteration\": \"12\", \"goal\": null, \"run_name\": \"NotStarted\", \"run_properties\": null}, {\"run_id\": \"AutoML_479441af-c3b3-442a-b0da-f81ce10b714b_13\", \"run_number\": 1683069639, \"metric\": null, \"status\": \"NotStarted\", \"run_type\": null, \"training_percent\": \"100\", \"start_time\": \"\", \"end_time\": \"\", \"created_time\": \"2023-05-02T23:20:39.494443Z\", \"created_time_dt\": \"2023-05-02T23:20:39.494443Z\", \"duration\": \"0:42:50\", \"iteration\": \"13\", \"goal\": null, \"run_name\": \"NotStarted\", \"run_properties\": null}, {\"run_id\": \"AutoML_479441af-c3b3-442a-b0da-f81ce10b714b_14\", \"run_number\": 1683069640, \"metric\": null, \"status\": \"NotStarted\", \"run_type\": null, \"training_percent\": \"100\", \"start_time\": \"\", \"end_time\": \"\", \"created_time\": \"2023-05-02T23:20:40.099531Z\", \"created_time_dt\": \"2023-05-02T23:20:40.099531Z\", \"duration\": \"0:42:49\", \"iteration\": \"14\", \"goal\": null, \"run_name\": \"NotStarted\", \"run_properties\": null}, {\"run_id\": \"AutoML_479441af-c3b3-442a-b0da-f81ce10b714b_16\", \"run_number\": 1683069641, \"metric\": null, \"status\": \"Completed\", \"run_type\": null, \"training_percent\": \"100\", \"start_time\": \"2023-05-02T23:48:32.801142Z\", \"end_time\": \"2023-05-02T23:49:28.47696Z\", \"created_time\": \"2023-05-02T23:20:41.22907Z\", \"created_time_dt\": \"2023-05-02T23:20:41.22907Z\", \"duration\": \"0:28:47\", \"iteration\": \"16\", \"goal\": \"normalized_root_mean_squared_error_min\", \"run_name\": \"StandardScalerWrapper, DecisionTree\", \"run_properties\": \"copy=True, with_mean=False, with_std=False\", \"primary_metric\": 0.11269143, \"best_metric\": 0.10100835}, {\"run_id\": \"AutoML_479441af-c3b3-442a-b0da-f81ce10b714b_19\", \"run_number\": 1683069642, \"metric\": null, \"status\": \"NotStarted\", \"run_type\": null, \"training_percent\": \"100\", \"start_time\": \"\", \"end_time\": \"\", \"created_time\": \"2023-05-02T23:20:42.876528Z\", \"created_time_dt\": \"2023-05-02T23:20:42.876528Z\", \"duration\": \"0:42:47\", \"iteration\": \"19\", \"goal\": null, \"run_name\": \"NotStarted\", \"run_properties\": null}, {\"run_id\": \"AutoML_479441af-c3b3-442a-b0da-f81ce10b714b_worker_3\", \"run_number\": 1683069643, \"metric\": null, \"status\": \"Running\", \"run_type\": \"azureml.scriptrun\", \"training_percent\": null, \"start_time\": \"2023-05-02T23:31:13.049431Z\", \"end_time\": \"\", \"created_time\": \"2023-05-02T23:20:43.225301Z\", \"created_time_dt\": \"2023-05-02T23:20:43.225301Z\", \"duration\": \"0:42:46\", \"iteration\": null, \"goal\": null, \"run_name\": \"Running\", \"run_properties\": null}], \"children_metrics\": {\"categories\": [0], \"series\": {\"r2_score\": [{\"categories\": [\"0\", \"16\"], \"mode\": \"markers\", \"name\": \"r2_score\", \"stepped\": false, \"type\": \"scatter\", \"data\": [0.47933211814610366, 0.3519209361437221]}, {\"categories\": [\"0\", \"16\"], \"mode\": \"lines\", \"name\": \"r2_score_max\", \"stepped\": true, \"type\": \"scatter\", \"data\": [0.47933211814610366, 0.47933211814610366]}], \"spearman_correlation\": [{\"categories\": [\"0\", \"16\"], \"mode\": \"markers\", \"name\": \"spearman_correlation\", \"stepped\": false, \"type\": \"scatter\", \"data\": [0.6676073968458489, 0.5551984293606975]}, {\"categories\": [\"0\", \"16\"], \"mode\": \"lines\", \"name\": \"spearman_correlation_max\", \"stepped\": true, \"type\": \"scatter\", \"data\": [0.6676073968458489, 0.6676073968458489]}], \"median_absolute_error\": [{\"categories\": [\"0\", \"16\"], \"mode\": \"markers\", \"name\": \"median_absolute_error\", \"stepped\": false, \"type\": \"scatter\", \"data\": [0.523880308881554, 0.5901124621795968]}, {\"categories\": [\"0\", \"16\"], \"mode\": \"lines\", \"name\": \"median_absolute_error_min\", \"stepped\": true, \"type\": \"scatter\", \"data\": [0.523880308881554, 0.523880308881554]}], \"mean_absolute_percentage_error\": [{\"categories\": [\"0\", \"16\"], \"mode\": \"markers\", \"name\": \"mean_absolute_percentage_error\", \"stepped\": false, \"type\": \"scatter\", \"data\": [32.33079930766579, 36.70035231825848]}, {\"categories\": [\"0\", \"16\"], \"mode\": \"lines\", \"name\": \"mean_absolute_percentage_error_min\", \"stepped\": true, \"type\": \"scatter\", \"data\": [32.33079930766579, 32.33079930766579]}], \"normalized_root_mean_squared_error\": [{\"categories\": [\"0\", \"16\"], \"mode\": \"markers\", \"name\": \"normalized_root_mean_squared_error\", \"stepped\": false, \"type\": \"scatter\", \"data\": [0.10100834891391398, 0.11269142583882213]}, {\"categories\": [\"0\", \"16\"], \"mode\": \"lines\", \"name\": \"normalized_root_mean_squared_error_min\", \"stepped\": true, \"type\": \"scatter\", \"data\": [0.10100834891391398, 0.10100834891391398]}], \"mean_absolute_error\": [{\"categories\": [\"0\", \"16\"], \"mode\": \"markers\", \"name\": \"mean_absolute_error\", \"stepped\": false, \"type\": \"scatter\", \"data\": [0.6245695528872088, 0.7074404079340124]}, {\"categories\": [\"0\", \"16\"], \"mode\": \"lines\", \"name\": \"mean_absolute_error_min\", \"stepped\": true, \"type\": \"scatter\", \"data\": [0.6245695528872088, 0.6245695528872088]}], \"root_mean_squared_error\": [{\"categories\": [\"0\", \"16\"], \"mode\": \"markers\", \"name\": \"root_mean_squared_error\", \"stepped\": false, \"type\": \"scatter\", \"data\": [0.8080667913113119, 0.9015314067105771]}, {\"categories\": [\"0\", \"16\"], \"mode\": \"lines\", \"name\": \"root_mean_squared_error_min\", \"stepped\": true, \"type\": \"scatter\", \"data\": [0.8080667913113119, 0.8080667913113119]}], \"root_mean_squared_log_error\": [{\"categories\": [\"0\", \"16\"], \"mode\": \"markers\", \"name\": \"root_mean_squared_log_error\", \"stepped\": false, \"type\": \"scatter\", \"data\": [0.2386594308771175, 0.2640128683473103]}, {\"categories\": [\"0\", \"16\"], \"mode\": \"lines\", \"name\": \"root_mean_squared_log_error_min\", \"stepped\": true, \"type\": \"scatter\", \"data\": [0.2386594308771175, 0.2386594308771175]}], \"normalized_mean_absolute_error\": [{\"categories\": [\"0\", \"16\"], \"mode\": \"markers\", \"name\": \"normalized_mean_absolute_error\", \"stepped\": false, \"type\": \"scatter\", \"data\": [0.0780711941109011, 0.08843005099175155]}, {\"categories\": [\"0\", \"16\"], \"mode\": \"lines\", \"name\": \"normalized_mean_absolute_error_min\", \"stepped\": true, \"type\": \"scatter\", \"data\": [0.0780711941109011, 0.0780711941109011]}], \"normalized_median_absolute_error\": [{\"categories\": [\"0\", \"16\"], \"mode\": \"markers\", \"name\": \"normalized_median_absolute_error\", \"stepped\": false, \"type\": \"scatter\", \"data\": [0.06548503861019425, 0.0737640577724496]}, {\"categories\": [\"0\", \"16\"], \"mode\": \"lines\", \"name\": \"normalized_median_absolute_error_min\", \"stepped\": true, \"type\": \"scatter\", \"data\": [0.06548503861019425, 0.06548503861019425]}], \"normalized_root_mean_squared_log_error\": [{\"categories\": [\"0\", \"16\"], \"mode\": \"markers\", \"name\": \"normalized_root_mean_squared_log_error\", \"stepped\": false, \"type\": \"scatter\", \"data\": [0.14828744186606801, 0.16404041827747148]}, {\"categories\": [\"0\", \"16\"], \"mode\": \"lines\", \"name\": \"normalized_root_mean_squared_log_error_min\", \"stepped\": true, \"type\": \"scatter\", \"data\": [0.14828744186606801, 0.14828744186606801]}], \"explained_variance\": [{\"categories\": [\"0\", \"16\"], \"mode\": \"markers\", \"name\": \"explained_variance\", \"stepped\": false, \"type\": \"scatter\", \"data\": [0.4793773865508101, 0.35199444112879985]}, {\"categories\": [\"0\", \"16\"], \"mode\": \"lines\", \"name\": \"explained_variance_max\", \"stepped\": true, \"type\": \"scatter\", \"data\": [0.4793773865508101, 0.4793773865508101]}]}, \"metricName\": null, \"primaryMetricName\": \"normalized_root_mean_squared_error\", \"showLegend\": false}, \"run_metrics\": [{\"name\": \"experiment_status\", \"run_id\": \"AutoML_479441af-c3b3-442a-b0da-f81ce10b714b\", \"categories\": [0, 1, 2, 3, 4], \"series\": [{\"data\": [\"DatasetEvaluation\", \"FeaturesGeneration\", \"DatasetFeaturization\", \"DatasetFeaturizationCompleted\", \"ModelSelection\"]}]}, {\"name\": \"experiment_status_description\", \"run_id\": \"AutoML_479441af-c3b3-442a-b0da-f81ce10b714b\", \"categories\": [0, 1, 2, 3, 4], \"series\": [{\"data\": [\"Gathering dataset statistics.\", \"Generating features for the dataset.\", \"Beginning to fit featurizers and featurize the dataset.\", \"Completed fit featurizers and featurizing the dataset.\", \"Beginning model selection.\"]}]}], \"run_logs\": \"Your job is submitted in Azure cloud and we are monitoring to get logs...\", \"graph\": {}, \"widget_settings\": {\"childWidgetDisplay\": \"popup\", \"send_telemetry\": false, \"log_level\": \"INFO\", \"sdk_version\": \"1.49.0\"}, \"loading\": false}"
          },
          "metadata": {},
          "output_type": "display_data"
        }
      ],
      "source": [
        "RunDetails(remote_run).show()"
      ]
    },
    {
      "cell_type": "code",
      "execution_count": 11,
      "metadata": {
        "gather": {
          "logged": 1682884385858
        }
      },
      "outputs": [],
      "source": [
        "remote_run.wait_for_completion()"
      ]
    },
    {
      "attachments": {},
      "cell_type": "markdown",
      "metadata": {},
      "source": [
        "## Best Model\n",
        "\n",
        "TODO: In the cell below, get the best model from the automl experiments and display all the properties of the model.\n",
        "\n"
      ]
    },
    {
      "cell_type": "code",
      "execution_count": 14,
      "metadata": {
        "gather": {
          "logged": 1598431426111
        },
        "jupyter": {
          "outputs_hidden": false,
          "source_hidden": false
        },
        "nteract": {
          "transient": {
            "deleting": false
          }
        }
      },
      "outputs": [],
      "source": [
        "#TODO: Save the best model"
      ]
    },
    {
      "cell_type": "code",
      "execution_count": 48,
      "metadata": {
        "gather": {
          "logged": 1682974865012
        },
        "jupyter": {
          "outputs_hidden": false,
          "source_hidden": false
        },
        "nteract": {
          "transient": {
            "deleting": false
          }
        }
      },
      "outputs": [
        {
          "name": "stderr",
          "output_type": "stream",
          "text": [
            "WARNING:root:The version of the SDK does not match the version the model was trained on.\n",
            "WARNING:root:The consistency in the result may not be guaranteed.\n",
            "WARNING:root:Package:azureml-automl-core, training version:1.50.0, current version:1.49.0\n",
            "Package:azureml-automl-runtime, training version:1.50.0, current version:1.49.0\n",
            "Package:azureml-core, training version:1.50.0, current version:1.49.0\n",
            "Package:azureml-dataprep, training version:4.10.6, current version:4.9.1\n",
            "Package:azureml-dataprep-rslex, training version:2.17.5, current version:2.16.1\n",
            "Package:azureml-dataset-runtime, training version:1.50.0, current version:1.49.0\n",
            "Package:azureml-defaults, training version:1.50.0, current version:1.49.0\n",
            "Package:azureml-interpret, training version:1.50.0, current version:1.49.0\n",
            "Package:azureml-mlflow, training version:1.50.0, current version:1.49.0\n",
            "Package:azureml-pipeline-core, training version:1.50.0.post1, current version:1.49.0\n",
            "Package:azureml-responsibleai, training version:1.50.0, current version:1.49.0\n",
            "Package:azureml-telemetry, training version:1.50.0, current version:1.49.0\n",
            "Package:azureml-train-automl-client, training version:1.50.0, current version:1.49.0\n",
            "Package:azureml-train-automl-runtime, training version:1.50.0, current version:1.49.0\n",
            "Package:azureml-train-core, training version:1.50.0, current version:1.49.0\n",
            "Package:azureml-train-restclients-hyperdrive, training version:1.50.0, current version:1.49.0\n",
            "Package:azureml-training-tabular, training version:1.50.0, current version:1.49.0\n",
            "WARNING:root:Please ensure the version of your local conda dependencies match the version on which your model was trained in order to properly retrieve your model.\n"
          ]
        },
        {
          "name": "stdout",
          "output_type": "stream",
          "text": [
            "Run(Experiment: Project_3_Experiment_AutoML,\n",
            "Id: AutoML_0fc27147-a804-4625-89c0-e1b55d186c58_20,\n",
            "Type: azureml.scriptrun,\n",
            "Status: Completed)\n",
            "RegressionPipeline(pipeline=Pipeline(memory=None,\n",
            "                                     steps=[('datatransformer',\n",
            "                                             DataTransformer(enable_dnn=False, enable_feature_sweeping=True, feature_sweeping_config={}, feature_sweeping_timeout=86400, featurization_config=None, force_text_dnn=False, is_cross_validation=False, is_onnx_compatible=False, observer=None, task='regression', working_dir='/mnt/batch/t...\n",
            "                                             PreFittedSoftVotingRegressor(estimators=[('0', Pipeline(memory=None, steps=[('maxabsscaler', MaxAbsScaler(copy=True)), ('lightgbmregressor', LightGBMRegressor(min_data_in_leaf=20, n_jobs=1, problem_info=ProblemInfo(gpu_training_param_dict={'processing_unit_type': 'cpu'}), random_state=None))], verbose=False)), ('1', Pipeline(memory=None, steps=[('maxabsscaler', MaxAbsScaler(copy=True)), ('xgboostregressor', XGBoostRegressor(n_jobs=1, problem_info=ProblemInfo(gpu_training_param_dict={'processing_unit_type': 'cpu'}), random_state=0, tree_method='auto'))], verbose=False))], weights=[0.625, 0.375]))],\n",
            "                                     verbose=False),\n",
            "                   stddev=[0.8065362260784928])\n"
          ]
        }
      ],
      "source": [
        "best_run, fitted_model = remote_run.get_output()\n",
        "print(best_run)\n",
        "print(fitted_model)"
      ]
    },
    {
      "cell_type": "code",
      "execution_count": 50,
      "metadata": {
        "gather": {
          "logged": 1682974914065
        },
        "jupyter": {
          "outputs_hidden": false,
          "source_hidden": false
        },
        "nteract": {
          "transient": {
            "deleting": false
          }
        }
      },
      "outputs": [
        {
          "data": {
            "text/plain": [
              "'AutoML_0fc27147-a804-4625-89c0-e1b55d186c58_20'"
            ]
          },
          "execution_count": 50,
          "metadata": {},
          "output_type": "execute_result"
        },
        {
          "name": "stderr",
          "output_type": "stream",
          "text": [
            "WARNING:urllib3.connectionpool:Retrying (Retry(total=2, connect=2, read=3, redirect=None, status=None)) after connection broken by 'ConnectTimeoutError(<urllib3.connection.HTTPSConnection object at 0x7f0d796befa0>, 'Connection to westeurope.experiments.azureml.net timed out. (connect timeout=100)')': /history/v1.0/subscriptions/9b72f9e6-56c5-4c16-991b-19c652994860/resourceGroups/aml-quickstarts-232431/providers/Microsoft.MachineLearningServices/workspaces/quick-starts-ws-232431/experimentids/153d7fd5-dda7-49ed-84f0-5405ac5b17ab/runs/AutoML_0fc27147-a804-4625-89c0-e1b55d186c58\n",
            "WARNING:urllib3.connectionpool:Retrying (Retry(total=2, connect=2, read=3, redirect=None, status=None)) after connection broken by 'ConnectTimeoutError(<urllib3.connection.HTTPSConnection object at 0x7f0d79688b50>, 'Connection to westeurope.experiments.azureml.net timed out. (connect timeout=100)')': /artifact/v2.0/subscriptions/9b72f9e6-56c5-4c16-991b-19c652994860/resourceGroups/aml-quickstarts-232431/providers/Microsoft.MachineLearningServices/workspaces/quick-starts-ws-232431/artifacts/prefix/contentinfo/ExperimentRun/dcid.AutoML_0fc27147-a804-4625-89c0-e1b55d186c58/user_logs\n",
            "WARNING:urllib3.connectionpool:Retrying (Retry(total=2, connect=2, read=3, redirect=None, status=None)) after connection broken by 'ConnectTimeoutError(<urllib3.connection.HTTPSConnection object at 0x7f0d79688a90>, 'Connection to westeurope.experiments.azureml.net timed out. (connect timeout=100)')': /artifact/v2.0/subscriptions/9b72f9e6-56c5-4c16-991b-19c652994860/resourceGroups/aml-quickstarts-232431/providers/Microsoft.MachineLearningServices/workspaces/quick-starts-ws-232431/artifacts/prefix/contentinfo/ExperimentRun/dcid.AutoML_b1811d1d-1fe3-4bc0-8741-597f5c61e5c8/system_logs\n",
            "WARNING:urllib3.connectionpool:Retrying (Retry(total=2, connect=2, read=3, redirect=None, status=None)) after connection broken by 'ConnectTimeoutError(<urllib3.connection.HTTPSConnection object at 0x7f0d7977f9a0>, 'Connection to westeurope.experiments.azureml.net timed out. (connect timeout=100)')': /history/v1.0/subscriptions/9b72f9e6-56c5-4c16-991b-19c652994860/resourceGroups/aml-quickstarts-232431/providers/Microsoft.MachineLearningServices/workspaces/quick-starts-ws-232431/experiments/Project_3_Experiment_AutoML/runs/AutoML_0fc27147-a804-4625-89c0-e1b55d186c58/details\n",
            "WARNING:urllib3.connectionpool:Retrying (Retry(total=2, connect=2, read=3, redirect=None, status=None)) after connection broken by 'ConnectTimeoutError(<urllib3.connection.HTTPSConnection object at 0x7f0d796244c0>, 'Connection to westeurope.experiments.azureml.net timed out. (connect timeout=100)')': /history/v1.0/subscriptions/9b72f9e6-56c5-4c16-991b-19c652994860/resourceGroups/aml-quickstarts-232431/providers/Microsoft.MachineLearningServices/workspaces/quick-starts-ws-232431/experiments/Project_3_Experiment_AutoML/metrics:query?mergestrategytype=None\n",
            "WARNING:urllib3.connectionpool:Retrying (Retry(total=1, connect=1, read=3, redirect=None, status=None)) after connection broken by 'ConnectTimeoutError(<urllib3.connection.HTTPSConnection object at 0x7f0d796242e0>, 'Connection to westeurope.experiments.azureml.net timed out. (connect timeout=100)')': /artifact/v2.0/subscriptions/9b72f9e6-56c5-4c16-991b-19c652994860/resourceGroups/aml-quickstarts-232431/providers/Microsoft.MachineLearningServices/workspaces/quick-starts-ws-232431/artifacts/prefix/contentinfo/ExperimentRun/dcid.AutoML_0fc27147-a804-4625-89c0-e1b55d186c58/user_logs\n",
            "WARNING:urllib3.connectionpool:Retrying (Retry(total=1, connect=1, read=3, redirect=None, status=None)) after connection broken by 'ConnectTimeoutError(<urllib3.connection.HTTPSConnection object at 0x7f0d79624eb0>, 'Connection to westeurope.experiments.azureml.net timed out. (connect timeout=100)')': /artifact/v2.0/subscriptions/9b72f9e6-56c5-4c16-991b-19c652994860/resourceGroups/aml-quickstarts-232431/providers/Microsoft.MachineLearningServices/workspaces/quick-starts-ws-232431/artifacts/prefix/contentinfo/ExperimentRun/dcid.AutoML_b1811d1d-1fe3-4bc0-8741-597f5c61e5c8/system_logs\n",
            "WARNING:urllib3.connectionpool:Retrying (Retry(total=2, connect=2, read=3, redirect=None, status=None)) after connection broken by 'ConnectTimeoutError(<urllib3.connection.HTTPSConnection object at 0x7f0d79620cd0>, 'Connection to westeurope.experiments.azureml.net timed out. (connect timeout=100)')': /artifact/v2.0/subscriptions/9b72f9e6-56c5-4c16-991b-19c652994860/resourceGroups/aml-quickstarts-232431/providers/Microsoft.MachineLearningServices/workspaces/quick-starts-ws-232431/artifacts/prefix/contentinfo/ExperimentRun/dcid.AutoML_0fc27147-a804-4625-89c0-e1b55d186c58/system_logs\n",
            "WARNING:urllib3.connectionpool:Retrying (Retry(total=1, connect=1, read=3, redirect=None, status=None)) after connection broken by 'ConnectTimeoutError(<urllib3.connection.HTTPSConnection object at 0x7f0d796be040>, 'Connection to westeurope.experiments.azureml.net timed out. (connect timeout=100)')': /history/v1.0/subscriptions/9b72f9e6-56c5-4c16-991b-19c652994860/resourceGroups/aml-quickstarts-232431/providers/Microsoft.MachineLearningServices/workspaces/quick-starts-ws-232431/experiments/Project_3_Experiment_AutoML/metrics:query?mergestrategytype=None\n",
            "WARNING:urllib3.connectionpool:Retrying (Retry(total=2, connect=2, read=3, redirect=None, status=None)) after connection broken by 'ConnectTimeoutError(<urllib3.connection.HTTPSConnection object at 0x7f0d796be6a0>, 'Connection to westeurope.experiments.azureml.net timed out. (connect timeout=100)')': /history/v1.0/subscriptions/9b72f9e6-56c5-4c16-991b-19c652994860/resourceGroups/aml-quickstarts-232431/providers/Microsoft.MachineLearningServices/workspaces/quick-starts-ws-232431/experiments/Project_3_Experiment_AutoML/runs/AutoML_b1811d1d-1fe3-4bc0-8741-597f5c61e5c8/children?$orderby=StartTimeUtc%20desc&$top=500\n",
            "WARNING:urllib3.connectionpool:Retrying (Retry(total=0, connect=0, read=3, redirect=None, status=None)) after connection broken by 'ConnectTimeoutError(<urllib3.connection.HTTPSConnection object at 0x7f0d79620c70>, 'Connection to westeurope.experiments.azureml.net timed out. (connect timeout=100)')': /artifact/v2.0/subscriptions/9b72f9e6-56c5-4c16-991b-19c652994860/resourceGroups/aml-quickstarts-232431/providers/Microsoft.MachineLearningServices/workspaces/quick-starts-ws-232431/artifacts/prefix/contentinfo/ExperimentRun/dcid.AutoML_0fc27147-a804-4625-89c0-e1b55d186c58/user_logs\n",
            "WARNING:urllib3.connectionpool:Retrying (Retry(total=2, connect=2, read=3, redirect=None, status=None)) after connection broken by 'ConnectTimeoutError(<urllib3.connection.HTTPSConnection object at 0x7f0d795284c0>, 'Connection to westeurope.experiments.azureml.net timed out. (connect timeout=100)')': /history/v1.0/subscriptions/9b72f9e6-56c5-4c16-991b-19c652994860/resourceGroups/aml-quickstarts-232431/providers/Microsoft.MachineLearningServices/workspaces/quick-starts-ws-232431/experiments/Project_3_Experiment_AutoML/runs/AutoML_0fc27147-a804-4625-89c0-e1b55d186c58/children?$orderby=StartTimeUtc%20desc&$top=500\n",
            "WARNING:urllib3.connectionpool:Retrying (Retry(total=2, connect=2, read=3, redirect=None, status=None)) after connection broken by 'ConnectTimeoutError(<urllib3.connection.HTTPSConnection object at 0x7f0d7952f100>, 'Connection to westeurope.experiments.azureml.net timed out. (connect timeout=100)')': /history/v1.0/subscriptions/9b72f9e6-56c5-4c16-991b-19c652994860/resourceGroups/aml-quickstarts-232431/providers/Microsoft.MachineLearningServices/workspaces/quick-starts-ws-232431/experimentids/153d7fd5-dda7-49ed-84f0-5405ac5b17ab/runs/AutoML_0fc27147-a804-4625-89c0-e1b55d186c58\n",
            "WARNING:urllib3.connectionpool:Retrying (Retry(total=2, connect=2, read=3, redirect=None, status=None)) after connection broken by 'ConnectTimeoutError(<urllib3.connection.HTTPSConnection object at 0x7f0d795286d0>, 'Connection to westeurope.experiments.azureml.net timed out. (connect timeout=100)')': /history/v1.0/subscriptions/9b72f9e6-56c5-4c16-991b-19c652994860/resourceGroups/aml-quickstarts-232431/providers/Microsoft.MachineLearningServices/workspaces/quick-starts-ws-232431/experimentids/153d7fd5-dda7-49ed-84f0-5405ac5b17ab/runs/AutoML_b1811d1d-1fe3-4bc0-8741-597f5c61e5c8\n",
            "WARNING:urllib3.connectionpool:Retrying (Retry(total=1, connect=1, read=3, redirect=None, status=None)) after connection broken by 'ConnectTimeoutError(<urllib3.connection.HTTPSConnection object at 0x7f0d79528d90>, 'Connection to westeurope.experiments.azureml.net timed out. (connect timeout=100)')': /history/v1.0/subscriptions/9b72f9e6-56c5-4c16-991b-19c652994860/resourceGroups/aml-quickstarts-232431/providers/Microsoft.MachineLearningServices/workspaces/quick-starts-ws-232431/experiments/Project_3_Experiment_AutoML/runs/AutoML_0fc27147-a804-4625-89c0-e1b55d186c58/children?$orderby=StartTimeUtc%20desc&$top=500\n",
            "WARNING:urllib3.connectionpool:Retrying (Retry(total=2, connect=2, read=3, redirect=None, status=None)) after connection broken by 'ConnectTimeoutError(<urllib3.connection.HTTPSConnection object at 0x7f0d7951d4f0>, 'Connection to westeurope.experiments.azureml.net timed out. (connect timeout=100)')': /history/v1.0/subscriptions/9b72f9e6-56c5-4c16-991b-19c652994860/resourceGroups/aml-quickstarts-232431/providers/Microsoft.MachineLearningServices/workspaces/quick-starts-ws-232431/experimentids/153d7fd5-dda7-49ed-84f0-5405ac5b17ab/runs/AutoML_0fc27147-a804-4625-89c0-e1b55d186c58\n",
            "WARNING:urllib3.connectionpool:Retrying (Retry(total=2, connect=2, read=3, redirect=None, status=None)) after connection broken by 'ConnectTimeoutError(<urllib3.connection.HTTPSConnection object at 0x7f0d7950d6a0>, 'Connection to westeurope.experiments.azureml.net timed out. (connect timeout=100)')': /history/v1.0/subscriptions/9b72f9e6-56c5-4c16-991b-19c652994860/resourceGroups/aml-quickstarts-232431/providers/Microsoft.MachineLearningServices/workspaces/quick-starts-ws-232431/experimentids/153d7fd5-dda7-49ed-84f0-5405ac5b17ab/runs/AutoML_b1811d1d-1fe3-4bc0-8741-597f5c61e5c8\n",
            "WARNING:urllib3.connectionpool:Retrying (Retry(total=0, connect=0, read=3, redirect=None, status=None)) after connection broken by 'ConnectTimeoutError(<urllib3.connection.HTTPSConnection object at 0x7f0d7952f700>, 'Connection to westeurope.experiments.azureml.net timed out. (connect timeout=100)')': /history/v1.0/subscriptions/9b72f9e6-56c5-4c16-991b-19c652994860/resourceGroups/aml-quickstarts-232431/providers/Microsoft.MachineLearningServices/workspaces/quick-starts-ws-232431/experiments/Project_3_Experiment_AutoML/runs/AutoML_0fc27147-a804-4625-89c0-e1b55d186c58/children?$orderby=StartTimeUtc%20desc&$top=500\n",
            "WARNING:urllib3.connectionpool:Retrying (Retry(total=2, connect=2, read=3, redirect=None, status=None)) after connection broken by 'ConnectTimeoutError(<urllib3.connection.HTTPSConnection object at 0x7f0d7951dac0>, 'Connection to westeurope.experiments.azureml.net timed out. (connect timeout=100)')': /history/v1.0/subscriptions/9b72f9e6-56c5-4c16-991b-19c652994860/resourceGroups/aml-quickstarts-232431/providers/Microsoft.MachineLearningServices/workspaces/quick-starts-ws-232431/experimentids/153d7fd5-dda7-49ed-84f0-5405ac5b17ab/runs/AutoML_0fc27147-a804-4625-89c0-e1b55d186c58\n",
            "WARNING:urllib3.connectionpool:Retrying (Retry(total=2, connect=2, read=3, redirect=None, status=None)) after connection broken by 'ConnectTimeoutError(<urllib3.connection.HTTPSConnection object at 0x7f0d79528b20>, 'Connection to westeurope.experiments.azureml.net timed out. (connect timeout=100)')': /artifact/v2.0/subscriptions/9b72f9e6-56c5-4c16-991b-19c652994860/resourceGroups/aml-quickstarts-232431/providers/Microsoft.MachineLearningServices/workspaces/quick-starts-ws-232431/artifacts/prefix/contentinfo/ExperimentRun/dcid.AutoML_b1811d1d-1fe3-4bc0-8741-597f5c61e5c8/system_logs\n",
            "WARNING:urllib3.connectionpool:Retrying (Retry(total=2, connect=2, read=3, redirect=None, status=None)) after connection broken by 'ConnectTimeoutError(<urllib3.connection.HTTPSConnection object at 0x7f0d774c39d0>, 'Connection to westeurope.experiments.azureml.net timed out. (connect timeout=100)')': /history/v1.0/subscriptions/9b72f9e6-56c5-4c16-991b-19c652994860/resourceGroups/aml-quickstarts-232431/providers/Microsoft.MachineLearningServices/workspaces/quick-starts-ws-232431/experimentids/153d7fd5-dda7-49ed-84f0-5405ac5b17ab/runs/AutoML_0fc27147-a804-4625-89c0-e1b55d186c58\n",
            "WARNING:urllib3.connectionpool:Retrying (Retry(total=2, connect=2, read=3, redirect=None, status=None)) after connection broken by 'ConnectTimeoutError(<urllib3.connection.HTTPSConnection object at 0x7f0d774c6280>, 'Connection to westeurope.experiments.azureml.net timed out. (connect timeout=100)')': /history/v1.0/subscriptions/9b72f9e6-56c5-4c16-991b-19c652994860/resourceGroups/aml-quickstarts-232431/providers/Microsoft.MachineLearningServices/workspaces/quick-starts-ws-232431/experiments/Project_3_Experiment_AutoML/metrics:query?mergestrategytype=None\n",
            "WARNING:urllib3.connectionpool:Retrying (Retry(total=2, connect=2, read=3, redirect=None, status=None)) after connection broken by 'ConnectTimeoutError(<urllib3.connection.HTTPSConnection object at 0x7f0d774c6dc0>, 'Connection to westeurope.experiments.azureml.net timed out. (connect timeout=100)')': /history/v1.0/subscriptions/9b72f9e6-56c5-4c16-991b-19c652994860/resourceGroups/aml-quickstarts-232431/providers/Microsoft.MachineLearningServices/workspaces/quick-starts-ws-232431/experiments/Project_3_Experiment_AutoML/runs/AutoML_0fc27147-a804-4625-89c0-e1b55d186c58/details\n",
            "WARNING:urllib3.connectionpool:Retrying (Retry(total=1, connect=1, read=3, redirect=None, status=None)) after connection broken by 'ConnectTimeoutError(<urllib3.connection.HTTPSConnection object at 0x7f0d774c66a0>, 'Connection to westeurope.experiments.azureml.net timed out. (connect timeout=100)')': /artifact/v2.0/subscriptions/9b72f9e6-56c5-4c16-991b-19c652994860/resourceGroups/aml-quickstarts-232431/providers/Microsoft.MachineLearningServices/workspaces/quick-starts-ws-232431/artifacts/prefix/contentinfo/ExperimentRun/dcid.AutoML_b1811d1d-1fe3-4bc0-8741-597f5c61e5c8/system_logs\n",
            "WARNING:urllib3.connectionpool:Retrying (Retry(total=1, connect=1, read=3, redirect=None, status=None)) after connection broken by 'ConnectTimeoutError(<urllib3.connection.HTTPSConnection object at 0x7f0d79616d90>, 'Connection to westeurope.experiments.azureml.net timed out. (connect timeout=100)')': /history/v1.0/subscriptions/9b72f9e6-56c5-4c16-991b-19c652994860/resourceGroups/aml-quickstarts-232431/providers/Microsoft.MachineLearningServices/workspaces/quick-starts-ws-232431/experiments/Project_3_Experiment_AutoML/runs/AutoML_0fc27147-a804-4625-89c0-e1b55d186c58/details\n",
            "WARNING:urllib3.connectionpool:Retrying (Retry(total=0, connect=0, read=3, redirect=None, status=None)) after connection broken by 'ConnectTimeoutError(<urllib3.connection.HTTPSConnection object at 0x7f0d7f9e1670>, 'Connection to westeurope.experiments.azureml.net timed out. (connect timeout=100)')': /artifact/v2.0/subscriptions/9b72f9e6-56c5-4c16-991b-19c652994860/resourceGroups/aml-quickstarts-232431/providers/Microsoft.MachineLearningServices/workspaces/quick-starts-ws-232431/artifacts/prefix/contentinfo/ExperimentRun/dcid.AutoML_b1811d1d-1fe3-4bc0-8741-597f5c61e5c8/system_logs\n",
            "WARNING:urllib3.connectionpool:Retrying (Retry(total=2, connect=2, read=3, redirect=None, status=None)) after connection broken by 'ConnectTimeoutError(<urllib3.connection.HTTPSConnection object at 0x7f0d773ccf70>, 'Connection to westeurope.experiments.azureml.net timed out. (connect timeout=100)')': /history/v1.0/subscriptions/9b72f9e6-56c5-4c16-991b-19c652994860/resourceGroups/aml-quickstarts-232431/providers/Microsoft.MachineLearningServices/workspaces/quick-starts-ws-232431/experiments/Project_3_Experiment_AutoML/runs/AutoML_b1811d1d-1fe3-4bc0-8741-597f5c61e5c8/children?$orderby=StartTimeUtc%20desc&$top=500\n"
          ]
        }
      ],
      "source": [
        "best_run.id"
      ]
    },
    {
      "cell_type": "code",
      "execution_count": 49,
      "metadata": {
        "gather": {
          "logged": 1682974880068
        }
      },
      "outputs": [
        {
          "data": {
            "text/plain": [
              "{'normalized_root_mean_squared_error': 0.10082166967691142,\n",
              " 'root_mean_squared_log_error': 0.23816938096473475,\n",
              " 'explained_variance': 0.48130265187921506,\n",
              " 'normalized_median_absolute_error': 0.0653096154903828,\n",
              " 'normalized_root_mean_squared_log_error': 0.14798295673582676,\n",
              " 'normalized_mean_absolute_error': 0.07784708716317647,\n",
              " 'mean_absolute_percentage_error': 32.22403919573907,\n",
              " 'mean_absolute_error': 0.6227766973054117,\n",
              " 'r2_score': 0.4812548911744846,\n",
              " 'spearman_correlation': 0.6693378895384264,\n",
              " 'root_mean_squared_error': 0.8065733574152913,\n",
              " 'median_absolute_error': 0.5224769239230624,\n",
              " 'residuals': 'aml://artifactId/ExperimentRun/dcid.AutoML_0fc27147-a804-4625-89c0-e1b55d186c58_20/residuals',\n",
              " 'predicted_true': 'aml://artifactId/ExperimentRun/dcid.AutoML_0fc27147-a804-4625-89c0-e1b55d186c58_20/predicted_true'}"
            ]
          },
          "execution_count": 49,
          "metadata": {},
          "output_type": "execute_result"
        }
      ],
      "source": [
        "best_run.get_metrics()"
      ]
    },
    {
      "attachments": {},
      "cell_type": "markdown",
      "metadata": {},
      "source": [
        "## Model Deployment\n",
        "\n",
        "Remember you have to deploy only one of the two models you trained but you still need to register both the models. Perform the steps in the rest of this notebook only if you wish to deploy this model.\n",
        "\n",
        "TODO: In the cell below, register the model, create an inference config and deploy the model as a web service."
      ]
    },
    {
      "cell_type": "code",
      "execution_count": 34,
      "metadata": {
        "gather": {
          "logged": 1682973320521
        }
      },
      "outputs": [],
      "source": [
        "model = best_run.register_model(\n",
        "    model_name='AutoML_Behavioral_Model', \n",
        "    model_path='outputs/model.pkl', \n",
        "    description='AutoML Model for Behavioral Dataset')"
      ]
    },
    {
      "cell_type": "code",
      "execution_count": 35,
      "metadata": {
        "gather": {
          "logged": 1682973324249
        }
      },
      "outputs": [
        {
          "data": {
            "text/plain": [
              "Model(workspace=Workspace.create(name='quick-starts-ws-232431', subscription_id='9b72f9e6-56c5-4c16-991b-19c652994860', resource_group='aml-quickstarts-232431'), name=AutoML_Behavioral_Model, id=AutoML_Behavioral_Model:1, version=1, tags={}, properties={})"
            ]
          },
          "execution_count": 35,
          "metadata": {},
          "output_type": "execute_result"
        }
      ],
      "source": [
        "model"
      ]
    },
    {
      "cell_type": "code",
      "execution_count": 36,
      "metadata": {
        "gather": {
          "logged": 1682973328225
        }
      },
      "outputs": [],
      "source": [
        "best_run.download_files(output_directory='automl_output_dir')"
      ]
    },
    {
      "cell_type": "code",
      "execution_count": 37,
      "metadata": {
        "gather": {
          "logged": 1682973328385
        }
      },
      "outputs": [],
      "source": [
        "env = Environment.from_conda_specification(\"AutoML-env\", \"automl_output_dir/outputs/conda_env_v_1_0_0.yml\")\n",
        "inference_config = InferenceConfig(entry_script='automl_output_dir/outputs/scoring_file_v_2_0_0.py',\n",
        "                                   environment=env)"
      ]
    },
    {
      "cell_type": "code",
      "execution_count": 38,
      "metadata": {
        "gather": {
          "logged": 1682973329520
        }
      },
      "outputs": [],
      "source": [
        "deployment_config = AciWebservice.deploy_configuration(\n",
        "    enable_app_insights=True,\n",
        "    auth_enabled=True) "
      ]
    },
    {
      "cell_type": "code",
      "execution_count": 39,
      "metadata": {
        "gather": {
          "logged": 1682973340749
        }
      },
      "outputs": [],
      "source": [
        "service = Model.deploy(ws, \"behavioral-model-endpoint\", [model], inference_config, deployment_config, overwrite=True)"
      ]
    },
    {
      "cell_type": "code",
      "execution_count": 40,
      "metadata": {
        "gather": {
          "logged": 1682974722968
        }
      },
      "outputs": [
        {
          "name": "stdout",
          "output_type": "stream",
          "text": [
            "Tips: You can try get_logs(): https://aka.ms/debugimage#dockerlog or local deployment: https://aka.ms/debugimage#debug-locally to debug if deployment takes longer than 10 minutes.\n",
            "Running\n",
            "2023-05-01 20:35:33+00:00 Creating Container Registry if not exists.\n",
            "2023-05-01 20:35:34+00:00 Registering the environment.\n",
            "2023-05-01 20:35:35+00:00 Building image..\n",
            "2023-05-01 20:55:53+00:00 Generating deployment configuration.\n",
            "2023-05-01 20:55:54+00:00 Submitting deployment to compute..\n",
            "2023-05-01 20:55:59+00:00 Checking the status of deployment behavioral-model-endpoint..\n",
            "2023-05-01 20:58:05+00:00 Checking the status of inference endpoint behavioral-model-endpoint.\n",
            "Succeeded\n",
            "ACI service creation operation finished, operation \"Succeeded\"\n"
          ]
        }
      ],
      "source": [
        "service.wait_for_deployment(show_output = True)"
      ]
    },
    {
      "attachments": {},
      "cell_type": "markdown",
      "metadata": {
        "collapsed": true,
        "gather": {
          "logged": 1598431657736
        },
        "jupyter": {
          "outputs_hidden": false,
          "source_hidden": false
        },
        "nteract": {
          "transient": {
            "deleting": false
          }
        }
      },
      "source": [
        "Create sample data from original file"
      ]
    },
    {
      "cell_type": "code",
      "execution_count": 41,
      "metadata": {
        "gather": {
          "logged": 1682974733169
        }
      },
      "outputs": [],
      "source": [
        "pandas_df = dataset.to_pandas_dataframe()\n",
        "pandas_df.pop('GENHLTH')\n",
        "sample_pandas = pandas_df.iloc[:5]\n",
        "df_dict = sample_pandas.to_dict('records')\n",
        "data_dict = {\"Inputs\": {\"data\": df_dict}}"
      ]
    },
    {
      "cell_type": "code",
      "execution_count": 42,
      "metadata": {
        "gather": {
          "logged": 1682974739082
        }
      },
      "outputs": [
        {
          "name": "stdout",
          "output_type": "stream",
          "text": [
            "b'{\"Results\": [4.27616945127904, 2.560542597523808, 3.63977787743829, 4.806087360910714, 2.973141870722119]}'\n"
          ]
        }
      ],
      "source": [
        "def allowSelfSignedHttps(allowed):\n",
        "    if allowed and not os.environ.get('PYTHONHTTPSVERIFY', '') and getattr(ssl, '_create_unverified_context', None):\n",
        "        ssl._create_default_https_context = ssl._create_unverified_context\n",
        "allowSelfSignedHttps(True)\n",
        "\n",
        "\n",
        "data =  data_dict\n",
        "body = str.encode(json.dumps(data))\n",
        "\n",
        "endpoints = Webservice.list(ws, model_name=model.name)\n",
        "url = endpoints[0].scoring_uri\n",
        "\n",
        "api_key = service.get_keys()[0]\n",
        "if not api_key:\n",
        "    raise Exception(\"A key should be provided to invoke the endpoint\")\n",
        "\n",
        "\n",
        "headers = {'Content-Type':'application/json', 'Authorization':('Bearer '+ api_key)}\n",
        "\n",
        "req = urllib.request.Request(url, body, headers)\n",
        "\n",
        "try:\n",
        "    response = urllib.request.urlopen(req)\n",
        "    print(response.read())\n",
        "except urllib.error.HTTPError as error:\n",
        "    print(\"Request failed with status code: \" + str(error.code))"
      ]
    },
    {
      "cell_type": "code",
      "execution_count": null,
      "metadata": {
        "jupyter": {
          "outputs_hidden": false,
          "source_hidden": false
        },
        "nteract": {
          "transient": {
            "deleting": false
          }
        }
      },
      "outputs": [],
      "source": [
        "print(\"Scoring_uri: \" + url)"
      ]
    },
    {
      "attachments": {},
      "cell_type": "markdown",
      "metadata": {
        "collapsed": true,
        "gather": {
          "logged": 1598432765711
        },
        "jupyter": {
          "outputs_hidden": false,
          "source_hidden": false
        },
        "nteract": {
          "transient": {
            "deleting": false
          }
        }
      },
      "source": [
        "TODO: In the cell below, print the logs of the web service and delete the service"
      ]
    },
    {
      "cell_type": "code",
      "execution_count": 43,
      "metadata": {
        "gather": {
          "logged": 1682974739750
        },
        "jupyter": {
          "outputs_hidden": false,
          "source_hidden": false
        },
        "nteract": {
          "transient": {
            "deleting": false
          }
        }
      },
      "outputs": [
        {
          "data": {
            "text/plain": [
              "'/bin/bash: /azureml-envs/azureml_399903ab218c6bc60c3ac2efb6ffbdcd/lib/libtinfo.so.6: no version information available (required by /bin/bash)\\n/bin/bash: /azureml-envs/azureml_399903ab218c6bc60c3ac2efb6ffbdcd/lib/libtinfo.so.6: no version information available (required by /bin/bash)\\n/bin/bash: /azureml-envs/azureml_399903ab218c6bc60c3ac2efb6ffbdcd/lib/libtinfo.so.6: no version information available (required by /bin/bash)\\n/bin/bash: /azureml-envs/azureml_399903ab218c6bc60c3ac2efb6ffbdcd/lib/libtinfo.so.6: no version information available (required by /bin/bash)\\n2023-05-01T20:57:47,008161800+00:00 - iot-server/run \\n2023-05-01T20:57:47,007852300+00:00 - rsyslog/run \\nbash: /azureml-envs/azureml_399903ab218c6bc60c3ac2efb6ffbdcd/lib/libtinfo.so.6: no version information available (required by bash)\\n2023-05-01T20:57:47,025982800+00:00 - gunicorn/run \\n2023-05-01T20:57:47,031034800+00:00 | gunicorn/run | \\n2023-05-01T20:57:47,035790100+00:00 - nginx/run \\n2023-05-01T20:57:47,104078300+00:00 | gunicorn/run | ###############################################\\n2023-05-01T20:57:47,120016500+00:00 | gunicorn/run | AzureML Container Runtime Information\\n2023-05-01T20:57:47,202378200+00:00 | gunicorn/run | ###############################################\\n2023-05-01T20:57:47,215665800+00:00 | gunicorn/run | \\n2023-05-01T20:57:47,225647300+00:00 | gunicorn/run | \\n2023-05-01T20:57:47,315300800+00:00 | gunicorn/run | AzureML image information: openmpi4.1.0-ubuntu20.04, Materializaton Build:20230120.v2\\n2023-05-01T20:57:47,321760500+00:00 | gunicorn/run | \\n2023-05-01T20:57:47,326514900+00:00 | gunicorn/run | \\n2023-05-01T20:57:47,331028900+00:00 | gunicorn/run | PATH environment variable: /azureml-envs/azureml_399903ab218c6bc60c3ac2efb6ffbdcd/bin:/opt/miniconda/bin:/usr/local/sbin:/usr/local/bin:/usr/sbin:/usr/bin:/sbin:/bin\\n2023-05-01T20:57:47,335686400+00:00 | gunicorn/run | PYTHONPATH environment variable: \\n2023-05-01T20:57:47,403545000+00:00 | gunicorn/run | \\n2023-05-01T20:57:47,410211900+00:00 | gunicorn/run | Pip Dependencies (before dynamic installation)\\n\\nEdgeHubConnectionString and IOTEDGE_IOTHUBHOSTNAME are not set. Exiting...\\n/bin/bash: /azureml-envs/azureml_399903ab218c6bc60c3ac2efb6ffbdcd/lib/libtinfo.so.6: no version information available (required by /bin/bash)\\n2023-05-01T20:57:48,008008000+00:00 - iot-server/finish 1 0\\n2023-05-01T20:57:48,012626100+00:00 - Exit code 1 is normal. Not restarting iot-server.\\nadal==1.2.7\\napplicationinsights==0.11.10\\narch==5.3.1\\nargcomplete==2.1.2\\narviz @ file:///tmp/build/80754af9/arviz_1614019183254/work\\nattrs==23.1.0\\nazure-common==1.1.28\\nazure-core==1.26.4\\nazure-graphrbac==0.61.1\\nazure-identity==1.12.0\\nazure-mgmt-authorization==3.0.0\\nazure-mgmt-containerregistry==10.1.0\\nazure-mgmt-core==1.4.0\\nazure-mgmt-keyvault==10.2.1\\nazure-mgmt-resource==22.0.0\\nazure-mgmt-storage==21.0.0\\nazure-storage-blob==12.13.0\\nazure-storage-queue==12.6.0\\nazureml-automl-core==1.50.0\\nazureml-automl-runtime==1.50.0.post1\\nazureml-core==1.50.0\\nazureml-dataprep==4.10.7\\nazureml-dataprep-native==38.0.0\\nazureml-dataprep-rslex==2.17.7\\nazureml-dataset-runtime==1.50.0\\nazureml-defaults==1.50.0\\nazureml-inference-server-http==0.8.4\\nazureml-interpret==1.50.0\\nazureml-mlflow==1.50.0\\nazureml-telemetry==1.50.0\\nazureml-train-automl-client==1.50.0\\nazureml-train-automl-runtime==1.50.0\\nazureml-train-core==1.50.0\\nazureml-train-restclients-hyperdrive==1.50.0\\nazureml-training-tabular==1.50.0.post1\\nbackports.tempfile==1.0\\nbackports.weakref==1.0.post1\\nbcrypt==4.0.1\\nbokeh==2.4.3\\nboto==2.49.0\\nboto3==1.20.19\\nbotocore==1.23.19\\ncachetools==5.3.0\\ncertifi @ file:///croot/certifi_1671487769961/work/certifi\\ncffi==1.15.1\\ncftime @ file:///tmp/build/80754af9/cftime_1638357901230/work\\ncharset-normalizer==3.1.0\\nclick==8.1.3\\ncloudpickle==2.2.1\\ncontextlib2==21.6.0\\ncontourpy @ file:///opt/conda/conda-bld/contourpy_1663827406301/work\\nconvertdate @ file:///tmp/build/80754af9/convertdate_1634070773133/work\\ncryptography==40.0.2\\ncycler @ file:///tmp/build/80754af9/cycler_1637851556182/work\\nCython==0.29.17\\ndask==2023.2.0\\ndatabricks-cli==0.17.6\\ndataclasses==0.6\\ndill==0.3.6\\ndistributed==2023.2.0\\ndistro==1.8.0\\ndocker==6.0.1\\ndotnetcore2==3.1.23\\nentrypoints==0.4\\nephem @ file:///tmp/build/80754af9/ephem_1638942191467/work\\nfbprophet @ file:///home/conda/feedstock_root/build_artifacts/fbprophet_1599365532360/work\\nfire==0.5.0\\nFlask==2.2.4\\nFlask-Cors==3.0.10\\nflatbuffers==23.3.3\\nflit_core @ file:///opt/conda/conda-bld/flit-core_1644941570762/work/source/flit_core\\nfonttools==4.25.0\\nfsspec==2023.4.0\\nfusepy==3.0.1\\ngensim==3.8.3\\ngitdb==4.0.10\\nGitPython==3.1.31\\ngoogle-api-core==2.11.0\\ngoogle-auth==2.17.3\\ngoogleapis-common-protos==1.59.0\\ngunicorn==20.1.0\\nholidays @ file:///home/conda/feedstock_root/build_artifacts/holidays_1595448845196/work\\nhumanfriendly==10.0\\nidna==3.4\\nimportlib-metadata==6.6.0\\nimportlib-resources==5.12.0\\ninference-schema==1.5.1\\ninterpret-community==0.28.0\\ninterpret-core==0.2.7\\nisodate==0.6.1\\nitsdangerous==2.1.2\\njeepney==0.8.0\\nJinja2==3.1.2\\njmespath==0.10.0\\njoblib==1.2.0\\njsonpickle==3.0.1\\njsonschema==4.17.3\\nkeras2onnx==1.6.0\\nkiwisolver @ file:///croot/kiwisolver_1672387140495/work\\nknack==0.10.1\\nkorean-lunar-calendar @ file:///tmp/build/80754af9/korean_lunar_calendar_1634063020401/work\\nlightgbm==3.2.1\\nllvmlite==0.38.1\\nlocket==1.0.0\\nLunarCalendar @ file:///tmp/build/80754af9/lunarcalendar_1646383991234/work\\nMarkupSafe==2.1.2\\nmatplotlib @ file:///croot/matplotlib-suite_1670466153205/work\\nml-wrappers==0.4.8\\nmlflow-skinny==2.3.1\\nmsal==1.22.0\\nmsal-extensions==1.0.0\\nmsgpack==1.0.5\\nmsrest==0.7.1\\nmsrestazure==0.6.4\\nmunkres==1.1.4\\nndg-httpsclient==0.5.1\\nnetCDF4 @ file:///croot/netcdf4_1673455456943/work\\nnumba==0.55.2\\nnumpy @ file:///opt/conda/conda-bld/numpy_and_numpy_base_1652801679809/work\\noauthlib==3.2.2\\nonnx==1.13.0\\nonnxconverter-common==1.6.0\\nonnxmltools==1.4.1\\nonnxruntime==1.11.1\\nopencensus==0.11.2\\nopencensus-context==0.1.3\\nopencensus-ext-azure==1.1.9\\npackaging @ file:///croot/packaging_1671697413597/work\\npandas==1.1.5\\nparamiko==3.1.0\\npartd==1.4.0\\npathspec==0.11.1\\npatsy==0.5.3\\nPillow==9.3.0\\npkginfo==1.9.6\\npkgutil_resolve_name==1.3.10\\npmdarima==1.8.0\\nportalocker==2.7.0\\nproperty-cached==1.6.4\\nprotobuf==3.20.3\\npsutil @ file:///home/conda/feedstock_root/build_artifacts/psutil_1667885878918/work\\npyarrow==9.0.0\\npyasn1==0.5.0\\npyasn1-modules==0.3.0\\npycparser==2.21\\npydantic==1.10.7\\nPygments==2.15.1\\nPyJWT==2.6.0\\nPyMeeus @ file:///tmp/build/80754af9/pymeeus_1634069098549/work\\nPyNaCl==1.5.0\\npyOpenSSL==23.1.1\\npyparsing @ file:///opt/conda/conda-bld/pyparsing_1661452539315/work\\npyrsistent==0.19.3\\nPySocks==1.7.1\\npystan @ file:///tmp/build/80754af9/pystan_1613565232294/work\\npython-dateutil @ file:///tmp/build/80754af9/python-dateutil_1626374649649/work\\npytz @ file:///croot/pytz_1671697431263/work\\nPyYAML==6.0\\nrequests==2.29.0\\nrequests-oauthlib==1.3.1\\nrsa==4.9\\ns3transfer==0.5.2\\nscikit-learn==0.22.1\\nscipy==1.5.3\\nSecretStorage==3.3.3\\nshap==0.39.0\\nsix @ file:///tmp/build/80754af9/six_1644875935023/work\\nskl2onnx==1.4.9\\nsklearn-pandas==1.7.0\\nslicer==0.0.7\\nsmart-open==1.9.0\\nsmmap==5.0.0\\nsortedcontainers==2.4.0\\nsqlparse==0.4.4\\nstatsmodels==0.11.1\\ntabulate==0.9.0\\ntblib==1.7.0\\ntermcolor==2.3.0\\ntoolz==0.12.0\\ntornado==6.3.1\\ntqdm @ file:///opt/conda/conda-bld/tqdm_1664392687731/work\\ntyping_extensions @ file:///croot/typing_extensions_1669924550328/work\\nurllib3==1.26.15\\nwebsocket-client==1.5.1\\nWerkzeug==2.3.3\\nwrapt==1.12.1\\nxarray @ file:///opt/conda/conda-bld/xarray_1639166117697/work\\nxgboost==1.3.3\\nzict==3.0.0\\nzipp==3.15.0\\n\\n2023-05-01T20:57:50,431185755+00:00 | gunicorn/run | \\n2023-05-01T20:57:50,434854491+00:00 | gunicorn/run | ###############################################\\n2023-05-01T20:57:50,501157858+00:00 | gunicorn/run | AzureML Inference Server\\n2023-05-01T20:57:50,502839849+00:00 | gunicorn/run | ###############################################\\n2023-05-01T20:57:50,510805956+00:00 | gunicorn/run | \\n2023-05-01T20:57:55,632988990+00:00 | gunicorn/run | Starting AzureML Inference Server HTTP.\\n2023-05-01 20:57:56,328 I [70] azmlinfsrv - Loaded logging config from /azureml-envs/azureml_399903ab218c6bc60c3ac2efb6ffbdcd/lib/python3.8/site-packages/azureml_inference_server_http/logging.json\\n2023-05-01 20:57:56,833 I [70] gunicorn.error - Starting gunicorn 20.1.0\\n2023-05-01 20:57:56,836 I [70] gunicorn.error - Listening at: http://0.0.0.0:31311 (70)\\n2023-05-01 20:57:56,837 I [70] gunicorn.error - Using worker: sync\\n2023-05-01 20:57:56,841 I [128] gunicorn.error - Booting worker with pid: 128\\nValid Application Insights instrumentation key provided.\\n\\nAzure ML Inferencing HTTP server v0.8.4\\n\\n\\nServer Settings\\n---------------\\nEntry Script Name: /var/azureml-app/scoring_file_v_2_0_0.py\\nModel Directory: /var/azureml-app/azureml-models/AutoML_Behavioral_Model/1\\n/azureml-envs/azureml_399903ab218c6bc60c3ac2efb6ffbdcd/lib/python3.8/site-packages/azureml_inference_server_http/server/config.py:51: FutureWarning: aliases are no longer used by BaseSettings to define which environment variables to read. Instead use the \"env\" field setting. See https://pydantic-docs.helpmanual.io/usage/settings/#environment-variable-names\\n  class AMLInferenceServerConfig(pydantic.BaseSettings):\\nConfig File: None\\nWorker Count: 1\\nWorker Timeout (seconds): 300\\nServer Port: 31311\\nHealth Port: 31311\\nApplication Insights Enabled: true\\nApplication Insights Key: AppInsights key provided\\nInferencing HTTP server version: azmlinfsrv/0.8.4\\nCORS for the specified origins: None\\nCreate dedicated endpoint for health: None\\n\\n\\nServer Routes\\n---------------\\nLiveness Probe: GET   127.0.0.1:31311/\\nScore:          POST  127.0.0.1:31311/score\\n\\n2023-05-01 20:57:58,245 I [128] azmlinfsrv - AML_FLASK_ONE_COMPATIBILITY is set. Patched Flask to ensure compatibility with Flask 1.\\nInitializing logger\\n2023-05-01 20:57:58,248 I [128] azmlinfsrv - Starting up app insights client\\nWARNING:opencensus.ext.azure.common:DeprecationWarning: Explicitly using instrumentation key isdeprecated. Please use a connection string instead.\\nWARNING:opencensus.ext.azure.common:DeprecationWarning: Explicitly using instrumentation key isdeprecated. Please use a connection string instead.\\nWARNING:opencensus.ext.azure.common:DeprecationWarning: Explicitly using instrumentation key isdeprecated. Please use a connection string instead.\\n2023-05-01 20:58:05,626 I [128] azmlinfsrv.user_script - Found user script at /var/azureml-app/scoring_file_v_2_0_0.py\\n2023-05-01 20:58:05,627 I [128] azmlinfsrv.user_script - run() is decorated with @input_schema. Server will invoke it with the following arguments: Inputs, GlobalParameters.\\n2023-05-01 20:58:05,629 I [128] azmlinfsrv.user_script - Invoking user\\'s init function\\nERROR:fbprophet.plot:Importing plotly failed. Interactive plots will not work.\\n2023-05-01 20:58:23,526 I [128] azmlinfsrv.user_script - Users\\'s init has completed successfully\\n2023-05-01 20:58:23,536 I [128] azmlinfsrv.swagger - Swaggers are prepared for the following versions: [2, 3, 3.1].\\n2023-05-01 20:58:23,536 I [128] azmlinfsrv - Scoring timeout is set to 60000\\n2023-05-01 20:58:23,603 W [128] azmlinfsrv - x-ms-request-id header has been deprecated and will be removed from future versions of the server. Please use x-ms-client-request-id.\\n2023-05-01 20:58:23,609 I [128] gunicorn.access - 127.0.0.1 - - [01/May/2023:20:58:23 +0000] \"GET / HTTP/1.0\" 200 7 \"-\" \"Go-http-client/1.1\"\\n2023-05-01 20:58:23,610 W [128] azmlinfsrv - x-ms-request-id header has been deprecated and will be removed from future versions of the server. Please use x-ms-client-request-id.\\n2023-05-01 20:58:23,611 I [128] gunicorn.access - 127.0.0.1 - - [01/May/2023:20:58:23 +0000] \"GET / HTTP/1.0\" 200 7 \"-\" \"Go-http-client/1.1\"\\n2023-05-01 20:58:23,612 W [128] azmlinfsrv - x-ms-request-id header has been deprecated and will be removed from future versions of the server. Please use x-ms-client-request-id.\\n2023-05-01 20:58:23,613 I [128] gunicorn.access - 127.0.0.1 - - [01/May/2023:20:58:23 +0000] \"GET / HTTP/1.0\" 200 7 \"-\" \"Go-http-client/1.1\"\\n2023-05-01 20:58:23,614 W [128] azmlinfsrv - x-ms-request-id header has been deprecated and will be removed from future versions of the server. Please use x-ms-client-request-id.\\n2023-05-01 20:58:23,620 I [128] gunicorn.access - 127.0.0.1 - - [01/May/2023:20:58:23 +0000] \"GET / HTTP/1.0\" 200 7 \"-\" \"Go-http-client/1.1\"\\n2023-05-01 20:58:24,672 I [128] gunicorn.access - 127.0.0.1 - - [01/May/2023:20:58:24 +0000] \"GET / HTTP/1.0\" 200 7 \"-\" \"curl/7.58.0\"\\n2023-05-01 20:58:35,999 W [128] azmlinfsrv - x-ms-request-id header has been deprecated and will be removed from future versions of the server. Please use x-ms-client-request-id.\\n2023-05-01 20:58:36,002 I [128] gunicorn.access - 127.0.0.1 - - [01/May/2023:20:58:36 +0000] \"GET / HTTP/1.0\" 200 7 \"-\" \"Go-http-client/1.1\"\\n2023-05-01 20:58:36,007 W [128] azmlinfsrv - x-ms-request-id header has been deprecated and will be removed from future versions of the server. Please use x-ms-client-request-id.\\n2023-05-01 20:58:36,008 I [128] azmlinfsrv - GET /swagger.json 200 1.202ms 28026\\n2023-05-01 20:58:36,010 I [128] gunicorn.access - 127.0.0.1 - - [01/May/2023:20:58:36 +0000] \"GET /swagger.json HTTP/1.0\" 200 28026 \"-\" \"Go-http-client/1.1\"\\n2023-05-01 20:58:42,524 W [128] azmlinfsrv - x-ms-request-id header has been deprecated and will be removed from future versions of the server. Please use x-ms-client-request-id.\\n2023-05-01 20:58:42,527 I [128] gunicorn.access - 127.0.0.1 - - [01/May/2023:20:58:42 +0000] \"GET / HTTP/1.0\" 200 7 \"-\" \"Go-http-client/1.1\"\\n2023-05-01 20:58:42,531 W [128] azmlinfsrv - x-ms-request-id header has been deprecated and will be removed from future versions of the server. Please use x-ms-client-request-id.\\n2023-05-01 20:58:42,533 I [128] azmlinfsrv - GET /swagger.json 200 2.114ms 28026\\n2023-05-01 20:58:42,536 I [128] gunicorn.access - 127.0.0.1 - - [01/May/2023:20:58:42 +0000] \"GET /swagger.json HTTP/1.0\" 200 28026 \"-\" \"Go-http-client/1.1\"\\n2023-05-01 20:58:53,988 W [128] azmlinfsrv - x-ms-request-id header has been deprecated and will be removed from future versions of the server. Please use x-ms-client-request-id.\\n2023-05-01 20:58:58,916 I [128] azmlinfsrv - POST /score 200 4927.366ms 106\\n2023-05-01 20:58:58,918 I [128] gunicorn.access - 127.0.0.1 - - [01/May/2023:20:58:58 +0000] \"POST /score HTTP/1.0\" 200 106 \"-\" \"Python-urllib/3.8\"\\n'"
            ]
          },
          "execution_count": 43,
          "metadata": {},
          "output_type": "execute_result"
        }
      ],
      "source": [
        "service.get_logs()"
      ]
    },
    {
      "cell_type": "code",
      "execution_count": null,
      "metadata": {},
      "outputs": [],
      "source": [
        "service.delete()"
      ]
    },
    {
      "attachments": {},
      "cell_type": "markdown",
      "metadata": {},
      "source": [
        "# Cleanup"
      ]
    },
    {
      "cell_type": "code",
      "execution_count": null,
      "metadata": {},
      "outputs": [],
      "source": [
        "compute_target.delete()"
      ]
    },
    {
      "attachments": {},
      "cell_type": "markdown",
      "metadata": {},
      "source": [
        "**Submission Checklist**\n",
        "- I have registered the model.\n",
        "- I have deployed the model with the best accuracy as a webservice.\n",
        "- I have tested the webservice by sending a request to the model endpoint.\n",
        "- I have deleted the webservice and shutdown all the computes that I have used.\n",
        "- I have taken a screenshot showing the model endpoint as active.\n",
        "- The project includes a file containing the environment details.\n"
      ]
    }
  ],
  "metadata": {
    "kernel_info": {
      "name": "python38-azureml"
    },
    "kernelspec": {
      "display_name": "Python 3.8 - AzureML",
      "language": "python",
      "name": "python38-azureml"
    },
    "language_info": {
      "codemirror_mode": {
        "name": "ipython",
        "version": 3
      },
      "file_extension": ".py",
      "mimetype": "text/x-python",
      "name": "python",
      "nbconvert_exporter": "python",
      "pygments_lexer": "ipython3",
      "version": "3.8.5"
    },
    "microsoft": {
      "host": {
        "AzureML": {
          "notebookHasBeenCompleted": true
        }
      },
      "ms_spell_check": {
        "ms_spell_check_language": "en"
      }
    },
    "nteract": {
      "version": "nteract-front-end@1.0.0"
    }
  },
  "nbformat": 4,
  "nbformat_minor": 2
}
