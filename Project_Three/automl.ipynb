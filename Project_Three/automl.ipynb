{
  "cells": [
    {
      "cell_type": "markdown",
      "source": [
        "# Automated ML\n",
        "\n",
        "TODO: Import Dependencies. In the cell below, import all the dependencies that you will need to complete the project."
      ],
      "metadata": {}
    },
    {
      "cell_type": "code",
      "source": [
        "import logging\n",
        "import os\n",
        "import csv\n",
        "\n",
        "from matplotlib import pyplot as plt\n",
        "import numpy as np\n",
        "import pandas as pd\n",
        "from sklearn import datasets\n",
        "import pkg_resources\n",
        "\n",
        "import azureml.core\n",
        "from azureml.core.experiment import Experiment\n",
        "from azureml.core.workspace import Workspace\n",
        "from azureml.train.automl import AutoMLConfig\n",
        "from azureml.core.dataset import Dataset\n",
        "\n",
        "from azureml.pipeline.steps import AutoMLStep\n",
        "\n",
        "from azureml.core.compute import AmlCompute\n",
        "from azureml.core.compute import ComputeTarget\n",
        "from azureml.core.compute_target import ComputeTargetException\n",
        "from azureml.data.datapath import DataPath\n",
        "from azure.storage.blob import BlobServiceClient, BlobClient, ContainerClient\n",
        "from azureml.core import Workspace, Dataset\n",
        "from azureml.train.automl.utilities import get_primary_metrics\n",
        "from azureml.widgets import RunDetails\n",
        "from azureml.core.run import Run\n",
        "from azureml.train.automl.run import AutoMLRun\n",
        "\n",
        "from azureml.core import Environment\n",
        "from azureml.core.model import InferenceConfig\n",
        "from azureml.core.model import Model\n",
        "from azureml.core.webservice import AciWebservice\n",
        "\n",
        "from azureml.core.authentication import InteractiveLoginAuthentication\n",
        "import requests\n",
        "import json\n",
        "from azureml.core import Workspace, Model, Webservice\n",
        "\n",
        "# Check core SDK version number\n",
        "print(\"SDK version:\", azureml.core.VERSION)"
      ],
      "outputs": [
        {
          "output_type": "stream",
          "name": "stdout",
          "text": "SDK version: 1.49.0\n"
        }
      ],
      "execution_count": 24,
      "metadata": {
        "gather": {
          "logged": 1682973173559
        },
        "jupyter": {
          "outputs_hidden": false,
          "source_hidden": false
        },
        "nteract": {
          "transient": {
            "deleting": false
          }
        }
      }
    },
    {
      "cell_type": "code",
      "source": [
        "interactive_auth = InteractiveLoginAuthentication(tenant_id=\"660b3398-b80e-49d2-bc5b-ac1dc93b5254\")\n",
        "ws = Workspace(subscription_id=\"9b72f9e6-56c5-4c16-991b-19c652994860\",\n",
        "               resource_group=\"aml-quickstarts-232431\",\n",
        "               workspace_name=\"quick-starts-ws-232431\",\n",
        "               auth=interactive_auth)\n",
        "print(ws.name, ws.resource_group, ws.location, ws.subscription_id, sep = '\\n')"
      ],
      "outputs": [
        {
          "output_type": "stream",
          "name": "stdout",
          "text": "quick-starts-ws-232431\naml-quickstarts-232431\nwesteurope\n9b72f9e6-56c5-4c16-991b-19c652994860\n"
        }
      ],
      "execution_count": 25,
      "metadata": {
        "gather": {
          "logged": 1682973175035
        },
        "jupyter": {
          "outputs_hidden": false,
          "source_hidden": false
        },
        "nteract": {
          "transient": {
            "deleting": false
          }
        }
      }
    },
    {
      "attachments": {},
      "cell_type": "markdown",
      "source": [
        "Must download config file from Azure ML UI and put the config.json in the same directory"
      ],
      "metadata": {}
    },
    {
      "cell_type": "code",
      "source": [
        "# ws = Workspace.from_config()\n",
        "# print(ws.name, ws.resource_group, ws.location, ws.subscription_id, sep = '\\n')"
      ],
      "outputs": [
        {
          "output_type": "stream",
          "name": "stderr",
          "text": "get_workspace error using subscription_id=9b72f9e6-56c5-4c16-991b-19c652994860, resource_group_name=aml-quickstarts-231412, workspace_name=quick-starts-ws-231412\n"
        },
        {
          "output_type": "error",
          "ename": "ProjectSystemException",
          "evalue": "ProjectSystemException:\n\tMessage: {\n    \"error_details\": {\n        \"error\": {\n            \"code\": \"AuthorizationFailed\",\n            \"message\": \"The client 'odl_user_232380@udacitylabs.onmicrosoft.com' with object id '394686ae-ea74-4836-8c68-269291365175' does not have authorization to perform action 'Microsoft.MachineLearningServices/workspaces/read' over scope '/subscriptions/9b72f9e6-56c5-4c16-991b-19c652994860/resourceGroups/aml-quickstarts-231412/providers/Microsoft.MachineLearningServices/workspaces/quick-starts-ws-231412' or the scope is invalid. If access was recently granted, please refresh your credentials.\"\n        }\n    },\n    \"status_code\": 403,\n    \"url\": \"https://management.azure.com/subscriptions/9b72f9e6-56c5-4c16-991b-19c652994860/resourceGroups/aml-quickstarts-231412/providers/Microsoft.MachineLearningServices/workspaces/quick-starts-ws-231412?api-version=2022-05-01\"\n}\n\tInnerException None\n\tErrorResponse \n{\n    \"error\": {\n        \"message\": \"{\\n    \\\"error_details\\\": {\\n        \\\"error\\\": {\\n            \\\"code\\\": \\\"AuthorizationFailed\\\",\\n            \\\"message\\\": \\\"The client 'odl_user_232380@udacitylabs.onmicrosoft.com' with object id '394686ae-ea74-4836-8c68-269291365175' does not have authorization to perform action 'Microsoft.MachineLearningServices/workspaces/read' over scope '/subscriptions/9b72f9e6-56c5-4c16-991b-19c652994860/resourceGroups/aml-quickstarts-231412/providers/Microsoft.MachineLearningServices/workspaces/quick-starts-ws-231412' or the scope is invalid. If access was recently granted, please refresh your credentials.\\\"\\n        }\\n    },\\n    \\\"status_code\\\": 403,\\n    \\\"url\\\": \\\"https://management.azure.com/subscriptions/9b72f9e6-56c5-4c16-991b-19c652994860/resourceGroups/aml-quickstarts-231412/providers/Microsoft.MachineLearningServices/workspaces/quick-starts-ws-231412?api-version=2022-05-01\\\"\\n}\"\n    }\n}",
          "traceback": [
            "\u001b[0;31m---------------------------------------------------------------------------\u001b[0m",
            "\u001b[0;31mErrorResponseWrapperException\u001b[0m             Traceback (most recent call last)",
            "File \u001b[0;32m/anaconda/envs/azureml_py38/lib/python3.8/site-packages/azureml/_project/_commands.py:470\u001b[0m, in \u001b[0;36mget_workspace\u001b[0;34m(auth, subscription_id, resource_group_name, workspace_name, location, cloud, workspace_id)\u001b[0m\n\u001b[1;32m    467\u001b[0m     workspaces \u001b[38;5;241m=\u001b[39m auth\u001b[38;5;241m.\u001b[39m_get_service_client(\n\u001b[1;32m    468\u001b[0m         AzureMachineLearningWorkspaces,\n\u001b[1;32m    469\u001b[0m         subscription_id)\u001b[38;5;241m.\u001b[39mworkspaces\n\u001b[0;32m--> 470\u001b[0m     \u001b[38;5;28;01mreturn\u001b[39;00m \u001b[43mWorkspacesOperations\u001b[49m\u001b[38;5;241;43m.\u001b[39;49m\u001b[43mget\u001b[49m\u001b[43m(\u001b[49m\n\u001b[1;32m    471\u001b[0m \u001b[43m        \u001b[49m\u001b[43mworkspaces\u001b[49m\u001b[43m,\u001b[49m\n\u001b[1;32m    472\u001b[0m \u001b[43m        \u001b[49m\u001b[43mresource_group_name\u001b[49m\u001b[43m,\u001b[49m\n\u001b[1;32m    473\u001b[0m \u001b[43m        \u001b[49m\u001b[43mworkspace_name\u001b[49m\u001b[43m)\u001b[49m\n\u001b[1;32m    474\u001b[0m \u001b[38;5;28;01mexcept\u001b[39;00m ClientRequestError:\n\u001b[1;32m    475\u001b[0m     \u001b[38;5;66;03m# this most likely is because of failure to talk to arm.\u001b[39;00m\n\u001b[1;32m    476\u001b[0m     \u001b[38;5;66;03m# Provide error message to user if they are in synapse enviroment.\u001b[39;00m\n\u001b[1;32m    477\u001b[0m     \u001b[38;5;66;03m# Additional params will enable aml dataplane get workspace call. \u001b[39;00m\n",
            "File \u001b[0;32m/anaconda/envs/azureml_py38/lib/python3.8/site-packages/azureml/_base_sdk_common/workspace/operations/workspaces_operations.py:110\u001b[0m, in \u001b[0;36mWorkspacesOperations.get\u001b[0;34m(self, resource_group_name, workspace_name, custom_headers, raw, is_dataplane, **operation_config)\u001b[0m\n\u001b[1;32m    109\u001b[0m \u001b[38;5;28;01mif\u001b[39;00m response\u001b[38;5;241m.\u001b[39mstatus_code \u001b[38;5;129;01mnot\u001b[39;00m \u001b[38;5;129;01min\u001b[39;00m [\u001b[38;5;241m200\u001b[39m]:\n\u001b[0;32m--> 110\u001b[0m     \u001b[38;5;28;01mraise\u001b[39;00m models\u001b[38;5;241m.\u001b[39mErrorResponseWrapperException(\n\u001b[1;32m    111\u001b[0m         \u001b[38;5;28mself\u001b[39m\u001b[38;5;241m.\u001b[39m_deserialize, response)\n\u001b[1;32m    113\u001b[0m deserialized \u001b[38;5;241m=\u001b[39m \u001b[38;5;28;01mNone\u001b[39;00m\n",
            "\u001b[0;31mErrorResponseWrapperException\u001b[0m: Operation returned an invalid status code 'Forbidden'",
            "\nDuring handling of the above exception, another exception occurred:\n",
            "\u001b[0;31mProjectSystemException\u001b[0m                    Traceback (most recent call last)",
            "Cell \u001b[0;32mIn[7], line 1\u001b[0m\n\u001b[0;32m----> 1\u001b[0m ws \u001b[38;5;241m=\u001b[39m \u001b[43mWorkspace\u001b[49m\u001b[38;5;241;43m.\u001b[39;49m\u001b[43mfrom_config\u001b[49m\u001b[43m(\u001b[49m\u001b[43m)\u001b[49m\n\u001b[1;32m      2\u001b[0m \u001b[38;5;66;03m# print(ws.name, ws.resource_group, ws.location, ws.subscription_id, sep = '\\n')\u001b[39;00m\n",
            "File \u001b[0;32m/anaconda/envs/azureml_py38/lib/python3.8/site-packages/azureml/core/workspace.py:292\u001b[0m, in \u001b[0;36mWorkspace.from_config\u001b[0;34m(path, auth, _logger, _file_name)\u001b[0m\n\u001b[1;32m    288\u001b[0m subscription_id, resource_group, workspace_name \u001b[38;5;241m=\u001b[39m project_info\u001b[38;5;241m.\u001b[39mget_workspace_info(\n\u001b[1;32m    289\u001b[0m     found_path)\n\u001b[1;32m    291\u001b[0m _logger\u001b[38;5;241m.\u001b[39minfo(\u001b[38;5;124m'\u001b[39m\u001b[38;5;124mFound the config file in: \u001b[39m\u001b[38;5;132;01m%s\u001b[39;00m\u001b[38;5;124m'\u001b[39m, found_path)\n\u001b[0;32m--> 292\u001b[0m \u001b[38;5;28;01mreturn\u001b[39;00m \u001b[43mWorkspace\u001b[49m\u001b[38;5;241;43m.\u001b[39;49m\u001b[43mget\u001b[49m\u001b[43m(\u001b[49m\n\u001b[1;32m    293\u001b[0m \u001b[43m    \u001b[49m\u001b[43mworkspace_name\u001b[49m\u001b[43m,\u001b[49m\n\u001b[1;32m    294\u001b[0m \u001b[43m    \u001b[49m\u001b[43mauth\u001b[49m\u001b[38;5;241;43m=\u001b[39;49m\u001b[43mauth\u001b[49m\u001b[43m,\u001b[49m\n\u001b[1;32m    295\u001b[0m \u001b[43m    \u001b[49m\u001b[43msubscription_id\u001b[49m\u001b[38;5;241;43m=\u001b[39;49m\u001b[43msubscription_id\u001b[49m\u001b[43m,\u001b[49m\n\u001b[1;32m    296\u001b[0m \u001b[43m    \u001b[49m\u001b[43mresource_group\u001b[49m\u001b[38;5;241;43m=\u001b[39;49m\u001b[43mresource_group\u001b[49m\u001b[43m)\u001b[49m\n",
            "File \u001b[0;32m/anaconda/envs/azureml_py38/lib/python3.8/site-packages/azureml/core/workspace.py:607\u001b[0m, in \u001b[0;36mWorkspace.get\u001b[0;34m(name, auth, subscription_id, resource_group, location, cloud, id)\u001b[0m\n\u001b[1;32m    604\u001b[0m \u001b[38;5;28;01mif\u001b[39;00m \u001b[38;5;129;01mnot\u001b[39;00m auth:\n\u001b[1;32m    605\u001b[0m     auth \u001b[38;5;241m=\u001b[39m InteractiveLoginAuthentication()\n\u001b[0;32m--> 607\u001b[0m \u001b[38;5;28;01mreturn\u001b[39;00m \u001b[43mWorkspace\u001b[49m\u001b[43m(\u001b[49m\n\u001b[1;32m    608\u001b[0m \u001b[43m    \u001b[49m\u001b[43msubscription_id\u001b[49m\u001b[43m,\u001b[49m\n\u001b[1;32m    609\u001b[0m \u001b[43m    \u001b[49m\u001b[43mresource_group\u001b[49m\u001b[43m,\u001b[49m\n\u001b[1;32m    610\u001b[0m \u001b[43m    \u001b[49m\u001b[43mname\u001b[49m\u001b[43m,\u001b[49m\n\u001b[1;32m    611\u001b[0m \u001b[43m    \u001b[49m\u001b[43mauth\u001b[49m\u001b[38;5;241;43m=\u001b[39;49m\u001b[43mauth\u001b[49m\u001b[43m,\u001b[49m\n\u001b[1;32m    612\u001b[0m \u001b[43m    \u001b[49m\u001b[43m_location\u001b[49m\u001b[38;5;241;43m=\u001b[39;49m\u001b[43mlocation\u001b[49m\u001b[43m,\u001b[49m\n\u001b[1;32m    613\u001b[0m \u001b[43m    \u001b[49m\u001b[43m_cloud\u001b[49m\u001b[38;5;241;43m=\u001b[39;49m\u001b[43mcloud\u001b[49m\u001b[43m,\u001b[49m\n\u001b[1;32m    614\u001b[0m \u001b[43m    \u001b[49m\u001b[43m_workspace_id\u001b[49m\u001b[38;5;241;43m=\u001b[39;49m\u001b[38;5;28;43mid\u001b[39;49m\u001b[43m)\u001b[49m\n",
            "File \u001b[0;32m/anaconda/envs/azureml_py38/lib/python3.8/site-packages/azureml/core/workspace.py:205\u001b[0m, in \u001b[0;36mWorkspace.__init__\u001b[0;34m(self, subscription_id, resource_group, workspace_name, auth, _location, _disable_service_check, _workspace_id, sku, tags, _cloud)\u001b[0m\n\u001b[1;32m    202\u001b[0m \u001b[38;5;28mself\u001b[39m\u001b[38;5;241m.\u001b[39m_workspace_autorest_object \u001b[38;5;241m=\u001b[39m \u001b[38;5;28;01mNone\u001b[39;00m\n\u001b[1;32m    204\u001b[0m \u001b[38;5;28;01mif\u001b[39;00m \u001b[38;5;129;01mnot\u001b[39;00m _disable_service_check:\n\u001b[0;32m--> 205\u001b[0m     auto_rest_workspace \u001b[38;5;241m=\u001b[39m \u001b[43m_commands\u001b[49m\u001b[38;5;241;43m.\u001b[39;49m\u001b[43mget_workspace\u001b[49m\u001b[43m(\u001b[49m\n\u001b[1;32m    206\u001b[0m \u001b[43m        \u001b[49m\u001b[43mauth\u001b[49m\u001b[43m,\u001b[49m\u001b[43m \u001b[49m\u001b[43msubscription_id\u001b[49m\u001b[43m,\u001b[49m\u001b[43m \u001b[49m\u001b[43mresource_group\u001b[49m\u001b[43m,\u001b[49m\u001b[43m \u001b[49m\u001b[43mworkspace_name\u001b[49m\u001b[43m,\u001b[49m\u001b[43m \u001b[49m\u001b[43m_location\u001b[49m\u001b[43m,\u001b[49m\u001b[43m \u001b[49m\u001b[43m_cloud\u001b[49m\u001b[43m,\u001b[49m\u001b[43m \u001b[49m\u001b[43m_workspace_id\u001b[49m\u001b[43m)\u001b[49m\n\u001b[1;32m    207\u001b[0m     \u001b[38;5;28mself\u001b[39m\u001b[38;5;241m.\u001b[39m_workspace_autorest_object \u001b[38;5;241m=\u001b[39m auto_rest_workspace\n\u001b[1;32m    209\u001b[0m \u001b[38;5;28mself\u001b[39m\u001b[38;5;241m.\u001b[39m_service_context \u001b[38;5;241m=\u001b[39m \u001b[38;5;28;01mNone\u001b[39;00m\n",
            "File \u001b[0;32m/anaconda/envs/azureml_py38/lib/python3.8/site-packages/azureml/_project/_commands.py:485\u001b[0m, in \u001b[0;36mget_workspace\u001b[0;34m(auth, subscription_id, resource_group_name, workspace_name, location, cloud, workspace_id)\u001b[0m\n\u001b[1;32m    480\u001b[0m \u001b[38;5;28;01mexcept\u001b[39;00m ErrorResponseWrapperException \u001b[38;5;28;01mas\u001b[39;00m response_exception:\n\u001b[1;32m    481\u001b[0m     module_logger\u001b[38;5;241m.\u001b[39merror(\n\u001b[1;32m    482\u001b[0m         \u001b[38;5;124m\"\u001b[39m\u001b[38;5;124mget_workspace error using subscription_id=\u001b[39m\u001b[38;5;132;01m{}\u001b[39;00m\u001b[38;5;124m, resource_group_name=\u001b[39m\u001b[38;5;132;01m{}\u001b[39;00m\u001b[38;5;124m, workspace_name=\u001b[39m\u001b[38;5;132;01m{}\u001b[39;00m\u001b[38;5;124m\"\u001b[39m\u001b[38;5;241m.\u001b[39mformat(\n\u001b[1;32m    483\u001b[0m             subscription_id, resource_group_name, workspace_name\n\u001b[1;32m    484\u001b[0m         ))\n\u001b[0;32m--> 485\u001b[0m     \u001b[43mresource_error_handling\u001b[49m\u001b[43m(\u001b[49m\u001b[43mresponse_exception\u001b[49m\u001b[43m,\u001b[49m\u001b[43m \u001b[49m\u001b[43mWORKSPACE\u001b[49m\u001b[43m)\u001b[49m\n",
            "File \u001b[0;32m/anaconda/envs/azureml_py38/lib/python3.8/site-packages/azureml/_base_sdk_common/common.py:334\u001b[0m, in \u001b[0;36mresource_error_handling\u001b[0;34m(response_exception, resource_type)\u001b[0m\n\u001b[1;32m    332\u001b[0m \u001b[38;5;28;01melse\u001b[39;00m:\n\u001b[1;32m    333\u001b[0m     response_message \u001b[38;5;241m=\u001b[39m get_http_exception_response_string(response_exception\u001b[38;5;241m.\u001b[39mresponse)\n\u001b[0;32m--> 334\u001b[0m     \u001b[38;5;28;01mraise\u001b[39;00m ProjectSystemException(response_message)\n",
            "\u001b[0;31mProjectSystemException\u001b[0m: ProjectSystemException:\n\tMessage: {\n    \"error_details\": {\n        \"error\": {\n            \"code\": \"AuthorizationFailed\",\n            \"message\": \"The client 'odl_user_232380@udacitylabs.onmicrosoft.com' with object id '394686ae-ea74-4836-8c68-269291365175' does not have authorization to perform action 'Microsoft.MachineLearningServices/workspaces/read' over scope '/subscriptions/9b72f9e6-56c5-4c16-991b-19c652994860/resourceGroups/aml-quickstarts-231412/providers/Microsoft.MachineLearningServices/workspaces/quick-starts-ws-231412' or the scope is invalid. If access was recently granted, please refresh your credentials.\"\n        }\n    },\n    \"status_code\": 403,\n    \"url\": \"https://management.azure.com/subscriptions/9b72f9e6-56c5-4c16-991b-19c652994860/resourceGroups/aml-quickstarts-231412/providers/Microsoft.MachineLearningServices/workspaces/quick-starts-ws-231412?api-version=2022-05-01\"\n}\n\tInnerException None\n\tErrorResponse \n{\n    \"error\": {\n        \"message\": \"{\\n    \\\"error_details\\\": {\\n        \\\"error\\\": {\\n            \\\"code\\\": \\\"AuthorizationFailed\\\",\\n            \\\"message\\\": \\\"The client 'odl_user_232380@udacitylabs.onmicrosoft.com' with object id '394686ae-ea74-4836-8c68-269291365175' does not have authorization to perform action 'Microsoft.MachineLearningServices/workspaces/read' over scope '/subscriptions/9b72f9e6-56c5-4c16-991b-19c652994860/resourceGroups/aml-quickstarts-231412/providers/Microsoft.MachineLearningServices/workspaces/quick-starts-ws-231412' or the scope is invalid. If access was recently granted, please refresh your credentials.\\\"\\n        }\\n    },\\n    \\\"status_code\\\": 403,\\n    \\\"url\\\": \\\"https://management.azure.com/subscriptions/9b72f9e6-56c5-4c16-991b-19c652994860/resourceGroups/aml-quickstarts-231412/providers/Microsoft.MachineLearningServices/workspaces/quick-starts-ws-231412?api-version=2022-05-01\\\"\\n}\"\n    }\n}"
          ]
        }
      ],
      "execution_count": 7,
      "metadata": {
        "gather": {
          "logged": 1682883777305
        }
      }
    },
    {
      "cell_type": "code",
      "source": [
        "from azureml.core.compute import AmlCompute\n",
        "from azureml.core.compute import ComputeTarget\n",
        "from azureml.core.compute_target import ComputeTargetException\n",
        "\n",
        "# NOTE: update the cluster name to match the existing cluster\n",
        "# Choose a name for your CPU cluster\n",
        "amlcompute_cluster_name = \"Project-3-Compute\"\n",
        "\n",
        "# Verify that cluster does not exist already\n",
        "try:\n",
        "    compute_target = ComputeTarget(workspace=ws, name=amlcompute_cluster_name)\n",
        "    print('Found existing cluster, use it.')\n",
        "except ComputeTargetException:\n",
        "    compute_config = AmlCompute.provisioning_configuration(vm_size='Standard_DS3_v2',# for GPU, use \"STANDARD_NC6\"\n",
        "                                                           #vm_priority = 'lowpriority', # optional\n",
        "                                                           max_nodes=4)\n",
        "    compute_target = ComputeTarget.create(ws, amlcompute_cluster_name, compute_config)\n",
        "\n",
        "compute_target.wait_for_completion(show_output=True, min_node_count = 0, timeout_in_minutes = 10)"
      ],
      "outputs": [
        {
          "output_type": "stream",
          "name": "stdout",
          "text": "Found existing cluster, use it.\nSucceeded\nAmlCompute wait for completion finished\n\nMinimum number of nodes requested have been provisioned\n"
        }
      ],
      "execution_count": 15,
      "metadata": {
        "gather": {
          "logged": 1682959870199
        }
      }
    },
    {
      "cell_type": "markdown",
      "source": [
        "## Dataset\n",
        "\n",
        "### Overview\n",
        "TODO: In this markdown cell, give an overview of the dataset you are using. Also mention the task you will be performing.\n",
        "\n",
        "\n",
        "TODO: Get data. In the cell below, write code to access the data you will be using in this project. Remember that the dataset needs to be external."
      ],
      "metadata": {}
    },
    {
      "cell_type": "code",
      "source": [
        "# choose a name for experiment\n",
        "experiment_name = 'Project_3_Experiment_AutoML'\n",
        "experiment=Experiment(ws, experiment_name)"
      ],
      "outputs": [],
      "execution_count": 26,
      "metadata": {
        "gather": {
          "logged": 1682973182190
        },
        "jupyter": {
          "outputs_hidden": false,
          "source_hidden": false
        },
        "nteract": {
          "transient": {
            "deleting": false
          }
        }
      }
    },
    {
      "attachments": {},
      "cell_type": "markdown",
      "source": [
        "### Upload Data"
      ],
      "metadata": {}
    },
    {
      "attachments": {},
      "cell_type": "markdown",
      "source": [
        "Must Upload the data manually before running this part"
      ],
      "metadata": {}
    },
    {
      "cell_type": "code",
      "source": [
        "dataset = Dataset.get_by_name(ws, name='behavioral_data')"
      ],
      "outputs": [],
      "execution_count": 17,
      "metadata": {
        "gather": {
          "logged": 1682959873220
        }
      }
    },
    {
      "cell_type": "markdown",
      "source": [
        "## AutoML Configuration\n",
        "\n",
        "TODO: Explain why you chose the automl settings and cofiguration you used below."
      ],
      "metadata": {}
    },
    {
      "attachments": {},
      "cell_type": "markdown",
      "source": [
        "Target: GENHLTH - general health"
      ],
      "metadata": {}
    },
    {
      "cell_type": "code",
      "source": [
        "get_primary_metrics('regression')"
      ],
      "outputs": [
        {
          "output_type": "execute_result",
          "execution_count": 18,
          "data": {
            "text/plain": "['spearman_correlation',\n 'normalized_root_mean_squared_error',\n 'r2_score',\n 'normalized_mean_absolute_error']"
          },
          "metadata": {}
        }
      ],
      "execution_count": 18,
      "metadata": {
        "gather": {
          "logged": 1682959874469
        }
      }
    },
    {
      "cell_type": "code",
      "source": [
        "# TODO: Put your automl settings here\n",
        "automl_settings = {\n",
        "    \"experiment_timeout_hours\": 1,\n",
        "    \"max_concurrent_iterations\": 5,\n",
        "    \"primary_metric\" : 'normalized_root_mean_squared_error'\n",
        "}\n",
        "\n",
        "# TODO: Put your automl config here\n",
        "automl_config = AutoMLConfig(compute_target=compute_target,\n",
        "                             task = \"regression\",\n",
        "                             training_data=dataset,\n",
        "                             label_column_name=\"GENHLTH\",   \n",
        "                             path = '.',\n",
        "                             enable_early_stopping= True,\n",
        "                             featurization= 'auto',\n",
        "                             debug_log = \"automl_errors.log\",\n",
        "                             **automl_settings\n",
        "                            )"
      ],
      "outputs": [],
      "execution_count": 19,
      "metadata": {
        "gather": {
          "logged": 1682959874966
        },
        "jupyter": {
          "outputs_hidden": false,
          "source_hidden": false
        },
        "nteract": {
          "transient": {
            "deleting": false
          }
        }
      }
    },
    {
      "cell_type": "code",
      "source": [
        "# TODO: Submit your experiment\n",
        "remote_run = experiment.submit(automl_config)"
      ],
      "outputs": [
        {
          "output_type": "stream",
          "name": "stdout",
          "text": "Submitting remote run.\n"
        },
        {
          "output_type": "display_data",
          "data": {
            "text/plain": "<IPython.core.display.HTML object>",
            "text/html": "<table style=\"width:100%\"><tr><th>Experiment</th><th>Id</th><th>Type</th><th>Status</th><th>Details Page</th><th>Docs Page</th></tr><tr><td>Project_3_Experiment_AutoML</td><td>AutoML_0fc27147-a804-4625-89c0-e1b55d186c58</td><td>automl</td><td>NotStarted</td><td><a href=\"https://ml.azure.com/runs/AutoML_0fc27147-a804-4625-89c0-e1b55d186c58?wsid=/subscriptions/9b72f9e6-56c5-4c16-991b-19c652994860/resourcegroups/aml-quickstarts-232431/workspaces/quick-starts-ws-232431&amp;tid=660b3398-b80e-49d2-bc5b-ac1dc93b5254\" target=\"_blank\" rel=\"noopener\">Link to Azure Machine Learning studio</a></td><td><a href=\"https://docs.microsoft.com/en-us/python/api/overview/azure/ml/intro?view=azure-ml-py\" target=\"_blank\" rel=\"noopener\">Link to Documentation</a></td></tr></table>"
          },
          "metadata": {}
        }
      ],
      "execution_count": 20,
      "metadata": {
        "gather": {
          "logged": 1682959882903
        },
        "jupyter": {
          "outputs_hidden": false,
          "source_hidden": false
        },
        "nteract": {
          "transient": {
            "deleting": false
          }
        }
      }
    },
    {
      "attachments": {},
      "cell_type": "markdown",
      "source": [
        "Run this if your kernel is restarted"
      ],
      "metadata": {}
    },
    {
      "cell_type": "code",
      "source": [
        "remote_run = AutoMLRun(experiment, [run for run in experiment.get_runs()][0].id)"
      ],
      "outputs": [],
      "execution_count": 27,
      "metadata": {
        "gather": {
          "logged": 1682973196002
        }
      }
    },
    {
      "cell_type": "code",
      "source": [
        "remote_run"
      ],
      "outputs": [
        {
          "output_type": "execute_result",
          "execution_count": 28,
          "data": {
            "text/plain": "Run(Experiment: Project_3_Experiment_AutoML,\nId: AutoML_0fc27147-a804-4625-89c0-e1b55d186c58,\nType: automl,\nStatus: Completed)",
            "text/html": "<table style=\"width:100%\"><tr><th>Experiment</th><th>Id</th><th>Type</th><th>Status</th><th>Details Page</th><th>Docs Page</th></tr><tr><td>Project_3_Experiment_AutoML</td><td>AutoML_0fc27147-a804-4625-89c0-e1b55d186c58</td><td>automl</td><td>Completed</td><td><a href=\"https://ml.azure.com/runs/AutoML_0fc27147-a804-4625-89c0-e1b55d186c58?wsid=/subscriptions/9b72f9e6-56c5-4c16-991b-19c652994860/resourcegroups/aml-quickstarts-232431/workspaces/quick-starts-ws-232431&amp;tid=660b3398-b80e-49d2-bc5b-ac1dc93b5254\" target=\"_blank\" rel=\"noopener\">Link to Azure Machine Learning studio</a></td><td><a href=\"https://docs.microsoft.com/en-us/python/api/overview/azure/ml/intro?view=azure-ml-py\" target=\"_blank\" rel=\"noopener\">Link to Documentation</a></td></tr></table>"
          },
          "metadata": {}
        }
      ],
      "execution_count": 28,
      "metadata": {
        "gather": {
          "logged": 1682973200766
        }
      }
    },
    {
      "cell_type": "markdown",
      "source": [
        "## Run Details\n",
        "\n",
        "OPTIONAL: Write about the different models trained and their performance. Why do you think some models did better than others?\n",
        "\n",
        "TODO: In the cell below, use the `RunDetails` widget to show the different experiments."
      ],
      "metadata": {}
    },
    {
      "cell_type": "code",
      "source": [
        "RunDetails(remote_run).show()"
      ],
      "outputs": [
        {
          "output_type": "display_data",
          "data": {
            "text/plain": "_AutoMLWidget(widget_settings={'childWidgetDisplay': 'popup', 'send_telemetry': False, 'log_level': 'INFO', 's…",
            "application/vnd.jupyter.widget-view+json": {
              "version_major": 2,
              "version_minor": 0,
              "model_id": "3fc65a8ad2fe42ddb2bb6ee8770cfe87"
            }
          },
          "metadata": {}
        },
        {
          "output_type": "display_data",
          "data": {
            "application/aml.mini.widget.v1": "{\"status\": \"Completed\", \"workbench_run_details_uri\": \"https://ml.azure.com/runs/AutoML_0fc27147-a804-4625-89c0-e1b55d186c58?wsid=/subscriptions/9b72f9e6-56c5-4c16-991b-19c652994860/resourcegroups/aml-quickstarts-232431/workspaces/quick-starts-ws-232431&tid=660b3398-b80e-49d2-bc5b-ac1dc93b5254\", \"run_id\": \"AutoML_0fc27147-a804-4625-89c0-e1b55d186c58\", \"run_properties\": {\"run_id\": \"AutoML_0fc27147-a804-4625-89c0-e1b55d186c58\", \"created_utc\": \"2023-05-01T16:51:21.443414Z\", \"properties\": {\"num_iterations\": \"1000\", \"training_type\": \"TrainFull\", \"acquisition_function\": \"EI\", \"primary_metric\": \"normalized_root_mean_squared_error\", \"train_split\": \"0\", \"acquisition_parameter\": \"0\", \"num_cross_validation\": null, \"target\": \"Project-3-Compute\", \"AMLSettingsJsonString\": \"{\\\"path\\\":null,\\\"name\\\":\\\"Project_3_Experiment_AutoML\\\",\\\"subscription_id\\\":\\\"9b72f9e6-56c5-4c16-991b-19c652994860\\\",\\\"resource_group\\\":\\\"aml-quickstarts-232431\\\",\\\"workspace_name\\\":\\\"quick-starts-ws-232431\\\",\\\"region\\\":\\\"westeurope\\\",\\\"compute_target\\\":\\\"Project-3-Compute\\\",\\\"spark_service\\\":null,\\\"azure_service\\\":\\\"remote\\\",\\\"many_models\\\":false,\\\"pipeline_fetch_max_batch_size\\\":1,\\\"enable_batch_run\\\":true,\\\"enable_parallel_run\\\":false,\\\"num_procs\\\":null,\\\"enable_run_restructure\\\":false,\\\"start_auxiliary_runs_before_parent_complete\\\":false,\\\"enable_code_generation\\\":true,\\\"iterations\\\":1000,\\\"primary_metric\\\":\\\"normalized_root_mean_squared_error\\\",\\\"task_type\\\":\\\"regression\\\",\\\"positive_label\\\":null,\\\"data_script\\\":null,\\\"test_size\\\":0.0,\\\"test_include_predictions_only\\\":false,\\\"validation_size\\\":0.0,\\\"n_cross_validations\\\":null,\\\"y_min\\\":null,\\\"y_max\\\":null,\\\"num_classes\\\":null,\\\"featurization\\\":\\\"auto\\\",\\\"_ignore_package_version_incompatibilities\\\":false,\\\"is_timeseries\\\":false,\\\"max_cores_per_iteration\\\":1,\\\"max_concurrent_iterations\\\":5,\\\"iteration_timeout_minutes\\\":null,\\\"mem_in_mb\\\":null,\\\"enforce_time_on_windows\\\":false,\\\"experiment_timeout_minutes\\\":60,\\\"experiment_exit_score\\\":null,\\\"partition_column_names\\\":null,\\\"whitelist_models\\\":null,\\\"blacklist_algos\\\":[\\\"TensorFlowDNN\\\",\\\"TensorFlowLinearRegressor\\\"],\\\"supported_models\\\":[\\\"GradientBoosting\\\",\\\"KNN\\\",\\\"LightGBM\\\",\\\"TensorFlowDNN\\\",\\\"ElasticNet\\\",\\\"ExtremeRandomTrees\\\",\\\"RandomForest\\\",\\\"OnlineGradientDescentRegressor\\\",\\\"TensorFlowLinearRegressor\\\",\\\"LassoLars\\\",\\\"FastLinearRegressor\\\",\\\"SGD\\\",\\\"XGBoostRegressor\\\",\\\"DecisionTree\\\",\\\"TabnetRegressor\\\"],\\\"private_models\\\":[],\\\"auto_blacklist\\\":true,\\\"blacklist_samples_reached\\\":false,\\\"exclude_nan_labels\\\":true,\\\"verbosity\\\":20,\\\"_debug_log\\\":\\\"azureml_automl.log\\\",\\\"show_warnings\\\":false,\\\"model_explainability\\\":true,\\\"service_url\\\":null,\\\"sdk_url\\\":null,\\\"sdk_packages\\\":null,\\\"enable_onnx_compatible_models\\\":false,\\\"enable_split_onnx_featurizer_estimator_models\\\":false,\\\"vm_type\\\":\\\"STANDARD_DS3_V2\\\",\\\"telemetry_verbosity\\\":20,\\\"send_telemetry\\\":true,\\\"enable_dnn\\\":false,\\\"scenario\\\":\\\"AutoML\\\",\\\"environment_label\\\":null,\\\"save_mlflow\\\":false,\\\"enable_categorical_indicators\\\":false,\\\"force_text_dnn\\\":false,\\\"enable_feature_sweeping\\\":true,\\\"enable_early_stopping\\\":true,\\\"early_stopping_n_iters\\\":10,\\\"arguments\\\":null,\\\"dataset_id\\\":\\\"f769a57c-181e-4abc-a343-6297ae3a824a\\\",\\\"hyperdrive_config\\\":null,\\\"validation_dataset_id\\\":null,\\\"run_source\\\":null,\\\"metrics\\\":null,\\\"enable_metric_confidence\\\":false,\\\"enable_ensembling\\\":true,\\\"enable_stack_ensembling\\\":true,\\\"ensemble_iterations\\\":15,\\\"enable_tf\\\":false,\\\"enable_subsampling\\\":null,\\\"subsample_seed\\\":null,\\\"enable_nimbusml\\\":false,\\\"enable_streaming\\\":false,\\\"force_streaming\\\":false,\\\"track_child_runs\\\":true,\\\"n_best_runs\\\":1,\\\"allowed_private_models\\\":[],\\\"label_column_name\\\":\\\"GENHLTH\\\",\\\"weight_column_name\\\":null,\\\"cv_split_column_names\\\":null,\\\"enable_local_managed\\\":false,\\\"_local_managed_run_id\\\":null,\\\"cost_mode\\\":1,\\\"lag_length\\\":0,\\\"metric_operation\\\":\\\"minimize\\\",\\\"preprocess\\\":true}\", \"DataPrepJsonString\": \"{\\\\\\\"training_data\\\\\\\": {\\\\\\\"datasetId\\\\\\\": \\\\\\\"f769a57c-181e-4abc-a343-6297ae3a824a\\\\\\\"}, \\\\\\\"datasets\\\\\\\": 0}\", \"EnableSubsampling\": null, \"runTemplate\": \"AutoML\", \"azureml.runsource\": \"automl\", \"display_task_type\": \"regression\", \"dependencies_versions\": \"{\\\"azureml-widgets\\\": \\\"1.49.0\\\", \\\"azureml-training-tabular\\\": \\\"1.49.0\\\", \\\"azureml-train\\\": \\\"1.49.0\\\", \\\"azureml-train-restclients-hyperdrive\\\": \\\"1.49.0\\\", \\\"azureml-train-core\\\": \\\"1.49.0\\\", \\\"azureml-train-automl\\\": \\\"1.49.0\\\", \\\"azureml-train-automl-runtime\\\": \\\"1.49.0\\\", \\\"azureml-train-automl-client\\\": \\\"1.49.0\\\", \\\"azureml-tensorboard\\\": \\\"1.49.0\\\", \\\"azureml-telemetry\\\": \\\"1.49.0\\\", \\\"azureml-sdk\\\": \\\"1.49.0\\\", \\\"azureml-responsibleai\\\": \\\"1.49.0\\\", \\\"azureml-pipeline\\\": \\\"1.49.0\\\", \\\"azureml-pipeline-steps\\\": \\\"1.49.0\\\", \\\"azureml-pipeline-core\\\": \\\"1.49.0\\\", \\\"azureml-opendatasets\\\": \\\"1.49.0\\\", \\\"azureml-mlflow\\\": \\\"1.49.0\\\", \\\"azureml-interpret\\\": \\\"1.49.0\\\", \\\"azureml-inference-server-http\\\": \\\"0.8.0\\\", \\\"azureml-explain-model\\\": \\\"1.49.0\\\", \\\"azureml-defaults\\\": \\\"1.49.0\\\", \\\"azureml-dataset-runtime\\\": \\\"1.49.0\\\", \\\"azureml-dataprep\\\": \\\"4.9.1\\\", \\\"azureml-dataprep-rslex\\\": \\\"2.16.1\\\", \\\"azureml-dataprep-native\\\": \\\"38.0.0\\\", \\\"azureml-datadrift\\\": \\\"1.49.0\\\", \\\"azureml-core\\\": \\\"1.49.0\\\", \\\"azureml-contrib-services\\\": \\\"1.49.0\\\", \\\"azureml-contrib-server\\\": \\\"1.49.0\\\", \\\"azureml-contrib-reinforcementlearning\\\": \\\"1.49.0\\\", \\\"azureml-contrib-pipeline-steps\\\": \\\"1.49.0\\\", \\\"azureml-contrib-notebook\\\": \\\"1.49.0\\\", \\\"azureml-contrib-fairness\\\": \\\"1.49.0\\\", \\\"azureml-contrib-dataset\\\": \\\"1.49.0\\\", \\\"azureml-contrib-automl-pipeline-steps\\\": \\\"1.49.0\\\", \\\"azureml-cli-common\\\": \\\"1.49.0\\\", \\\"azureml-automl-runtime\\\": \\\"1.49.0\\\", \\\"azureml-automl-dnn-nlp\\\": \\\"1.49.0\\\", \\\"azureml-automl-core\\\": \\\"1.49.0\\\", \\\"azureml-accel-models\\\": \\\"1.49.0\\\"}\", \"_aml_system_scenario_identification\": \"Remote.Parent\", \"ClientType\": \"SDK\", \"PlatformVersion\": \"DPV1\", \"environment_cpu_name\": \"AzureML-AutoML\", \"environment_cpu_label\": \"prod\", \"environment_gpu_name\": \"AzureML-AutoML-GPU\", \"environment_gpu_label\": \"prod\", \"root_attribution\": \"automl\", \"attribution\": \"AutoML\", \"Orchestrator\": \"AutoML\", \"CancelUri\": \"https://westeurope.api.azureml.ms/jasmine/v1.0/subscriptions/9b72f9e6-56c5-4c16-991b-19c652994860/resourceGroups/aml-quickstarts-232431/providers/Microsoft.MachineLearningServices/workspaces/quick-starts-ws-232431/experimentids/153d7fd5-dda7-49ed-84f0-5405ac5b17ab/cancel/AutoML_0fc27147-a804-4625-89c0-e1b55d186c58\", \"ClientSdkVersion\": null, \"snapshotId\": \"00000000-0000-0000-0000-000000000000\", \"SetupRunId\": \"AutoML_0fc27147-a804-4625-89c0-e1b55d186c58_setup\", \"SetupRunContainerId\": \"dcid.AutoML_0fc27147-a804-4625-89c0-e1b55d186c58_setup\", \"FeaturizationRunJsonPath\": \"featurizer_container.json\", \"FeaturizationRunId\": \"AutoML_0fc27147-a804-4625-89c0-e1b55d186c58_featurize\", \"ProblemInfoJsonString\": \"{\\\"dataset_num_categorical\\\": 0, \\\"is_sparse\\\": true, \\\"subsampling\\\": false, \\\"has_extra_col\\\": true, \\\"dataset_classes\\\": 7, \\\"dataset_features\\\": 9632, \\\"dataset_samples\\\": 397308, \\\"single_frequency_class_detected\\\": false}\", \"ModelExplainRunId\": \"AutoML_0fc27147-a804-4625-89c0-e1b55d186c58_ModelExplain\"}, \"tags\": {\"model_explain_run\": \"best_run\", \"_aml_system_automl_run_workspace_id\": \"943934c3-a8a3-4ca6-991d-f1117b983437\", \"_aml_system_azureml.automlComponent\": \"AutoML\", \"pipeline_id_000\": \"faf12f74cf9bbd358ca5525682c5030d36f7be7c;4bc4ec47eb8df2d5d68b361cd60120e65196f757;2dc95d8bafd84221b8de309021c722b4fa570e77;7839ca66a0ff9be386363c852f0384a7b2a1c93f;0e4d1e646ec698bc1e08f88af9d6e54d9b5422df;7ac99a8d7e1f10883e7b154ca80bc4c96085ea6e;479c55b6c3a03475283e7d7c59e1e9c64f36d7cd;d06172a655b6232a9b9f551137c6a5776dd25598;86f7c6ce026522eff88f32e647e3e27450da2679;363e188cf66af3167162068ddb47df1e1d4c64c1;cb44bb856e47d617d7a9ad0d334455564181de96;e82ddfae3f3411c8b05ab2d7bcfa24efe6127128;8dd0d2b5b07d59df7d3518d8fdd9759f1d7144ab;b76be6b5846772ee1128c4d415381c1e9fed455e;3d41561aa650aa5533e046dbc8a84c64295d0663;735cba3318c2ccc77fba61252dbfd5b383e4584f;2fc5ee5be65983eab8d5af23f74954191da0c4f2;ae729f09378486945c70eb2a2306f8aa8f4e30a7;8a88a88c161345f1ea426367a9f85077c834f4e0;b5f35f573ce4f6e8526176d4e0932b5193598307;__AutoML_Ensemble__;__AutoML_Stack_Ensemble__\", \"score_000\": \"0.10100834891391398;0.10133701973464475;0.10870520051091795;0.10881335773676629;NaN;NaN;NaN;NaN;NaN;NaN;NaN;NaN;NaN;NaN;NaN;NaN;NaN;NaN;NaN;NaN;0.10082166967691142;0.10082638378372696\", \"predicted_cost_000\": \"0;0;0.5;0.5;0.5;0.5;0.5;0.5;0.5;0.5;0.5;0.5;0.5;0.5;0.5;0.5;0.5;0.5;0.5;0.5;0;0\", \"fit_time_000\": \"61.422355;685.156692;1614.2735089999999;2668.317822;NaN;NaN;NaN;NaN;NaN;NaN;NaN;NaN;NaN;NaN;NaN;NaN;NaN;NaN;NaN;NaN;12;617\", \"training_percent_000\": \"100;100;100;100;100;100;100;100;100;100;100;100;100;100;100;100;100;100;100;100;100;100\", \"iteration_000\": \"0;1;2;4;8;17;19;18;3;13;16;11;12;10;15;9;7;5;14;6;20;21\", \"run_preprocessor_000\": \"MaxAbsScaler;MaxAbsScaler;MaxAbsScaler;MaxAbsScaler;StandardScalerWrapper;;;;StandardScalerWrapper;;;;StandardScalerWrapper;;;;;MaxAbsScaler;;;;\", \"run_algorithm_000\": \"LightGBM;XGBoostRegressor;ElasticNet;ElasticNet;ElasticNet;;;;ElasticNet;;;;ElasticNet;;;;;ElasticNet;;;VotingEnsemble;StackEnsemble\", \"_aml_system_azureml.automl_early_exit_message\": \"Experiment timeout reached, hence experiment stopped. Current experiment timeout: 1 hour(s) 0 minute(s)\", \"automl_best_child_run_id\": \"AutoML_0fc27147-a804-4625-89c0-e1b55d186c58_20\", \"model_explain_best_run_child_id\": \"AutoML_0fc27147-a804-4625-89c0-e1b55d186c58_20\"}, \"end_time_utc\": \"2023-05-01T18:53:05.833456Z\", \"status\": \"Completed\", \"log_files\": {}, \"log_groups\": [], \"run_duration\": \"2:01:44\", \"run_number\": \"1682959881\", \"run_queued_details\": {\"status\": \"Completed\", \"details\": null}}, \"child_runs\": [{\"run_id\": \"AutoML_0fc27147-a804-4625-89c0-e1b55d186c58_setup\", \"run_number\": 1682959894, \"metric\": null, \"status\": \"Completed\", \"run_type\": \"azureml.scriptrun\", \"training_percent\": null, \"start_time\": \"2023-05-01T16:51:50.365146Z\", \"end_time\": \"2023-05-01T16:56:11.448864Z\", \"created_time\": \"2023-05-01T16:51:34.513814Z\", \"created_time_dt\": \"2023-05-01T16:51:34.513814Z\", \"duration\": \"0:04:36\", \"iteration\": null, \"goal\": null, \"run_name\": \"Completed\", \"run_properties\": null}, {\"run_id\": \"AutoML_0fc27147-a804-4625-89c0-e1b55d186c58_featurize\", \"run_number\": 1682960171, \"metric\": null, \"status\": \"Completed\", \"run_type\": \"automl.featurization\", \"training_percent\": null, \"start_time\": \"2023-05-01T16:56:12.379879Z\", \"end_time\": \"2023-05-01T17:40:59.24845Z\", \"created_time\": \"2023-05-01T16:56:11.82327Z\", \"created_time_dt\": \"2023-05-01T16:56:11.82327Z\", \"duration\": \"0:44:47\", \"iteration\": null, \"goal\": null, \"run_name\": \"Completed\", \"run_properties\": null}, {\"run_id\": \"AutoML_0fc27147-a804-4625-89c0-e1b55d186c58_0\", \"run_number\": 1682962861, \"metric\": null, \"status\": \"Completed\", \"run_type\": null, \"training_percent\": \"100\", \"start_time\": \"2023-05-01T17:42:01.958434Z\", \"end_time\": \"2023-05-01T17:43:23.027086Z\", \"created_time\": \"2023-05-01T17:41:01.600745Z\", \"created_time_dt\": \"2023-05-01T17:41:01.600745Z\", \"duration\": \"0:02:21\", \"iteration\": \"0\", \"goal\": \"normalized_root_mean_squared_error_min\", \"run_name\": \"MaxAbsScaler, LightGBM\", \"run_properties\": \"copy=True\", \"primary_metric\": 0.10100835, \"best_metric\": 0.10100835}, {\"run_id\": \"AutoML_0fc27147-a804-4625-89c0-e1b55d186c58_1\", \"run_number\": 1682962862, \"metric\": null, \"status\": \"Completed\", \"run_type\": null, \"training_percent\": \"100\", \"start_time\": \"2023-05-01T17:43:23.891271Z\", \"end_time\": \"2023-05-01T17:55:07.018376Z\", \"created_time\": \"2023-05-01T17:41:02.443196Z\", \"created_time_dt\": \"2023-05-01T17:41:02.443196Z\", \"duration\": \"0:14:04\", \"iteration\": \"1\", \"goal\": \"normalized_root_mean_squared_error_min\", \"run_name\": \"MaxAbsScaler, XGBoostRegressor\", \"run_properties\": \"copy=True\", \"primary_metric\": 0.10133702, \"best_metric\": 0.10100835}, {\"run_id\": \"AutoML_0fc27147-a804-4625-89c0-e1b55d186c58_2\", \"run_number\": 1682962863, \"metric\": null, \"status\": \"Completed\", \"run_type\": null, \"training_percent\": \"100\", \"start_time\": \"2023-05-01T17:57:07.869433Z\", \"end_time\": \"2023-05-01T18:24:18.775809Z\", \"created_time\": \"2023-05-01T17:41:03.227989Z\", \"created_time_dt\": \"2023-05-01T17:41:03.227989Z\", \"duration\": \"0:43:15\", \"iteration\": \"2\", \"goal\": \"normalized_root_mean_squared_error_min\", \"run_name\": \"MaxAbsScaler, ElasticNet\", \"run_properties\": \"copy=True\", \"primary_metric\": 0.1087052, \"best_metric\": 0.10100835}, {\"run_id\": \"AutoML_0fc27147-a804-4625-89c0-e1b55d186c58_worker_0\", \"run_number\": 1682962864, \"metric\": null, \"status\": \"Canceled\", \"run_type\": \"azureml.scriptrun\", \"training_percent\": null, \"start_time\": \"2023-05-01T17:41:15.513355Z\", \"end_time\": \"2023-05-01T18:41:47.486307Z\", \"created_time\": \"2023-05-01T17:41:04.183059Z\", \"created_time_dt\": \"2023-05-01T17:41:04.183059Z\", \"duration\": \"1:00:43\", \"iteration\": null, \"goal\": null, \"run_name\": \"Canceled\", \"run_properties\": null}, {\"run_id\": \"AutoML_0fc27147-a804-4625-89c0-e1b55d186c58_7\", \"run_number\": 1682962865, \"metric\": null, \"status\": \"Canceled\", \"run_type\": null, \"training_percent\": \"100\", \"start_time\": \"2023-05-01T18:41:43.285253Z\", \"end_time\": \"2023-05-01T18:41:43.285253Z\", \"created_time\": \"2023-05-01T17:41:05.936968Z\", \"created_time_dt\": \"2023-05-01T17:41:05.936968Z\", \"duration\": \"1:00:37\", \"iteration\": \"7\", \"goal\": null, \"run_name\": \"Canceled\", \"run_properties\": null}, {\"run_id\": \"AutoML_0fc27147-a804-4625-89c0-e1b55d186c58_worker_1\", \"run_number\": 1682962866, \"metric\": null, \"status\": \"Canceled\", \"run_type\": \"azureml.scriptrun\", \"training_percent\": null, \"start_time\": \"2023-05-01T17:41:15.885425Z\", \"end_time\": \"2023-05-01T18:41:47.37809Z\", \"created_time\": \"2023-05-01T17:41:06.211507Z\", \"created_time_dt\": \"2023-05-01T17:41:06.211507Z\", \"duration\": \"1:00:41\", \"iteration\": null, \"goal\": null, \"run_name\": \"Canceled\", \"run_properties\": null}, {\"run_id\": \"AutoML_0fc27147-a804-4625-89c0-e1b55d186c58_11\", \"run_number\": 1682962867, \"metric\": null, \"status\": \"Canceled\", \"run_type\": null, \"training_percent\": \"100\", \"start_time\": \"2023-05-01T18:41:42.599234Z\", \"end_time\": \"2023-05-01T18:41:42.599234Z\", \"created_time\": \"2023-05-01T17:41:07.979471Z\", \"created_time_dt\": \"2023-05-01T17:41:07.979471Z\", \"duration\": \"1:00:34\", \"iteration\": \"11\", \"goal\": null, \"run_name\": \"Canceled\", \"run_properties\": null}, {\"run_id\": \"AutoML_0fc27147-a804-4625-89c0-e1b55d186c58_worker_2\", \"run_number\": 1682962868, \"metric\": null, \"status\": \"Canceled\", \"run_type\": \"azureml.scriptrun\", \"training_percent\": null, \"start_time\": \"2023-05-01T17:41:15.542728Z\", \"end_time\": \"2023-05-01T18:41:47.349739Z\", \"created_time\": \"2023-05-01T17:41:08.270266Z\", \"created_time_dt\": \"2023-05-01T17:41:08.270266Z\", \"duration\": \"1:00:39\", \"iteration\": null, \"goal\": null, \"run_name\": \"Canceled\", \"run_properties\": null}, {\"run_id\": \"AutoML_0fc27147-a804-4625-89c0-e1b55d186c58_15\", \"run_number\": 1682962869, \"metric\": null, \"status\": \"Canceled\", \"run_type\": null, \"training_percent\": \"100\", \"start_time\": \"2023-05-01T18:41:43.000515Z\", \"end_time\": \"2023-05-01T18:41:43.000515Z\", \"created_time\": \"2023-05-01T17:41:09.985149Z\", \"created_time_dt\": \"2023-05-01T17:41:09.985149Z\", \"duration\": \"1:00:33\", \"iteration\": \"15\", \"goal\": null, \"run_name\": \"Canceled\", \"run_properties\": null}, {\"run_id\": \"AutoML_0fc27147-a804-4625-89c0-e1b55d186c58_worker_3\", \"run_number\": 1682962870, \"metric\": null, \"status\": \"Canceled\", \"run_type\": \"azureml.scriptrun\", \"training_percent\": null, \"start_time\": \"2023-05-01T17:41:18.497866Z\", \"end_time\": \"2023-05-01T18:41:47.314049Z\", \"created_time\": \"2023-05-01T17:41:10.290771Z\", \"created_time_dt\": \"2023-05-01T17:41:10.290771Z\", \"duration\": \"1:00:37\", \"iteration\": null, \"goal\": null, \"run_name\": \"Canceled\", \"run_properties\": null}, {\"run_id\": \"AutoML_0fc27147-a804-4625-89c0-e1b55d186c58_17\", \"run_number\": 1682962871, \"metric\": null, \"status\": \"Canceled\", \"run_type\": null, \"training_percent\": \"100\", \"start_time\": \"2023-05-01T18:41:41.826282Z\", \"end_time\": \"2023-05-01T18:41:41.826282Z\", \"created_time\": \"2023-05-01T17:41:10.994765Z\", \"created_time_dt\": \"2023-05-01T17:41:10.994765Z\", \"duration\": \"1:00:30\", \"iteration\": \"17\", \"goal\": null, \"run_name\": \"Canceled\", \"run_properties\": null}, {\"run_id\": \"AutoML_0fc27147-a804-4625-89c0-e1b55d186c58_worker_4\", \"run_number\": 1682962872, \"metric\": null, \"status\": \"Canceled\", \"run_type\": \"azureml.scriptrun\", \"training_percent\": null, \"start_time\": \"2023-05-01T18:41:41.228434Z\", \"end_time\": \"2023-05-01T18:41:44.053826Z\", \"created_time\": \"2023-05-01T17:41:12.690372Z\", \"created_time_dt\": \"2023-05-01T17:41:12.690372Z\", \"duration\": \"1:00:31\", \"iteration\": null, \"goal\": null, \"run_name\": \"Canceled\", \"run_properties\": null}, {\"run_id\": \"AutoML_0fc27147-a804-4625-89c0-e1b55d186c58_21\", \"run_number\": 1682966509, \"metric\": null, \"status\": \"Completed\", \"run_type\": \"azureml.scriptrun\", \"training_percent\": \"100\", \"start_time\": \"2023-05-01T18:42:00.137454Z\", \"end_time\": \"2023-05-01T18:53:03.812249Z\", \"created_time\": \"2023-05-01T18:41:49.915449Z\", \"created_time_dt\": \"2023-05-01T18:41:49.915449Z\", \"duration\": \"0:11:13\", \"iteration\": \"21\", \"goal\": \"normalized_root_mean_squared_error_min\", \"run_name\": \"StackEnsemble\", \"run_properties\": \"base_learners=[('0', Pipeline(memory=None, steps=[('maxabsscaler', MaxAbsScaler(copy=True\", \"primary_metric\": 0.10082638, \"best_metric\": 0.10082638}], \"children_metrics\": {\"categories\": [0], \"series\": {\"normalized_median_absolute_error\": [{\"categories\": [\"0\", \"1\", \"2\", \"21\"], \"mode\": \"markers\", \"name\": \"normalized_median_absolute_error\", \"stepped\": false, \"type\": \"scatter\", \"data\": [0.06548503861019425, 0.0656256377696991, 0.07172221389090427, 0.065325412047883]}, {\"categories\": [\"0\", \"1\", \"2\", \"21\"], \"mode\": \"lines\", \"name\": \"normalized_median_absolute_error_min\", \"stepped\": true, \"type\": \"scatter\", \"data\": [0.06548503861019425, 0.06548503861019425, 0.06548503861019425, 0.065325412047883]}], \"normalized_root_mean_squared_error\": [{\"categories\": [\"0\", \"1\", \"2\", \"21\"], \"mode\": \"markers\", \"name\": \"normalized_root_mean_squared_error\", \"stepped\": false, \"type\": \"scatter\", \"data\": [0.10100834891391398, 0.10133701973464475, 0.10870520051091795, 0.10082638378372696]}, {\"categories\": [\"0\", \"1\", \"2\", \"21\"], \"mode\": \"lines\", \"name\": \"normalized_root_mean_squared_error_min\", \"stepped\": true, \"type\": \"scatter\", \"data\": [0.10100834891391398, 0.10100834891391398, 0.10100834891391398, 0.10082638378372696]}], \"normalized_mean_absolute_error\": [{\"categories\": [\"0\", \"1\", \"2\", \"21\"], \"mode\": \"markers\", \"name\": \"normalized_mean_absolute_error\", \"stepped\": false, \"type\": \"scatter\", \"data\": [0.0780711941109011, 0.07815454307303432, 0.08453073707642439, 0.0778514868383034]}, {\"categories\": [\"0\", \"1\", \"2\", \"21\"], \"mode\": \"lines\", \"name\": \"normalized_mean_absolute_error_min\", \"stepped\": true, \"type\": \"scatter\", \"data\": [0.0780711941109011, 0.0780711941109011, 0.0780711941109011, 0.0778514868383034]}], \"normalized_root_mean_squared_log_error\": [{\"categories\": [\"0\", \"1\", \"2\", \"21\"], \"mode\": \"markers\", \"name\": \"normalized_root_mean_squared_log_error\", \"stepped\": false, \"type\": \"scatter\", \"data\": [0.14828744186606801, 0.1484250073566981, 0.1576219529204, 0.1479635419377537]}, {\"categories\": [\"0\", \"1\", \"2\", \"21\"], \"mode\": \"lines\", \"name\": \"normalized_root_mean_squared_log_error_min\", \"stepped\": true, \"type\": \"scatter\", \"data\": [0.14828744186606801, 0.14828744186606801, 0.14828744186606801, 0.1479635419377537]}], \"explained_variance\": [{\"categories\": [\"0\", \"1\", \"2\", \"21\"], \"mode\": \"markers\", \"name\": \"explained_variance\", \"stepped\": false, \"type\": \"scatter\", \"data\": [0.4793773865508101, 0.4759902684281748, 0.39698371201828153, 0.48126889403429474]}, {\"categories\": [\"0\", \"1\", \"2\", \"21\"], \"mode\": \"lines\", \"name\": \"explained_variance_max\", \"stepped\": true, \"type\": \"scatter\", \"data\": [0.4793773865508101, 0.4793773865508101, 0.4793773865508101, 0.48126889403429474]}], \"spearman_correlation\": [{\"categories\": [\"0\", \"1\", \"2\", \"21\"], \"mode\": \"markers\", \"name\": \"spearman_correlation\", \"stepped\": false, \"type\": \"scatter\", \"data\": [0.6676073968458489, 0.6666253664680519, 0.6173540320292328, 0.6692236467808685]}, {\"categories\": [\"0\", \"1\", \"2\", \"21\"], \"mode\": \"lines\", \"name\": \"spearman_correlation_max\", \"stepped\": true, \"type\": \"scatter\", \"data\": [0.6676073968458489, 0.6676073968458489, 0.6676073968458489, 0.6692236467808685]}], \"root_mean_squared_log_error\": [{\"categories\": [\"0\", \"1\", \"2\", \"21\"], \"mode\": \"markers\", \"name\": \"root_mean_squared_log_error\", \"stepped\": false, \"type\": \"scatter\", \"data\": [0.2386594308771175, 0.23888083399318014, 0.25368274686199455, 0.23813813405265374]}, {\"categories\": [\"0\", \"1\", \"2\", \"21\"], \"mode\": \"lines\", \"name\": \"root_mean_squared_log_error_min\", \"stepped\": true, \"type\": \"scatter\", \"data\": [0.2386594308771175, 0.2386594308771175, 0.2386594308771175, 0.23813813405265374]}], \"mean_absolute_percentage_error\": [{\"categories\": [\"0\", \"1\", \"2\", \"21\"], \"mode\": \"markers\", \"name\": \"mean_absolute_percentage_error\", \"stepped\": false, \"type\": \"scatter\", \"data\": [32.33079930766579, 32.24157165076593, 34.873816390539965, 32.20079312473118]}, {\"categories\": [\"0\", \"1\", \"2\", \"21\"], \"mode\": \"lines\", \"name\": \"mean_absolute_percentage_error_min\", \"stepped\": true, \"type\": \"scatter\", \"data\": [32.33079930766579, 32.24157165076593, 32.24157165076593, 32.20079312473118]}], \"root_mean_squared_error\": [{\"categories\": [\"0\", \"1\", \"2\", \"21\"], \"mode\": \"markers\", \"name\": \"root_mean_squared_error\", \"stepped\": false, \"type\": \"scatter\", \"data\": [0.8080667913113119, 0.810696157877158, 0.8696416040873436, 0.8066110702698157]}, {\"categories\": [\"0\", \"1\", \"2\", \"21\"], \"mode\": \"lines\", \"name\": \"root_mean_squared_error_min\", \"stepped\": true, \"type\": \"scatter\", \"data\": [0.8080667913113119, 0.8080667913113119, 0.8080667913113119, 0.8066110702698157]}], \"r2_score\": [{\"categories\": [\"0\", \"1\", \"2\", \"21\"], \"mode\": \"markers\", \"name\": \"r2_score\", \"stepped\": false, \"type\": \"scatter\", \"data\": [0.47933211814610366, 0.4759382054855217, 0.3969589351646353, 0.481206380233712]}, {\"categories\": [\"0\", \"1\", \"2\", \"21\"], \"mode\": \"lines\", \"name\": \"r2_score_max\", \"stepped\": true, \"type\": \"scatter\", \"data\": [0.47933211814610366, 0.47933211814610366, 0.47933211814610366, 0.481206380233712]}], \"mean_absolute_error\": [{\"categories\": [\"0\", \"1\", \"2\", \"21\"], \"mode\": \"markers\", \"name\": \"mean_absolute_error\", \"stepped\": false, \"type\": \"scatter\", \"data\": [0.6245695528872088, 0.6252363445842746, 0.6762458966113951, 0.6228118947064272]}, {\"categories\": [\"0\", \"1\", \"2\", \"21\"], \"mode\": \"lines\", \"name\": \"mean_absolute_error_min\", \"stepped\": true, \"type\": \"scatter\", \"data\": [0.6245695528872088, 0.6245695528872088, 0.6245695528872088, 0.6228118947064272]}], \"median_absolute_error\": [{\"categories\": [\"0\", \"1\", \"2\", \"21\"], \"mode\": \"markers\", \"name\": \"median_absolute_error\", \"stepped\": false, \"type\": \"scatter\", \"data\": [0.523880308881554, 0.5250051021575928, 0.5737777111272342, 0.522603296383064]}, {\"categories\": [\"0\", \"1\", \"2\", \"21\"], \"mode\": \"lines\", \"name\": \"median_absolute_error_min\", \"stepped\": true, \"type\": \"scatter\", \"data\": [0.523880308881554, 0.523880308881554, 0.523880308881554, 0.522603296383064]}]}, \"metricName\": null, \"primaryMetricName\": \"normalized_root_mean_squared_error\", \"showLegend\": false}, \"run_metrics\": [{\"name\": \"experiment_status\", \"run_id\": \"AutoML_0fc27147-a804-4625-89c0-e1b55d186c58\", \"categories\": [0, 1, 2, 3, 4, 5, 6, 7, 8, 9, 10, 11, 12], \"series\": [{\"data\": [\"DatasetEvaluation\", \"FeaturesGeneration\", \"DatasetFeaturization\", \"DatasetFeaturizationCompleted\", \"ModelSelection\", \"BestRunExplainModel\", \"ModelExplanationDataSetSetup\", \"PickSurrogateModel\", \"EngineeredFeatureExplanations\", \"EngineeredFeatureExplanations\", \"RawFeaturesExplanations\", \"RawFeaturesExplanations\", \"BestRunExplainModel\"]}]}, {\"name\": \"experiment_status_description\", \"run_id\": \"AutoML_0fc27147-a804-4625-89c0-e1b55d186c58\", \"categories\": [0, 1, 2, 3, 4, 5, 6, 7, 8, 9, 10, 11, 12], \"series\": [{\"data\": [\"Gathering dataset statistics.\", \"Generating features for the dataset.\", \"Beginning to fit featurizers and featurize the dataset.\", \"Completed fit featurizers and featurizing the dataset.\", \"Beginning model selection.\", \"Best run model explanations started\", \"Model explanations data setup completed\", \"Choosing LightGBM as the surrogate model for explanations\", \"Computation of engineered features started\", \"Computation of engineered features completed\", \"Computation of raw features started\", \"Computation of raw features completed\", \"Best run model explanations completed\"]}]}, {\"name\": \"median_absolute_error\", \"run_id\": \"AutoML_0fc27147-a804-4625-89c0-e1b55d186c58\", \"categories\": [0], \"series\": [{\"data\": [0.5224769239230624]}]}, {\"name\": \"normalized_mean_absolute_error\", \"run_id\": \"AutoML_0fc27147-a804-4625-89c0-e1b55d186c58\", \"categories\": [0], \"series\": [{\"data\": [0.07784708716317647]}]}, {\"name\": \"mean_absolute_error\", \"run_id\": \"AutoML_0fc27147-a804-4625-89c0-e1b55d186c58\", \"categories\": [0], \"series\": [{\"data\": [0.6227766973054117]}]}, {\"name\": \"root_mean_squared_error\", \"run_id\": \"AutoML_0fc27147-a804-4625-89c0-e1b55d186c58\", \"categories\": [0], \"series\": [{\"data\": [0.8065733574152913]}]}, {\"name\": \"mean_absolute_percentage_error\", \"run_id\": \"AutoML_0fc27147-a804-4625-89c0-e1b55d186c58\", \"categories\": [0], \"series\": [{\"data\": [32.22403919573907]}]}, {\"name\": \"normalized_root_mean_squared_log_error\", \"run_id\": \"AutoML_0fc27147-a804-4625-89c0-e1b55d186c58\", \"categories\": [0], \"series\": [{\"data\": [0.14798295673582676]}]}, {\"name\": \"explained_variance\", \"run_id\": \"AutoML_0fc27147-a804-4625-89c0-e1b55d186c58\", \"categories\": [0], \"series\": [{\"data\": [0.48130265187921506]}]}, {\"name\": \"root_mean_squared_log_error\", \"run_id\": \"AutoML_0fc27147-a804-4625-89c0-e1b55d186c58\", \"categories\": [0], \"series\": [{\"data\": [0.23816938096473475]}]}, {\"name\": \"normalized_median_absolute_error\", \"run_id\": \"AutoML_0fc27147-a804-4625-89c0-e1b55d186c58\", \"categories\": [0], \"series\": [{\"data\": [0.0653096154903828]}]}, {\"name\": \"r2_score\", \"run_id\": \"AutoML_0fc27147-a804-4625-89c0-e1b55d186c58\", \"categories\": [0], \"series\": [{\"data\": [0.4812548911744846]}]}, {\"name\": \"spearman_correlation\", \"run_id\": \"AutoML_0fc27147-a804-4625-89c0-e1b55d186c58\", \"categories\": [0], \"series\": [{\"data\": [0.6693378895384264]}]}, {\"name\": \"normalized_root_mean_squared_error\", \"run_id\": \"AutoML_0fc27147-a804-4625-89c0-e1b55d186c58\", \"categories\": [0], \"series\": [{\"data\": [0.10082166967691142]}]}], \"run_logs\": \"\\nRun is completed.\", \"graph\": {}, \"widget_settings\": {\"childWidgetDisplay\": \"popup\", \"send_telemetry\": false, \"log_level\": \"INFO\", \"sdk_version\": \"1.49.0\"}, \"loading\": false}"
          },
          "metadata": {}
        }
      ],
      "execution_count": 29,
      "metadata": {
        "gather": {
          "logged": 1682973206098
        },
        "jupyter": {
          "outputs_hidden": false,
          "source_hidden": false
        },
        "nteract": {
          "transient": {
            "deleting": false
          }
        }
      }
    },
    {
      "cell_type": "code",
      "source": [
        "remote_run.wait_for_completion()"
      ],
      "outputs": [
        {
          "output_type": "execute_result",
          "execution_count": 18,
          "data": {
            "text/plain": "{'runId': 'AutoML_5ef93dca-d9a2-44af-a5cc-ad4e9f85d9f6',\n 'target': 'Project-3-Compute',\n 'status': 'Failed',\n 'startTimeUtc': '2023-04-30T19:46:20.667047Z',\n 'endTimeUtc': '2023-04-30T19:53:00.219386Z',\n 'services': {},\n 'error': {'error': {'code': 'UserError',\n   'message': 'The ExperimentTimeout should be set more than 60 minutes with an input data of rows*cols(397308*329=130714332), and up to 10,000,000.',\n   'messageFormat': 'The ExperimentTimeout should be set more than {minimum} minutes with an input data of rows*cols({rows}*{columns}={total}), and up to {maximum}.',\n   'messageParameters': {'minimum': '60',\n    'maximum': '10,000,000',\n    'rows': '397308',\n    'columns': '329',\n    'total': '130714332'},\n   'referenceCode': '315a3631-c201-44a1-931f-dad7a14b7ec4',\n   'detailsUri': 'https://aka.ms/azureml-run-troubleshooting',\n   'target': 'experiment_timeout_minutes',\n   'details': [],\n   'innerError': {'code': 'BadArgument',\n    'innerError': {'code': 'ArgumentOutOfRange'}}},\n  'time': '0001-01-01T00:00:00.000Z'},\n 'properties': {'num_iterations': '1000',\n  'training_type': 'TrainFull',\n  'acquisition_function': 'EI',\n  'primary_metric': 'normalized_mean_absolute_error',\n  'train_split': '0',\n  'acquisition_parameter': '0',\n  'num_cross_validation': None,\n  'target': 'Project-3-Compute',\n  'AMLSettingsJsonString': '{\"path\":null,\"name\":\"Project_3_Experiment_AutoML\",\"subscription_id\":\"9b72f9e6-56c5-4c16-991b-19c652994860\",\"resource_group\":\"aml-quickstarts-232380\",\"workspace_name\":\"quick-starts-ws-232380\",\"region\":\"southcentralus\",\"compute_target\":\"Project-3-Compute\",\"spark_service\":null,\"azure_service\":\"remote\",\"many_models\":false,\"pipeline_fetch_max_batch_size\":1,\"enable_batch_run\":true,\"enable_parallel_run\":false,\"num_procs\":null,\"enable_run_restructure\":false,\"start_auxiliary_runs_before_parent_complete\":false,\"enable_code_generation\":true,\"iterations\":1000,\"primary_metric\":\"normalized_mean_absolute_error\",\"task_type\":\"regression\",\"positive_label\":null,\"data_script\":null,\"test_size\":0.0,\"test_include_predictions_only\":false,\"validation_size\":0.0,\"n_cross_validations\":null,\"y_min\":null,\"y_max\":null,\"num_classes\":null,\"featurization\":\"auto\",\"_ignore_package_version_incompatibilities\":false,\"is_timeseries\":false,\"max_cores_per_iteration\":1,\"max_concurrent_iterations\":5,\"iteration_timeout_minutes\":null,\"mem_in_mb\":null,\"enforce_time_on_windows\":false,\"experiment_timeout_minutes\":30,\"experiment_exit_score\":null,\"partition_column_names\":null,\"whitelist_models\":null,\"blacklist_algos\":[\"TensorFlowDNN\",\"TensorFlowLinearRegressor\"],\"supported_models\":[\"KNN\",\"TensorFlowDNN\",\"RandomForest\",\"ExtremeRandomTrees\",\"TensorFlowLinearRegressor\",\"ElasticNet\",\"DecisionTree\",\"TabnetRegressor\",\"FastLinearRegressor\",\"LightGBM\",\"LassoLars\",\"XGBoostRegressor\",\"OnlineGradientDescentRegressor\",\"SGD\",\"GradientBoosting\"],\"private_models\":[],\"auto_blacklist\":true,\"blacklist_samples_reached\":false,\"exclude_nan_labels\":true,\"verbosity\":20,\"_debug_log\":\"azureml_automl.log\",\"show_warnings\":false,\"model_explainability\":true,\"service_url\":null,\"sdk_url\":null,\"sdk_packages\":null,\"enable_onnx_compatible_models\":false,\"enable_split_onnx_featurizer_estimator_models\":false,\"vm_type\":\"STANDARD_DS3_V2\",\"telemetry_verbosity\":20,\"send_telemetry\":true,\"enable_dnn\":false,\"scenario\":\"AutoML\",\"environment_label\":null,\"save_mlflow\":false,\"enable_categorical_indicators\":false,\"force_text_dnn\":false,\"enable_feature_sweeping\":true,\"enable_early_stopping\":true,\"early_stopping_n_iters\":10,\"arguments\":null,\"dataset_id\":\"39213d84-6c64-4098-8d8b-147018ad7707\",\"hyperdrive_config\":null,\"validation_dataset_id\":null,\"run_source\":null,\"metrics\":null,\"enable_metric_confidence\":false,\"enable_ensembling\":true,\"enable_stack_ensembling\":true,\"ensemble_iterations\":15,\"enable_tf\":false,\"enable_subsampling\":null,\"subsample_seed\":null,\"enable_nimbusml\":false,\"enable_streaming\":false,\"force_streaming\":false,\"track_child_runs\":true,\"n_best_runs\":1,\"allowed_private_models\":[],\"label_column_name\":\"GENHLTH\",\"weight_column_name\":null,\"cv_split_column_names\":null,\"enable_local_managed\":false,\"_local_managed_run_id\":null,\"cost_mode\":1,\"lag_length\":0,\"metric_operation\":\"minimize\",\"preprocess\":true}',\n  'DataPrepJsonString': '{\\\\\"training_data\\\\\": {\\\\\"datasetId\\\\\": \\\\\"39213d84-6c64-4098-8d8b-147018ad7707\\\\\"}, \\\\\"datasets\\\\\": 0}',\n  'EnableSubsampling': None,\n  'runTemplate': 'AutoML',\n  'azureml.runsource': 'automl',\n  'display_task_type': 'regression',\n  'dependencies_versions': '{\"azureml-widgets\": \"1.49.0\", \"azureml-training-tabular\": \"1.49.0\", \"azureml-train\": \"1.49.0\", \"azureml-train-restclients-hyperdrive\": \"1.49.0\", \"azureml-train-core\": \"1.49.0\", \"azureml-train-automl\": \"1.49.0\", \"azureml-train-automl-runtime\": \"1.49.0\", \"azureml-train-automl-client\": \"1.49.0\", \"azureml-tensorboard\": \"1.49.0\", \"azureml-telemetry\": \"1.49.0\", \"azureml-sdk\": \"1.49.0\", \"azureml-responsibleai\": \"1.49.0\", \"azureml-pipeline\": \"1.49.0\", \"azureml-pipeline-steps\": \"1.49.0\", \"azureml-pipeline-core\": \"1.49.0\", \"azureml-opendatasets\": \"1.49.0\", \"azureml-mlflow\": \"1.49.0\", \"azureml-interpret\": \"1.49.0\", \"azureml-inference-server-http\": \"0.8.0\", \"azureml-explain-model\": \"1.49.0\", \"azureml-defaults\": \"1.49.0\", \"azureml-dataset-runtime\": \"1.49.0\", \"azureml-dataprep\": \"4.9.1\", \"azureml-dataprep-rslex\": \"2.16.1\", \"azureml-dataprep-native\": \"38.0.0\", \"azureml-datadrift\": \"1.49.0\", \"azureml-core\": \"1.49.0\", \"azureml-contrib-services\": \"1.49.0\", \"azureml-contrib-server\": \"1.49.0\", \"azureml-contrib-reinforcementlearning\": \"1.49.0\", \"azureml-contrib-pipeline-steps\": \"1.49.0\", \"azureml-contrib-notebook\": \"1.49.0\", \"azureml-contrib-fairness\": \"1.49.0\", \"azureml-contrib-dataset\": \"1.49.0\", \"azureml-contrib-automl-pipeline-steps\": \"1.49.0\", \"azureml-cli-common\": \"1.49.0\", \"azureml-automl-runtime\": \"1.49.0\", \"azureml-automl-dnn-nlp\": \"1.49.0\", \"azureml-automl-core\": \"1.49.0\", \"azureml-accel-models\": \"1.49.0\"}',\n  '_aml_system_scenario_identification': 'Remote.Parent',\n  'ClientType': 'SDK',\n  'PlatformVersion': 'DPV1',\n  'environment_cpu_name': 'AzureML-AutoML',\n  'environment_cpu_label': 'prod',\n  'environment_gpu_name': 'AzureML-AutoML-GPU',\n  'environment_gpu_label': 'prod',\n  'root_attribution': 'automl',\n  'attribution': 'AutoML',\n  'Orchestrator': 'AutoML',\n  'CancelUri': 'https://southcentralus.api.azureml.ms/jasmine/v1.0/subscriptions/9b72f9e6-56c5-4c16-991b-19c652994860/resourceGroups/aml-quickstarts-232380/providers/Microsoft.MachineLearningServices/workspaces/quick-starts-ws-232380/experimentids/4069551c-6863-462f-89e2-d44626af7ce9/cancel/AutoML_5ef93dca-d9a2-44af-a5cc-ad4e9f85d9f6',\n  'ClientSdkVersion': None,\n  'snapshotId': '00000000-0000-0000-0000-000000000000',\n  'SetupRunId': 'AutoML_5ef93dca-d9a2-44af-a5cc-ad4e9f85d9f6_setup',\n  'SetupRunContainerId': 'dcid.AutoML_5ef93dca-d9a2-44af-a5cc-ad4e9f85d9f6_setup',\n  'errors': 'Setup iteration failed: {\"run_error\": {\"exception\": {\"message\": \"DataException:\\\\n\\\\tMessage: The ExperimentTimeout should be set more than {minimum} minutes with an input data of rows*cols({rows}*{columns}={total}), and up to {maximum}.\\\\n\\\\tInnerException: None\\\\n\\\\tErrorResponse \\\\n{\\\\n    \\\\\"error\\\\\": {\\\\n        \\\\\"code\\\\\": \\\\\"UserError\\\\\",\\\\n        \\\\\"message\\\\\": \\\\\"The ExperimentTimeout should be set more than {minimum} minutes with an input data of rows*cols({rows}*{columns}={total}), and up to {maximum}.\\\\\",\\\\n        \\\\\"target\\\\\": \\\\\"experiment_timeout_minutes\\\\\",\\\\n        \\\\\"inner_error\\\\\": {\\\\n            \\\\\"code\\\\\": \\\\\"BadArgument\\\\\",\\\\n            \\\\\"inner_error\\\\\": {\\\\n                \\\\\"code\\\\\": \\\\\"ArgumentOutOfRange\\\\\"\\\\n            }\\\\n        },\\\\n        \\\\\"reference_code\\\\\": \\\\\"315a3631-c201-44a1-931f-dad7a14b7ec4\\\\\"\\\\n    }\\\\n}\", \"exception_class\": \"DataException\"}, \"traceback\": \"  File \\\\\"setup_run.py\\\\\", line 64, in execute\\\\n    feature_sweeped_state_container = ExperimentPreparationPhase.run(\\\\n  File \\\\\"experiment_preparation_phase.py\\\\\", line 46, in run\\\\n    ExperimentPreparationPhase._validate_training_data(raw_experiment_data, automl_settings)\\\\n  File \\\\\"experiment_preparation_phase.py\\\\\", line 106, in _validate_training_data\\\\n    training_utilities._validate_user_experiment_data(raw_experiment_data, automl_settings)\\\\n  File \\\\\"training_utilities.py\\\\\", line 374, in _validate_user_experiment_data\\\\n    ml_engine.validate(\\\\n  File \\\\\"ml_engine.py\\\\\", line 72, in validate\\\\n    experiment_data_validator.validate(raw_experiment_data)\\\\n  File \\\\\"validators.py\\\\\", line 66, in validate\\\\n    self.validate_raw_experiment_data(raw_experiment_data)\\\\n  File \\\\\"raw_experiment_data_validator.py\\\\\", line 99, in validate_raw_experiment_data\\\\n    self._check_experiment_timeout_for_train_data(\\\\n  File \\\\\"raw_experiment_data_validator.py\\\\\", line 348, in _check_experiment_timeout_for_train_data\\\\n    raise DataException(azureml_error=AzureMLError.create(\\\\n\", \"has_pii\": false, \"is_critical\": true}}'},\n 'inputDatasets': [{'dataset': {'id': '39213d84-6c64-4098-8d8b-147018ad7707'}, 'consumptionDetails': {'type': 'RunInput', 'inputName': 'training_data', 'mechanism': 'Direct'}}],\n 'outputDatasets': [],\n 'logFiles': {},\n 'submittedBy': 'ODL_User 232380'}"
          },
          "metadata": {}
        }
      ],
      "execution_count": 18,
      "metadata": {
        "gather": {
          "logged": 1682884385858
        }
      }
    },
    {
      "cell_type": "markdown",
      "source": [
        "## Best Model\n",
        "\n",
        "TODO: In the cell below, get the best model from the automl experiments and display all the properties of the model.\n",
        "\n"
      ],
      "metadata": {}
    },
    {
      "cell_type": "code",
      "source": [
        "#TODO: Save the best model"
      ],
      "outputs": [],
      "execution_count": 14,
      "metadata": {
        "gather": {
          "logged": 1598431426111
        },
        "jupyter": {
          "outputs_hidden": false,
          "source_hidden": false
        },
        "nteract": {
          "transient": {
            "deleting": false
          }
        }
      }
    },
    {
      "cell_type": "code",
      "source": [
        "best_run, fitted_model = remote_run.get_output()\n",
        "print(best_run)\n",
        "print(fitted_model)"
      ],
      "outputs": [
        {
          "output_type": "stream",
          "name": "stderr",
          "text": "WARNING:root:The version of the SDK does not match the version the model was trained on.\nWARNING:root:The consistency in the result may not be guaranteed.\nWARNING:root:Package:azureml-automl-core, training version:1.50.0, current version:1.49.0\nPackage:azureml-automl-runtime, training version:1.50.0, current version:1.49.0\nPackage:azureml-core, training version:1.50.0, current version:1.49.0\nPackage:azureml-dataprep, training version:4.10.6, current version:4.9.1\nPackage:azureml-dataprep-rslex, training version:2.17.5, current version:2.16.1\nPackage:azureml-dataset-runtime, training version:1.50.0, current version:1.49.0\nPackage:azureml-defaults, training version:1.50.0, current version:1.49.0\nPackage:azureml-interpret, training version:1.50.0, current version:1.49.0\nPackage:azureml-mlflow, training version:1.50.0, current version:1.49.0\nPackage:azureml-pipeline-core, training version:1.50.0.post1, current version:1.49.0\nPackage:azureml-responsibleai, training version:1.50.0, current version:1.49.0\nPackage:azureml-telemetry, training version:1.50.0, current version:1.49.0\nPackage:azureml-train-automl-client, training version:1.50.0, current version:1.49.0\nPackage:azureml-train-automl-runtime, training version:1.50.0, current version:1.49.0\nPackage:azureml-train-core, training version:1.50.0, current version:1.49.0\nPackage:azureml-train-restclients-hyperdrive, training version:1.50.0, current version:1.49.0\nPackage:azureml-training-tabular, training version:1.50.0, current version:1.49.0\nWARNING:root:Please ensure the version of your local conda dependencies match the version on which your model was trained in order to properly retrieve your model.\n"
        },
        {
          "output_type": "stream",
          "name": "stdout",
          "text": "Run(Experiment: Project_3_Experiment_AutoML,\nId: AutoML_0fc27147-a804-4625-89c0-e1b55d186c58_20,\nType: azureml.scriptrun,\nStatus: Completed)\nRegressionPipeline(pipeline=Pipeline(memory=None,\n                                     steps=[('datatransformer',\n                                             DataTransformer(enable_dnn=False, enable_feature_sweeping=True, feature_sweeping_config={}, feature_sweeping_timeout=86400, featurization_config=None, force_text_dnn=False, is_cross_validation=False, is_onnx_compatible=False, observer=None, task='regression', working_dir='/mnt/batch/t...\n                                             PreFittedSoftVotingRegressor(estimators=[('0', Pipeline(memory=None, steps=[('maxabsscaler', MaxAbsScaler(copy=True)), ('lightgbmregressor', LightGBMRegressor(min_data_in_leaf=20, n_jobs=1, problem_info=ProblemInfo(gpu_training_param_dict={'processing_unit_type': 'cpu'}), random_state=None))], verbose=False)), ('1', Pipeline(memory=None, steps=[('maxabsscaler', MaxAbsScaler(copy=True)), ('xgboostregressor', XGBoostRegressor(n_jobs=1, problem_info=ProblemInfo(gpu_training_param_dict={'processing_unit_type': 'cpu'}), random_state=0, tree_method='auto'))], verbose=False))], weights=[0.625, 0.375]))],\n                                     verbose=False),\n                   stddev=[0.8065362260784928])\n"
        }
      ],
      "execution_count": 48,
      "metadata": {
        "gather": {
          "logged": 1682974865012
        },
        "jupyter": {
          "outputs_hidden": false,
          "source_hidden": false
        },
        "nteract": {
          "transient": {
            "deleting": false
          }
        }
      }
    },
    {
      "cell_type": "code",
      "source": [
        "best_run.id"
      ],
      "outputs": [
        {
          "output_type": "execute_result",
          "execution_count": 50,
          "data": {
            "text/plain": "'AutoML_0fc27147-a804-4625-89c0-e1b55d186c58_20'"
          },
          "metadata": {}
        },
        {
          "output_type": "stream",
          "name": "stderr",
          "text": "WARNING:urllib3.connectionpool:Retrying (Retry(total=2, connect=2, read=3, redirect=None, status=None)) after connection broken by 'ConnectTimeoutError(<urllib3.connection.HTTPSConnection object at 0x7f0d796befa0>, 'Connection to westeurope.experiments.azureml.net timed out. (connect timeout=100)')': /history/v1.0/subscriptions/9b72f9e6-56c5-4c16-991b-19c652994860/resourceGroups/aml-quickstarts-232431/providers/Microsoft.MachineLearningServices/workspaces/quick-starts-ws-232431/experimentids/153d7fd5-dda7-49ed-84f0-5405ac5b17ab/runs/AutoML_0fc27147-a804-4625-89c0-e1b55d186c58\nWARNING:urllib3.connectionpool:Retrying (Retry(total=2, connect=2, read=3, redirect=None, status=None)) after connection broken by 'ConnectTimeoutError(<urllib3.connection.HTTPSConnection object at 0x7f0d79688b50>, 'Connection to westeurope.experiments.azureml.net timed out. (connect timeout=100)')': /artifact/v2.0/subscriptions/9b72f9e6-56c5-4c16-991b-19c652994860/resourceGroups/aml-quickstarts-232431/providers/Microsoft.MachineLearningServices/workspaces/quick-starts-ws-232431/artifacts/prefix/contentinfo/ExperimentRun/dcid.AutoML_0fc27147-a804-4625-89c0-e1b55d186c58/user_logs\nWARNING:urllib3.connectionpool:Retrying (Retry(total=2, connect=2, read=3, redirect=None, status=None)) after connection broken by 'ConnectTimeoutError(<urllib3.connection.HTTPSConnection object at 0x7f0d79688a90>, 'Connection to westeurope.experiments.azureml.net timed out. (connect timeout=100)')': /artifact/v2.0/subscriptions/9b72f9e6-56c5-4c16-991b-19c652994860/resourceGroups/aml-quickstarts-232431/providers/Microsoft.MachineLearningServices/workspaces/quick-starts-ws-232431/artifacts/prefix/contentinfo/ExperimentRun/dcid.AutoML_b1811d1d-1fe3-4bc0-8741-597f5c61e5c8/system_logs\nWARNING:urllib3.connectionpool:Retrying (Retry(total=2, connect=2, read=3, redirect=None, status=None)) after connection broken by 'ConnectTimeoutError(<urllib3.connection.HTTPSConnection object at 0x7f0d7977f9a0>, 'Connection to westeurope.experiments.azureml.net timed out. (connect timeout=100)')': /history/v1.0/subscriptions/9b72f9e6-56c5-4c16-991b-19c652994860/resourceGroups/aml-quickstarts-232431/providers/Microsoft.MachineLearningServices/workspaces/quick-starts-ws-232431/experiments/Project_3_Experiment_AutoML/runs/AutoML_0fc27147-a804-4625-89c0-e1b55d186c58/details\nWARNING:urllib3.connectionpool:Retrying (Retry(total=2, connect=2, read=3, redirect=None, status=None)) after connection broken by 'ConnectTimeoutError(<urllib3.connection.HTTPSConnection object at 0x7f0d796244c0>, 'Connection to westeurope.experiments.azureml.net timed out. (connect timeout=100)')': /history/v1.0/subscriptions/9b72f9e6-56c5-4c16-991b-19c652994860/resourceGroups/aml-quickstarts-232431/providers/Microsoft.MachineLearningServices/workspaces/quick-starts-ws-232431/experiments/Project_3_Experiment_AutoML/metrics:query?mergestrategytype=None\nWARNING:urllib3.connectionpool:Retrying (Retry(total=1, connect=1, read=3, redirect=None, status=None)) after connection broken by 'ConnectTimeoutError(<urllib3.connection.HTTPSConnection object at 0x7f0d796242e0>, 'Connection to westeurope.experiments.azureml.net timed out. (connect timeout=100)')': /artifact/v2.0/subscriptions/9b72f9e6-56c5-4c16-991b-19c652994860/resourceGroups/aml-quickstarts-232431/providers/Microsoft.MachineLearningServices/workspaces/quick-starts-ws-232431/artifacts/prefix/contentinfo/ExperimentRun/dcid.AutoML_0fc27147-a804-4625-89c0-e1b55d186c58/user_logs\nWARNING:urllib3.connectionpool:Retrying (Retry(total=1, connect=1, read=3, redirect=None, status=None)) after connection broken by 'ConnectTimeoutError(<urllib3.connection.HTTPSConnection object at 0x7f0d79624eb0>, 'Connection to westeurope.experiments.azureml.net timed out. (connect timeout=100)')': /artifact/v2.0/subscriptions/9b72f9e6-56c5-4c16-991b-19c652994860/resourceGroups/aml-quickstarts-232431/providers/Microsoft.MachineLearningServices/workspaces/quick-starts-ws-232431/artifacts/prefix/contentinfo/ExperimentRun/dcid.AutoML_b1811d1d-1fe3-4bc0-8741-597f5c61e5c8/system_logs\nWARNING:urllib3.connectionpool:Retrying (Retry(total=2, connect=2, read=3, redirect=None, status=None)) after connection broken by 'ConnectTimeoutError(<urllib3.connection.HTTPSConnection object at 0x7f0d79620cd0>, 'Connection to westeurope.experiments.azureml.net timed out. (connect timeout=100)')': /artifact/v2.0/subscriptions/9b72f9e6-56c5-4c16-991b-19c652994860/resourceGroups/aml-quickstarts-232431/providers/Microsoft.MachineLearningServices/workspaces/quick-starts-ws-232431/artifacts/prefix/contentinfo/ExperimentRun/dcid.AutoML_0fc27147-a804-4625-89c0-e1b55d186c58/system_logs\nWARNING:urllib3.connectionpool:Retrying (Retry(total=1, connect=1, read=3, redirect=None, status=None)) after connection broken by 'ConnectTimeoutError(<urllib3.connection.HTTPSConnection object at 0x7f0d796be040>, 'Connection to westeurope.experiments.azureml.net timed out. (connect timeout=100)')': /history/v1.0/subscriptions/9b72f9e6-56c5-4c16-991b-19c652994860/resourceGroups/aml-quickstarts-232431/providers/Microsoft.MachineLearningServices/workspaces/quick-starts-ws-232431/experiments/Project_3_Experiment_AutoML/metrics:query?mergestrategytype=None\nWARNING:urllib3.connectionpool:Retrying (Retry(total=2, connect=2, read=3, redirect=None, status=None)) after connection broken by 'ConnectTimeoutError(<urllib3.connection.HTTPSConnection object at 0x7f0d796be6a0>, 'Connection to westeurope.experiments.azureml.net timed out. (connect timeout=100)')': /history/v1.0/subscriptions/9b72f9e6-56c5-4c16-991b-19c652994860/resourceGroups/aml-quickstarts-232431/providers/Microsoft.MachineLearningServices/workspaces/quick-starts-ws-232431/experiments/Project_3_Experiment_AutoML/runs/AutoML_b1811d1d-1fe3-4bc0-8741-597f5c61e5c8/children?$orderby=StartTimeUtc%20desc&$top=500\nWARNING:urllib3.connectionpool:Retrying (Retry(total=0, connect=0, read=3, redirect=None, status=None)) after connection broken by 'ConnectTimeoutError(<urllib3.connection.HTTPSConnection object at 0x7f0d79620c70>, 'Connection to westeurope.experiments.azureml.net timed out. (connect timeout=100)')': /artifact/v2.0/subscriptions/9b72f9e6-56c5-4c16-991b-19c652994860/resourceGroups/aml-quickstarts-232431/providers/Microsoft.MachineLearningServices/workspaces/quick-starts-ws-232431/artifacts/prefix/contentinfo/ExperimentRun/dcid.AutoML_0fc27147-a804-4625-89c0-e1b55d186c58/user_logs\nWARNING:urllib3.connectionpool:Retrying (Retry(total=2, connect=2, read=3, redirect=None, status=None)) after connection broken by 'ConnectTimeoutError(<urllib3.connection.HTTPSConnection object at 0x7f0d795284c0>, 'Connection to westeurope.experiments.azureml.net timed out. (connect timeout=100)')': /history/v1.0/subscriptions/9b72f9e6-56c5-4c16-991b-19c652994860/resourceGroups/aml-quickstarts-232431/providers/Microsoft.MachineLearningServices/workspaces/quick-starts-ws-232431/experiments/Project_3_Experiment_AutoML/runs/AutoML_0fc27147-a804-4625-89c0-e1b55d186c58/children?$orderby=StartTimeUtc%20desc&$top=500\nWARNING:urllib3.connectionpool:Retrying (Retry(total=2, connect=2, read=3, redirect=None, status=None)) after connection broken by 'ConnectTimeoutError(<urllib3.connection.HTTPSConnection object at 0x7f0d7952f100>, 'Connection to westeurope.experiments.azureml.net timed out. (connect timeout=100)')': /history/v1.0/subscriptions/9b72f9e6-56c5-4c16-991b-19c652994860/resourceGroups/aml-quickstarts-232431/providers/Microsoft.MachineLearningServices/workspaces/quick-starts-ws-232431/experimentids/153d7fd5-dda7-49ed-84f0-5405ac5b17ab/runs/AutoML_0fc27147-a804-4625-89c0-e1b55d186c58\nWARNING:urllib3.connectionpool:Retrying (Retry(total=2, connect=2, read=3, redirect=None, status=None)) after connection broken by 'ConnectTimeoutError(<urllib3.connection.HTTPSConnection object at 0x7f0d795286d0>, 'Connection to westeurope.experiments.azureml.net timed out. (connect timeout=100)')': /history/v1.0/subscriptions/9b72f9e6-56c5-4c16-991b-19c652994860/resourceGroups/aml-quickstarts-232431/providers/Microsoft.MachineLearningServices/workspaces/quick-starts-ws-232431/experimentids/153d7fd5-dda7-49ed-84f0-5405ac5b17ab/runs/AutoML_b1811d1d-1fe3-4bc0-8741-597f5c61e5c8\nWARNING:urllib3.connectionpool:Retrying (Retry(total=1, connect=1, read=3, redirect=None, status=None)) after connection broken by 'ConnectTimeoutError(<urllib3.connection.HTTPSConnection object at 0x7f0d79528d90>, 'Connection to westeurope.experiments.azureml.net timed out. (connect timeout=100)')': /history/v1.0/subscriptions/9b72f9e6-56c5-4c16-991b-19c652994860/resourceGroups/aml-quickstarts-232431/providers/Microsoft.MachineLearningServices/workspaces/quick-starts-ws-232431/experiments/Project_3_Experiment_AutoML/runs/AutoML_0fc27147-a804-4625-89c0-e1b55d186c58/children?$orderby=StartTimeUtc%20desc&$top=500\nWARNING:urllib3.connectionpool:Retrying (Retry(total=2, connect=2, read=3, redirect=None, status=None)) after connection broken by 'ConnectTimeoutError(<urllib3.connection.HTTPSConnection object at 0x7f0d7951d4f0>, 'Connection to westeurope.experiments.azureml.net timed out. (connect timeout=100)')': /history/v1.0/subscriptions/9b72f9e6-56c5-4c16-991b-19c652994860/resourceGroups/aml-quickstarts-232431/providers/Microsoft.MachineLearningServices/workspaces/quick-starts-ws-232431/experimentids/153d7fd5-dda7-49ed-84f0-5405ac5b17ab/runs/AutoML_0fc27147-a804-4625-89c0-e1b55d186c58\nWARNING:urllib3.connectionpool:Retrying (Retry(total=2, connect=2, read=3, redirect=None, status=None)) after connection broken by 'ConnectTimeoutError(<urllib3.connection.HTTPSConnection object at 0x7f0d7950d6a0>, 'Connection to westeurope.experiments.azureml.net timed out. (connect timeout=100)')': /history/v1.0/subscriptions/9b72f9e6-56c5-4c16-991b-19c652994860/resourceGroups/aml-quickstarts-232431/providers/Microsoft.MachineLearningServices/workspaces/quick-starts-ws-232431/experimentids/153d7fd5-dda7-49ed-84f0-5405ac5b17ab/runs/AutoML_b1811d1d-1fe3-4bc0-8741-597f5c61e5c8\nWARNING:urllib3.connectionpool:Retrying (Retry(total=0, connect=0, read=3, redirect=None, status=None)) after connection broken by 'ConnectTimeoutError(<urllib3.connection.HTTPSConnection object at 0x7f0d7952f700>, 'Connection to westeurope.experiments.azureml.net timed out. (connect timeout=100)')': /history/v1.0/subscriptions/9b72f9e6-56c5-4c16-991b-19c652994860/resourceGroups/aml-quickstarts-232431/providers/Microsoft.MachineLearningServices/workspaces/quick-starts-ws-232431/experiments/Project_3_Experiment_AutoML/runs/AutoML_0fc27147-a804-4625-89c0-e1b55d186c58/children?$orderby=StartTimeUtc%20desc&$top=500\nWARNING:urllib3.connectionpool:Retrying (Retry(total=2, connect=2, read=3, redirect=None, status=None)) after connection broken by 'ConnectTimeoutError(<urllib3.connection.HTTPSConnection object at 0x7f0d7951dac0>, 'Connection to westeurope.experiments.azureml.net timed out. (connect timeout=100)')': /history/v1.0/subscriptions/9b72f9e6-56c5-4c16-991b-19c652994860/resourceGroups/aml-quickstarts-232431/providers/Microsoft.MachineLearningServices/workspaces/quick-starts-ws-232431/experimentids/153d7fd5-dda7-49ed-84f0-5405ac5b17ab/runs/AutoML_0fc27147-a804-4625-89c0-e1b55d186c58\nWARNING:urllib3.connectionpool:Retrying (Retry(total=2, connect=2, read=3, redirect=None, status=None)) after connection broken by 'ConnectTimeoutError(<urllib3.connection.HTTPSConnection object at 0x7f0d79528b20>, 'Connection to westeurope.experiments.azureml.net timed out. (connect timeout=100)')': /artifact/v2.0/subscriptions/9b72f9e6-56c5-4c16-991b-19c652994860/resourceGroups/aml-quickstarts-232431/providers/Microsoft.MachineLearningServices/workspaces/quick-starts-ws-232431/artifacts/prefix/contentinfo/ExperimentRun/dcid.AutoML_b1811d1d-1fe3-4bc0-8741-597f5c61e5c8/system_logs\nWARNING:urllib3.connectionpool:Retrying (Retry(total=2, connect=2, read=3, redirect=None, status=None)) after connection broken by 'ConnectTimeoutError(<urllib3.connection.HTTPSConnection object at 0x7f0d774c39d0>, 'Connection to westeurope.experiments.azureml.net timed out. (connect timeout=100)')': /history/v1.0/subscriptions/9b72f9e6-56c5-4c16-991b-19c652994860/resourceGroups/aml-quickstarts-232431/providers/Microsoft.MachineLearningServices/workspaces/quick-starts-ws-232431/experimentids/153d7fd5-dda7-49ed-84f0-5405ac5b17ab/runs/AutoML_0fc27147-a804-4625-89c0-e1b55d186c58\nWARNING:urllib3.connectionpool:Retrying (Retry(total=2, connect=2, read=3, redirect=None, status=None)) after connection broken by 'ConnectTimeoutError(<urllib3.connection.HTTPSConnection object at 0x7f0d774c6280>, 'Connection to westeurope.experiments.azureml.net timed out. (connect timeout=100)')': /history/v1.0/subscriptions/9b72f9e6-56c5-4c16-991b-19c652994860/resourceGroups/aml-quickstarts-232431/providers/Microsoft.MachineLearningServices/workspaces/quick-starts-ws-232431/experiments/Project_3_Experiment_AutoML/metrics:query?mergestrategytype=None\nWARNING:urllib3.connectionpool:Retrying (Retry(total=2, connect=2, read=3, redirect=None, status=None)) after connection broken by 'ConnectTimeoutError(<urllib3.connection.HTTPSConnection object at 0x7f0d774c6dc0>, 'Connection to westeurope.experiments.azureml.net timed out. (connect timeout=100)')': /history/v1.0/subscriptions/9b72f9e6-56c5-4c16-991b-19c652994860/resourceGroups/aml-quickstarts-232431/providers/Microsoft.MachineLearningServices/workspaces/quick-starts-ws-232431/experiments/Project_3_Experiment_AutoML/runs/AutoML_0fc27147-a804-4625-89c0-e1b55d186c58/details\nWARNING:urllib3.connectionpool:Retrying (Retry(total=1, connect=1, read=3, redirect=None, status=None)) after connection broken by 'ConnectTimeoutError(<urllib3.connection.HTTPSConnection object at 0x7f0d774c66a0>, 'Connection to westeurope.experiments.azureml.net timed out. (connect timeout=100)')': /artifact/v2.0/subscriptions/9b72f9e6-56c5-4c16-991b-19c652994860/resourceGroups/aml-quickstarts-232431/providers/Microsoft.MachineLearningServices/workspaces/quick-starts-ws-232431/artifacts/prefix/contentinfo/ExperimentRun/dcid.AutoML_b1811d1d-1fe3-4bc0-8741-597f5c61e5c8/system_logs\nWARNING:urllib3.connectionpool:Retrying (Retry(total=1, connect=1, read=3, redirect=None, status=None)) after connection broken by 'ConnectTimeoutError(<urllib3.connection.HTTPSConnection object at 0x7f0d79616d90>, 'Connection to westeurope.experiments.azureml.net timed out. (connect timeout=100)')': /history/v1.0/subscriptions/9b72f9e6-56c5-4c16-991b-19c652994860/resourceGroups/aml-quickstarts-232431/providers/Microsoft.MachineLearningServices/workspaces/quick-starts-ws-232431/experiments/Project_3_Experiment_AutoML/runs/AutoML_0fc27147-a804-4625-89c0-e1b55d186c58/details\nWARNING:urllib3.connectionpool:Retrying (Retry(total=0, connect=0, read=3, redirect=None, status=None)) after connection broken by 'ConnectTimeoutError(<urllib3.connection.HTTPSConnection object at 0x7f0d7f9e1670>, 'Connection to westeurope.experiments.azureml.net timed out. (connect timeout=100)')': /artifact/v2.0/subscriptions/9b72f9e6-56c5-4c16-991b-19c652994860/resourceGroups/aml-quickstarts-232431/providers/Microsoft.MachineLearningServices/workspaces/quick-starts-ws-232431/artifacts/prefix/contentinfo/ExperimentRun/dcid.AutoML_b1811d1d-1fe3-4bc0-8741-597f5c61e5c8/system_logs\nWARNING:urllib3.connectionpool:Retrying (Retry(total=2, connect=2, read=3, redirect=None, status=None)) after connection broken by 'ConnectTimeoutError(<urllib3.connection.HTTPSConnection object at 0x7f0d773ccf70>, 'Connection to westeurope.experiments.azureml.net timed out. (connect timeout=100)')': /history/v1.0/subscriptions/9b72f9e6-56c5-4c16-991b-19c652994860/resourceGroups/aml-quickstarts-232431/providers/Microsoft.MachineLearningServices/workspaces/quick-starts-ws-232431/experiments/Project_3_Experiment_AutoML/runs/AutoML_b1811d1d-1fe3-4bc0-8741-597f5c61e5c8/children?$orderby=StartTimeUtc%20desc&$top=500\n"
        }
      ],
      "execution_count": 50,
      "metadata": {
        "jupyter": {
          "source_hidden": false,
          "outputs_hidden": false
        },
        "nteract": {
          "transient": {
            "deleting": false
          }
        },
        "gather": {
          "logged": 1682974914065
        }
      }
    },
    {
      "cell_type": "code",
      "source": [
        "best_run.get_metrics()"
      ],
      "outputs": [
        {
          "output_type": "execute_result",
          "execution_count": 49,
          "data": {
            "text/plain": "{'normalized_root_mean_squared_error': 0.10082166967691142,\n 'root_mean_squared_log_error': 0.23816938096473475,\n 'explained_variance': 0.48130265187921506,\n 'normalized_median_absolute_error': 0.0653096154903828,\n 'normalized_root_mean_squared_log_error': 0.14798295673582676,\n 'normalized_mean_absolute_error': 0.07784708716317647,\n 'mean_absolute_percentage_error': 32.22403919573907,\n 'mean_absolute_error': 0.6227766973054117,\n 'r2_score': 0.4812548911744846,\n 'spearman_correlation': 0.6693378895384264,\n 'root_mean_squared_error': 0.8065733574152913,\n 'median_absolute_error': 0.5224769239230624,\n 'residuals': 'aml://artifactId/ExperimentRun/dcid.AutoML_0fc27147-a804-4625-89c0-e1b55d186c58_20/residuals',\n 'predicted_true': 'aml://artifactId/ExperimentRun/dcid.AutoML_0fc27147-a804-4625-89c0-e1b55d186c58_20/predicted_true'}"
          },
          "metadata": {}
        }
      ],
      "execution_count": 49,
      "metadata": {
        "gather": {
          "logged": 1682974880068
        }
      }
    },
    {
      "cell_type": "markdown",
      "source": [
        "## Model Deployment\n",
        "\n",
        "Remember you have to deploy only one of the two models you trained but you still need to register both the models. Perform the steps in the rest of this notebook only if you wish to deploy this model.\n",
        "\n",
        "TODO: In the cell below, register the model, create an inference config and deploy the model as a web service."
      ],
      "metadata": {}
    },
    {
      "cell_type": "code",
      "source": [
        "model = best_run.register_model(\n",
        "    model_name='AutoML_Behavioral_Model', \n",
        "    model_path='outputs/model.pkl', \n",
        "    description='AutoML Model for Behavioral Dataset')"
      ],
      "outputs": [],
      "execution_count": 34,
      "metadata": {
        "gather": {
          "logged": 1682973320521
        }
      }
    },
    {
      "cell_type": "code",
      "source": [
        "model"
      ],
      "outputs": [
        {
          "output_type": "execute_result",
          "execution_count": 35,
          "data": {
            "text/plain": "Model(workspace=Workspace.create(name='quick-starts-ws-232431', subscription_id='9b72f9e6-56c5-4c16-991b-19c652994860', resource_group='aml-quickstarts-232431'), name=AutoML_Behavioral_Model, id=AutoML_Behavioral_Model:1, version=1, tags={}, properties={})"
          },
          "metadata": {}
        }
      ],
      "execution_count": 35,
      "metadata": {
        "gather": {
          "logged": 1682973324249
        }
      }
    },
    {
      "cell_type": "code",
      "source": [
        "best_run.download_files(output_directory='automl_output_dir')"
      ],
      "outputs": [],
      "execution_count": 36,
      "metadata": {
        "gather": {
          "logged": 1682973328225
        }
      }
    },
    {
      "cell_type": "code",
      "source": [
        "env = Environment.from_conda_specification(\"AutoML-env\", \"automl_output_dir/outputs/conda_env_v_1_0_0.yml\")\n",
        "inference_config = InferenceConfig(entry_script='automl_output_dir/outputs/scoring_file_v_2_0_0.py',\n",
        "                                   environment=env)"
      ],
      "outputs": [],
      "execution_count": 37,
      "metadata": {
        "gather": {
          "logged": 1682973328385
        }
      }
    },
    {
      "cell_type": "code",
      "source": [
        "deployment_config = AciWebservice.deploy_configuration(\n",
        "    enable_app_insights=True,\n",
        "    auth_enabled=True) "
      ],
      "outputs": [],
      "execution_count": 38,
      "metadata": {
        "gather": {
          "logged": 1682973329520
        }
      }
    },
    {
      "cell_type": "code",
      "source": [
        "service = Model.deploy(ws, \"behavioral-model-endpoint\", [model], inference_config, deployment_config, overwrite=True)"
      ],
      "outputs": [],
      "execution_count": 39,
      "metadata": {
        "gather": {
          "logged": 1682973340749
        }
      }
    },
    {
      "cell_type": "code",
      "source": [
        "service.wait_for_deployment(show_output = True)"
      ],
      "outputs": [
        {
          "output_type": "stream",
          "name": "stdout",
          "text": "Tips: You can try get_logs(): https://aka.ms/debugimage#dockerlog or local deployment: https://aka.ms/debugimage#debug-locally to debug if deployment takes longer than 10 minutes.\nRunning\n2023-05-01 20:35:33+00:00 Creating Container Registry if not exists.\n2023-05-01 20:35:34+00:00 Registering the environment.\n2023-05-01 20:35:35+00:00 Building image..\n2023-05-01 20:55:53+00:00 Generating deployment configuration.\n2023-05-01 20:55:54+00:00 Submitting deployment to compute..\n2023-05-01 20:55:59+00:00 Checking the status of deployment behavioral-model-endpoint..\n2023-05-01 20:58:05+00:00 Checking the status of inference endpoint behavioral-model-endpoint.\nSucceeded\nACI service creation operation finished, operation \"Succeeded\"\n"
        }
      ],
      "execution_count": 40,
      "metadata": {
        "gather": {
          "logged": 1682974722968
        }
      }
    },
    {
      "cell_type": "markdown",
      "source": [
        "TODO: In the cell below, send a request to the web service you deployed to test it."
      ],
      "metadata": {
        "collapsed": true,
        "gather": {
          "logged": 1598431657736
        },
        "jupyter": {
          "outputs_hidden": false,
          "source_hidden": false
        },
        "nteract": {
          "transient": {
            "deleting": false
          }
        }
      }
    },
    {
      "cell_type": "code",
      "source": [
        "pandas_df = dataset.to_pandas_dataframe()\n",
        "pandas_df.pop('GENHLTH')\n",
        "sample_pandas = pandas_df.iloc[:5]\n",
        "df_dict = sample_pandas.to_dict('records')\n",
        "data_dict = {\"Inputs\": {\"data\": df_dict}}"
      ],
      "outputs": [],
      "execution_count": 41,
      "metadata": {
        "gather": {
          "logged": 1682974733169
        }
      }
    },
    {
      "cell_type": "code",
      "source": [
        "import urllib.request\n",
        "import json\n",
        "import os\n",
        "import ssl\n",
        "\n",
        "def allowSelfSignedHttps(allowed):\n",
        "    # bypass the server certificate verification on client side\n",
        "    if allowed and not os.environ.get('PYTHONHTTPSVERIFY', '') and getattr(ssl, '_create_unverified_context', None):\n",
        "        ssl._create_default_https_context = ssl._create_unverified_context\n",
        "\n",
        "allowSelfSignedHttps(True) # this line is needed if you use self-signed certificate in your scoring service.\n",
        "\n",
        "# Request data goes here\n",
        "# The example below assumes JSON formatting which may be updated\n",
        "# depending on the format your endpoint expects.\n",
        "# More information can be found here:\n",
        "# https://docs.microsoft.com/azure/machine-learning/how-to-deploy-advanced-entry-script\n",
        "data =  data_dict\n",
        "\n",
        "body = str.encode(json.dumps(data))\n",
        "\n",
        "endpoints = Webservice.list(ws, model_name=model.name)\n",
        "url = endpoints[0].scoring_uri\n",
        "\n",
        "# Replace this with the primary/secondary key or AMLToken for the endpoint\n",
        "api_key = service.get_keys()[0]\n",
        "if not api_key:\n",
        "    raise Exception(\"A key should be provided to invoke the endpoint\")\n",
        "\n",
        "\n",
        "headers = {'Content-Type':'application/json', 'Authorization':('Bearer '+ api_key)}\n",
        "\n",
        "req = urllib.request.Request(url, body, headers)\n",
        "\n",
        "try:\n",
        "    response = urllib.request.urlopen(req)\n",
        "\n",
        "    result = response.read()\n",
        "    print(result)\n",
        "except urllib.error.HTTPError as error:\n",
        "    print(\"The request failed with status code: \" + str(error.code))\n",
        "\n",
        "    # Print the headers - they include the requert ID and the timestamp, which are useful for debugging the failure\n",
        "    print(error.info())\n",
        "    print(error.read().decode(\"utf8\", 'ignore'))"
      ],
      "outputs": [
        {
          "output_type": "stream",
          "name": "stdout",
          "text": "b'{\"Results\": [4.27616945127904, 2.560542597523808, 3.63977787743829, 4.806087360910714, 2.973141870722119]}'\n"
        }
      ],
      "execution_count": 42,
      "metadata": {
        "gather": {
          "logged": 1682974739082
        }
      }
    },
    {
      "cell_type": "markdown",
      "source": [
        "TODO: In the cell below, print the logs of the web service and delete the service"
      ],
      "metadata": {
        "collapsed": true,
        "gather": {
          "logged": 1598432765711
        },
        "jupyter": {
          "outputs_hidden": false,
          "source_hidden": false
        },
        "nteract": {
          "transient": {
            "deleting": false
          }
        }
      }
    },
    {
      "cell_type": "code",
      "source": [
        "service.get_logs()"
      ],
      "outputs": [
        {
          "output_type": "execute_result",
          "execution_count": 43,
          "data": {
            "text/plain": "'/bin/bash: /azureml-envs/azureml_399903ab218c6bc60c3ac2efb6ffbdcd/lib/libtinfo.so.6: no version information available (required by /bin/bash)\\n/bin/bash: /azureml-envs/azureml_399903ab218c6bc60c3ac2efb6ffbdcd/lib/libtinfo.so.6: no version information available (required by /bin/bash)\\n/bin/bash: /azureml-envs/azureml_399903ab218c6bc60c3ac2efb6ffbdcd/lib/libtinfo.so.6: no version information available (required by /bin/bash)\\n/bin/bash: /azureml-envs/azureml_399903ab218c6bc60c3ac2efb6ffbdcd/lib/libtinfo.so.6: no version information available (required by /bin/bash)\\n2023-05-01T20:57:47,008161800+00:00 - iot-server/run \\n2023-05-01T20:57:47,007852300+00:00 - rsyslog/run \\nbash: /azureml-envs/azureml_399903ab218c6bc60c3ac2efb6ffbdcd/lib/libtinfo.so.6: no version information available (required by bash)\\n2023-05-01T20:57:47,025982800+00:00 - gunicorn/run \\n2023-05-01T20:57:47,031034800+00:00 | gunicorn/run | \\n2023-05-01T20:57:47,035790100+00:00 - nginx/run \\n2023-05-01T20:57:47,104078300+00:00 | gunicorn/run | ###############################################\\n2023-05-01T20:57:47,120016500+00:00 | gunicorn/run | AzureML Container Runtime Information\\n2023-05-01T20:57:47,202378200+00:00 | gunicorn/run | ###############################################\\n2023-05-01T20:57:47,215665800+00:00 | gunicorn/run | \\n2023-05-01T20:57:47,225647300+00:00 | gunicorn/run | \\n2023-05-01T20:57:47,315300800+00:00 | gunicorn/run | AzureML image information: openmpi4.1.0-ubuntu20.04, Materializaton Build:20230120.v2\\n2023-05-01T20:57:47,321760500+00:00 | gunicorn/run | \\n2023-05-01T20:57:47,326514900+00:00 | gunicorn/run | \\n2023-05-01T20:57:47,331028900+00:00 | gunicorn/run | PATH environment variable: /azureml-envs/azureml_399903ab218c6bc60c3ac2efb6ffbdcd/bin:/opt/miniconda/bin:/usr/local/sbin:/usr/local/bin:/usr/sbin:/usr/bin:/sbin:/bin\\n2023-05-01T20:57:47,335686400+00:00 | gunicorn/run | PYTHONPATH environment variable: \\n2023-05-01T20:57:47,403545000+00:00 | gunicorn/run | \\n2023-05-01T20:57:47,410211900+00:00 | gunicorn/run | Pip Dependencies (before dynamic installation)\\n\\nEdgeHubConnectionString and IOTEDGE_IOTHUBHOSTNAME are not set. Exiting...\\n/bin/bash: /azureml-envs/azureml_399903ab218c6bc60c3ac2efb6ffbdcd/lib/libtinfo.so.6: no version information available (required by /bin/bash)\\n2023-05-01T20:57:48,008008000+00:00 - iot-server/finish 1 0\\n2023-05-01T20:57:48,012626100+00:00 - Exit code 1 is normal. Not restarting iot-server.\\nadal==1.2.7\\napplicationinsights==0.11.10\\narch==5.3.1\\nargcomplete==2.1.2\\narviz @ file:///tmp/build/80754af9/arviz_1614019183254/work\\nattrs==23.1.0\\nazure-common==1.1.28\\nazure-core==1.26.4\\nazure-graphrbac==0.61.1\\nazure-identity==1.12.0\\nazure-mgmt-authorization==3.0.0\\nazure-mgmt-containerregistry==10.1.0\\nazure-mgmt-core==1.4.0\\nazure-mgmt-keyvault==10.2.1\\nazure-mgmt-resource==22.0.0\\nazure-mgmt-storage==21.0.0\\nazure-storage-blob==12.13.0\\nazure-storage-queue==12.6.0\\nazureml-automl-core==1.50.0\\nazureml-automl-runtime==1.50.0.post1\\nazureml-core==1.50.0\\nazureml-dataprep==4.10.7\\nazureml-dataprep-native==38.0.0\\nazureml-dataprep-rslex==2.17.7\\nazureml-dataset-runtime==1.50.0\\nazureml-defaults==1.50.0\\nazureml-inference-server-http==0.8.4\\nazureml-interpret==1.50.0\\nazureml-mlflow==1.50.0\\nazureml-telemetry==1.50.0\\nazureml-train-automl-client==1.50.0\\nazureml-train-automl-runtime==1.50.0\\nazureml-train-core==1.50.0\\nazureml-train-restclients-hyperdrive==1.50.0\\nazureml-training-tabular==1.50.0.post1\\nbackports.tempfile==1.0\\nbackports.weakref==1.0.post1\\nbcrypt==4.0.1\\nbokeh==2.4.3\\nboto==2.49.0\\nboto3==1.20.19\\nbotocore==1.23.19\\ncachetools==5.3.0\\ncertifi @ file:///croot/certifi_1671487769961/work/certifi\\ncffi==1.15.1\\ncftime @ file:///tmp/build/80754af9/cftime_1638357901230/work\\ncharset-normalizer==3.1.0\\nclick==8.1.3\\ncloudpickle==2.2.1\\ncontextlib2==21.6.0\\ncontourpy @ file:///opt/conda/conda-bld/contourpy_1663827406301/work\\nconvertdate @ file:///tmp/build/80754af9/convertdate_1634070773133/work\\ncryptography==40.0.2\\ncycler @ file:///tmp/build/80754af9/cycler_1637851556182/work\\nCython==0.29.17\\ndask==2023.2.0\\ndatabricks-cli==0.17.6\\ndataclasses==0.6\\ndill==0.3.6\\ndistributed==2023.2.0\\ndistro==1.8.0\\ndocker==6.0.1\\ndotnetcore2==3.1.23\\nentrypoints==0.4\\nephem @ file:///tmp/build/80754af9/ephem_1638942191467/work\\nfbprophet @ file:///home/conda/feedstock_root/build_artifacts/fbprophet_1599365532360/work\\nfire==0.5.0\\nFlask==2.2.4\\nFlask-Cors==3.0.10\\nflatbuffers==23.3.3\\nflit_core @ file:///opt/conda/conda-bld/flit-core_1644941570762/work/source/flit_core\\nfonttools==4.25.0\\nfsspec==2023.4.0\\nfusepy==3.0.1\\ngensim==3.8.3\\ngitdb==4.0.10\\nGitPython==3.1.31\\ngoogle-api-core==2.11.0\\ngoogle-auth==2.17.3\\ngoogleapis-common-protos==1.59.0\\ngunicorn==20.1.0\\nholidays @ file:///home/conda/feedstock_root/build_artifacts/holidays_1595448845196/work\\nhumanfriendly==10.0\\nidna==3.4\\nimportlib-metadata==6.6.0\\nimportlib-resources==5.12.0\\ninference-schema==1.5.1\\ninterpret-community==0.28.0\\ninterpret-core==0.2.7\\nisodate==0.6.1\\nitsdangerous==2.1.2\\njeepney==0.8.0\\nJinja2==3.1.2\\njmespath==0.10.0\\njoblib==1.2.0\\njsonpickle==3.0.1\\njsonschema==4.17.3\\nkeras2onnx==1.6.0\\nkiwisolver @ file:///croot/kiwisolver_1672387140495/work\\nknack==0.10.1\\nkorean-lunar-calendar @ file:///tmp/build/80754af9/korean_lunar_calendar_1634063020401/work\\nlightgbm==3.2.1\\nllvmlite==0.38.1\\nlocket==1.0.0\\nLunarCalendar @ file:///tmp/build/80754af9/lunarcalendar_1646383991234/work\\nMarkupSafe==2.1.2\\nmatplotlib @ file:///croot/matplotlib-suite_1670466153205/work\\nml-wrappers==0.4.8\\nmlflow-skinny==2.3.1\\nmsal==1.22.0\\nmsal-extensions==1.0.0\\nmsgpack==1.0.5\\nmsrest==0.7.1\\nmsrestazure==0.6.4\\nmunkres==1.1.4\\nndg-httpsclient==0.5.1\\nnetCDF4 @ file:///croot/netcdf4_1673455456943/work\\nnumba==0.55.2\\nnumpy @ file:///opt/conda/conda-bld/numpy_and_numpy_base_1652801679809/work\\noauthlib==3.2.2\\nonnx==1.13.0\\nonnxconverter-common==1.6.0\\nonnxmltools==1.4.1\\nonnxruntime==1.11.1\\nopencensus==0.11.2\\nopencensus-context==0.1.3\\nopencensus-ext-azure==1.1.9\\npackaging @ file:///croot/packaging_1671697413597/work\\npandas==1.1.5\\nparamiko==3.1.0\\npartd==1.4.0\\npathspec==0.11.1\\npatsy==0.5.3\\nPillow==9.3.0\\npkginfo==1.9.6\\npkgutil_resolve_name==1.3.10\\npmdarima==1.8.0\\nportalocker==2.7.0\\nproperty-cached==1.6.4\\nprotobuf==3.20.3\\npsutil @ file:///home/conda/feedstock_root/build_artifacts/psutil_1667885878918/work\\npyarrow==9.0.0\\npyasn1==0.5.0\\npyasn1-modules==0.3.0\\npycparser==2.21\\npydantic==1.10.7\\nPygments==2.15.1\\nPyJWT==2.6.0\\nPyMeeus @ file:///tmp/build/80754af9/pymeeus_1634069098549/work\\nPyNaCl==1.5.0\\npyOpenSSL==23.1.1\\npyparsing @ file:///opt/conda/conda-bld/pyparsing_1661452539315/work\\npyrsistent==0.19.3\\nPySocks==1.7.1\\npystan @ file:///tmp/build/80754af9/pystan_1613565232294/work\\npython-dateutil @ file:///tmp/build/80754af9/python-dateutil_1626374649649/work\\npytz @ file:///croot/pytz_1671697431263/work\\nPyYAML==6.0\\nrequests==2.29.0\\nrequests-oauthlib==1.3.1\\nrsa==4.9\\ns3transfer==0.5.2\\nscikit-learn==0.22.1\\nscipy==1.5.3\\nSecretStorage==3.3.3\\nshap==0.39.0\\nsix @ file:///tmp/build/80754af9/six_1644875935023/work\\nskl2onnx==1.4.9\\nsklearn-pandas==1.7.0\\nslicer==0.0.7\\nsmart-open==1.9.0\\nsmmap==5.0.0\\nsortedcontainers==2.4.0\\nsqlparse==0.4.4\\nstatsmodels==0.11.1\\ntabulate==0.9.0\\ntblib==1.7.0\\ntermcolor==2.3.0\\ntoolz==0.12.0\\ntornado==6.3.1\\ntqdm @ file:///opt/conda/conda-bld/tqdm_1664392687731/work\\ntyping_extensions @ file:///croot/typing_extensions_1669924550328/work\\nurllib3==1.26.15\\nwebsocket-client==1.5.1\\nWerkzeug==2.3.3\\nwrapt==1.12.1\\nxarray @ file:///opt/conda/conda-bld/xarray_1639166117697/work\\nxgboost==1.3.3\\nzict==3.0.0\\nzipp==3.15.0\\n\\n2023-05-01T20:57:50,431185755+00:00 | gunicorn/run | \\n2023-05-01T20:57:50,434854491+00:00 | gunicorn/run | ###############################################\\n2023-05-01T20:57:50,501157858+00:00 | gunicorn/run | AzureML Inference Server\\n2023-05-01T20:57:50,502839849+00:00 | gunicorn/run | ###############################################\\n2023-05-01T20:57:50,510805956+00:00 | gunicorn/run | \\n2023-05-01T20:57:55,632988990+00:00 | gunicorn/run | Starting AzureML Inference Server HTTP.\\n2023-05-01 20:57:56,328 I [70] azmlinfsrv - Loaded logging config from /azureml-envs/azureml_399903ab218c6bc60c3ac2efb6ffbdcd/lib/python3.8/site-packages/azureml_inference_server_http/logging.json\\n2023-05-01 20:57:56,833 I [70] gunicorn.error - Starting gunicorn 20.1.0\\n2023-05-01 20:57:56,836 I [70] gunicorn.error - Listening at: http://0.0.0.0:31311 (70)\\n2023-05-01 20:57:56,837 I [70] gunicorn.error - Using worker: sync\\n2023-05-01 20:57:56,841 I [128] gunicorn.error - Booting worker with pid: 128\\nValid Application Insights instrumentation key provided.\\n\\nAzure ML Inferencing HTTP server v0.8.4\\n\\n\\nServer Settings\\n---------------\\nEntry Script Name: /var/azureml-app/scoring_file_v_2_0_0.py\\nModel Directory: /var/azureml-app/azureml-models/AutoML_Behavioral_Model/1\\n/azureml-envs/azureml_399903ab218c6bc60c3ac2efb6ffbdcd/lib/python3.8/site-packages/azureml_inference_server_http/server/config.py:51: FutureWarning: aliases are no longer used by BaseSettings to define which environment variables to read. Instead use the \"env\" field setting. See https://pydantic-docs.helpmanual.io/usage/settings/#environment-variable-names\\n  class AMLInferenceServerConfig(pydantic.BaseSettings):\\nConfig File: None\\nWorker Count: 1\\nWorker Timeout (seconds): 300\\nServer Port: 31311\\nHealth Port: 31311\\nApplication Insights Enabled: true\\nApplication Insights Key: AppInsights key provided\\nInferencing HTTP server version: azmlinfsrv/0.8.4\\nCORS for the specified origins: None\\nCreate dedicated endpoint for health: None\\n\\n\\nServer Routes\\n---------------\\nLiveness Probe: GET   127.0.0.1:31311/\\nScore:          POST  127.0.0.1:31311/score\\n\\n2023-05-01 20:57:58,245 I [128] azmlinfsrv - AML_FLASK_ONE_COMPATIBILITY is set. Patched Flask to ensure compatibility with Flask 1.\\nInitializing logger\\n2023-05-01 20:57:58,248 I [128] azmlinfsrv - Starting up app insights client\\nWARNING:opencensus.ext.azure.common:DeprecationWarning: Explicitly using instrumentation key isdeprecated. Please use a connection string instead.\\nWARNING:opencensus.ext.azure.common:DeprecationWarning: Explicitly using instrumentation key isdeprecated. Please use a connection string instead.\\nWARNING:opencensus.ext.azure.common:DeprecationWarning: Explicitly using instrumentation key isdeprecated. Please use a connection string instead.\\n2023-05-01 20:58:05,626 I [128] azmlinfsrv.user_script - Found user script at /var/azureml-app/scoring_file_v_2_0_0.py\\n2023-05-01 20:58:05,627 I [128] azmlinfsrv.user_script - run() is decorated with @input_schema. Server will invoke it with the following arguments: Inputs, GlobalParameters.\\n2023-05-01 20:58:05,629 I [128] azmlinfsrv.user_script - Invoking user\\'s init function\\nERROR:fbprophet.plot:Importing plotly failed. Interactive plots will not work.\\n2023-05-01 20:58:23,526 I [128] azmlinfsrv.user_script - Users\\'s init has completed successfully\\n2023-05-01 20:58:23,536 I [128] azmlinfsrv.swagger - Swaggers are prepared for the following versions: [2, 3, 3.1].\\n2023-05-01 20:58:23,536 I [128] azmlinfsrv - Scoring timeout is set to 60000\\n2023-05-01 20:58:23,603 W [128] azmlinfsrv - x-ms-request-id header has been deprecated and will be removed from future versions of the server. Please use x-ms-client-request-id.\\n2023-05-01 20:58:23,609 I [128] gunicorn.access - 127.0.0.1 - - [01/May/2023:20:58:23 +0000] \"GET / HTTP/1.0\" 200 7 \"-\" \"Go-http-client/1.1\"\\n2023-05-01 20:58:23,610 W [128] azmlinfsrv - x-ms-request-id header has been deprecated and will be removed from future versions of the server. Please use x-ms-client-request-id.\\n2023-05-01 20:58:23,611 I [128] gunicorn.access - 127.0.0.1 - - [01/May/2023:20:58:23 +0000] \"GET / HTTP/1.0\" 200 7 \"-\" \"Go-http-client/1.1\"\\n2023-05-01 20:58:23,612 W [128] azmlinfsrv - x-ms-request-id header has been deprecated and will be removed from future versions of the server. Please use x-ms-client-request-id.\\n2023-05-01 20:58:23,613 I [128] gunicorn.access - 127.0.0.1 - - [01/May/2023:20:58:23 +0000] \"GET / HTTP/1.0\" 200 7 \"-\" \"Go-http-client/1.1\"\\n2023-05-01 20:58:23,614 W [128] azmlinfsrv - x-ms-request-id header has been deprecated and will be removed from future versions of the server. Please use x-ms-client-request-id.\\n2023-05-01 20:58:23,620 I [128] gunicorn.access - 127.0.0.1 - - [01/May/2023:20:58:23 +0000] \"GET / HTTP/1.0\" 200 7 \"-\" \"Go-http-client/1.1\"\\n2023-05-01 20:58:24,672 I [128] gunicorn.access - 127.0.0.1 - - [01/May/2023:20:58:24 +0000] \"GET / HTTP/1.0\" 200 7 \"-\" \"curl/7.58.0\"\\n2023-05-01 20:58:35,999 W [128] azmlinfsrv - x-ms-request-id header has been deprecated and will be removed from future versions of the server. Please use x-ms-client-request-id.\\n2023-05-01 20:58:36,002 I [128] gunicorn.access - 127.0.0.1 - - [01/May/2023:20:58:36 +0000] \"GET / HTTP/1.0\" 200 7 \"-\" \"Go-http-client/1.1\"\\n2023-05-01 20:58:36,007 W [128] azmlinfsrv - x-ms-request-id header has been deprecated and will be removed from future versions of the server. Please use x-ms-client-request-id.\\n2023-05-01 20:58:36,008 I [128] azmlinfsrv - GET /swagger.json 200 1.202ms 28026\\n2023-05-01 20:58:36,010 I [128] gunicorn.access - 127.0.0.1 - - [01/May/2023:20:58:36 +0000] \"GET /swagger.json HTTP/1.0\" 200 28026 \"-\" \"Go-http-client/1.1\"\\n2023-05-01 20:58:42,524 W [128] azmlinfsrv - x-ms-request-id header has been deprecated and will be removed from future versions of the server. Please use x-ms-client-request-id.\\n2023-05-01 20:58:42,527 I [128] gunicorn.access - 127.0.0.1 - - [01/May/2023:20:58:42 +0000] \"GET / HTTP/1.0\" 200 7 \"-\" \"Go-http-client/1.1\"\\n2023-05-01 20:58:42,531 W [128] azmlinfsrv - x-ms-request-id header has been deprecated and will be removed from future versions of the server. Please use x-ms-client-request-id.\\n2023-05-01 20:58:42,533 I [128] azmlinfsrv - GET /swagger.json 200 2.114ms 28026\\n2023-05-01 20:58:42,536 I [128] gunicorn.access - 127.0.0.1 - - [01/May/2023:20:58:42 +0000] \"GET /swagger.json HTTP/1.0\" 200 28026 \"-\" \"Go-http-client/1.1\"\\n2023-05-01 20:58:53,988 W [128] azmlinfsrv - x-ms-request-id header has been deprecated and will be removed from future versions of the server. Please use x-ms-client-request-id.\\n2023-05-01 20:58:58,916 I [128] azmlinfsrv - POST /score 200 4927.366ms 106\\n2023-05-01 20:58:58,918 I [128] gunicorn.access - 127.0.0.1 - - [01/May/2023:20:58:58 +0000] \"POST /score HTTP/1.0\" 200 106 \"-\" \"Python-urllib/3.8\"\\n'"
          },
          "metadata": {}
        }
      ],
      "execution_count": 43,
      "metadata": {
        "jupyter": {
          "outputs_hidden": false,
          "source_hidden": false
        },
        "nteract": {
          "transient": {
            "deleting": false
          }
        },
        "gather": {
          "logged": 1682974739750
        }
      }
    },
    {
      "cell_type": "code",
      "source": [
        "service.delete()"
      ],
      "outputs": [],
      "execution_count": null,
      "metadata": {}
    },
    {
      "attachments": {},
      "cell_type": "markdown",
      "source": [
        "# Cleanup"
      ],
      "metadata": {}
    },
    {
      "cell_type": "code",
      "source": [
        "compute_target.delete()"
      ],
      "outputs": [],
      "execution_count": null,
      "metadata": {}
    },
    {
      "cell_type": "markdown",
      "source": [
        "**Submission Checklist**\n",
        "- I have registered the model.\n",
        "- I have deployed the model with the best accuracy as a webservice.\n",
        "- I have tested the webservice by sending a request to the model endpoint.\n",
        "- I have deleted the webservice and shutdown all the computes that I have used.\n",
        "- I have taken a screenshot showing the model endpoint as active.\n",
        "- The project includes a file containing the environment details.\n"
      ],
      "metadata": {}
    },
    {
      "cell_type": "markdown",
      "source": [],
      "metadata": {}
    }
  ],
  "metadata": {
    "kernel_info": {
      "name": "python38-azureml"
    },
    "kernelspec": {
      "name": "python38-azureml",
      "language": "python",
      "display_name": "Python 3.8 - AzureML"
    },
    "language_info": {
      "name": "python",
      "version": "3.8.5",
      "mimetype": "text/x-python",
      "codemirror_mode": {
        "name": "ipython",
        "version": 3
      },
      "pygments_lexer": "ipython3",
      "nbconvert_exporter": "python",
      "file_extension": ".py"
    },
    "microsoft": {
      "ms_spell_check": {
        "ms_spell_check_language": "en"
      },
      "host": {
        "AzureML": {
          "notebookHasBeenCompleted": true
        }
      }
    },
    "nteract": {
      "version": "nteract-front-end@1.0.0"
    }
  },
  "nbformat": 4,
  "nbformat_minor": 2
}