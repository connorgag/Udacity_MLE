{
 "cells": [
  {
   "cell_type": "markdown",
   "metadata": {},
   "source": [
    "# Automated ML\n",
    "\n",
    "TODO: Import Dependencies. In the cell below, import all the dependencies that you will need to complete the project."
   ]
  },
  {
   "cell_type": "code",
   "execution_count": 1,
   "metadata": {
    "gather": {
     "logged": 1598423888013
    },
    "jupyter": {
     "outputs_hidden": false,
     "source_hidden": false
    },
    "nteract": {
     "transient": {
      "deleting": false
     }
    }
   },
   "outputs": [
    {
     "ename": "KeyboardInterrupt",
     "evalue": "",
     "output_type": "error",
     "traceback": [
      "\u001b[0;31m---------------------------------------------------------------------------\u001b[0m",
      "\u001b[0;31mKeyboardInterrupt\u001b[0m                         Traceback (most recent call last)",
      "\u001b[1;32m/Users/connorgag/Desktop/Udacity_MLE_Github_Repo/Project_Three/automl.ipynb Cell 2\u001b[0m in \u001b[0;36m<cell line: 8>\u001b[0;34m()\u001b[0m\n\u001b[1;32m      <a href='vscode-notebook-cell:/Users/connorgag/Desktop/Udacity_MLE_Github_Repo/Project_Three/automl.ipynb#W1sZmlsZQ%3D%3D?line=5'>6</a>\u001b[0m \u001b[39mimport\u001b[39;00m \u001b[39mnumpy\u001b[39;00m \u001b[39mas\u001b[39;00m \u001b[39mnp\u001b[39;00m\n\u001b[1;32m      <a href='vscode-notebook-cell:/Users/connorgag/Desktop/Udacity_MLE_Github_Repo/Project_Three/automl.ipynb#W1sZmlsZQ%3D%3D?line=6'>7</a>\u001b[0m \u001b[39mimport\u001b[39;00m \u001b[39mpandas\u001b[39;00m \u001b[39mas\u001b[39;00m \u001b[39mpd\u001b[39;00m\n\u001b[0;32m----> <a href='vscode-notebook-cell:/Users/connorgag/Desktop/Udacity_MLE_Github_Repo/Project_Three/automl.ipynb#W1sZmlsZQ%3D%3D?line=7'>8</a>\u001b[0m \u001b[39mfrom\u001b[39;00m \u001b[39msklearn\u001b[39;00m \u001b[39mimport\u001b[39;00m datasets\n\u001b[1;32m      <a href='vscode-notebook-cell:/Users/connorgag/Desktop/Udacity_MLE_Github_Repo/Project_Three/automl.ipynb#W1sZmlsZQ%3D%3D?line=8'>9</a>\u001b[0m \u001b[39mimport\u001b[39;00m \u001b[39mpkg_resources\u001b[39;00m\n\u001b[1;32m     <a href='vscode-notebook-cell:/Users/connorgag/Desktop/Udacity_MLE_Github_Repo/Project_Three/automl.ipynb#W1sZmlsZQ%3D%3D?line=10'>11</a>\u001b[0m \u001b[39mimport\u001b[39;00m \u001b[39mazureml\u001b[39;00m\u001b[39m.\u001b[39;00m\u001b[39mcore\u001b[39;00m\n",
      "File \u001b[0;32m~/opt/anaconda3/lib/python3.9/site-packages/sklearn/__init__.py:82\u001b[0m, in \u001b[0;36m<module>\u001b[0;34m\u001b[0m\n\u001b[1;32m     80\u001b[0m \u001b[39mfrom\u001b[39;00m \u001b[39m.\u001b[39;00m \u001b[39mimport\u001b[39;00m _distributor_init  \u001b[39m# noqa: F401\u001b[39;00m\n\u001b[1;32m     81\u001b[0m \u001b[39mfrom\u001b[39;00m \u001b[39m.\u001b[39;00m \u001b[39mimport\u001b[39;00m __check_build  \u001b[39m# noqa: F401\u001b[39;00m\n\u001b[0;32m---> 82\u001b[0m \u001b[39mfrom\u001b[39;00m \u001b[39m.\u001b[39;00m\u001b[39mbase\u001b[39;00m \u001b[39mimport\u001b[39;00m clone\n\u001b[1;32m     83\u001b[0m \u001b[39mfrom\u001b[39;00m \u001b[39m.\u001b[39;00m\u001b[39mutils\u001b[39;00m\u001b[39m.\u001b[39;00m\u001b[39m_show_versions\u001b[39;00m \u001b[39mimport\u001b[39;00m show_versions\n\u001b[1;32m     85\u001b[0m __all__ \u001b[39m=\u001b[39m [\n\u001b[1;32m     86\u001b[0m     \u001b[39m\"\u001b[39m\u001b[39mcalibration\u001b[39m\u001b[39m\"\u001b[39m,\n\u001b[1;32m     87\u001b[0m     \u001b[39m\"\u001b[39m\u001b[39mcluster\u001b[39m\u001b[39m\"\u001b[39m,\n\u001b[0;32m   (...)\u001b[0m\n\u001b[1;32m    128\u001b[0m     \u001b[39m\"\u001b[39m\u001b[39mshow_versions\u001b[39m\u001b[39m\"\u001b[39m,\n\u001b[1;32m    129\u001b[0m ]\n",
      "File \u001b[0;32m~/opt/anaconda3/lib/python3.9/site-packages/sklearn/base.py:17\u001b[0m, in \u001b[0;36m<module>\u001b[0;34m\u001b[0m\n\u001b[1;32m     15\u001b[0m \u001b[39mfrom\u001b[39;00m \u001b[39m.\u001b[39;00m \u001b[39mimport\u001b[39;00m __version__\n\u001b[1;32m     16\u001b[0m \u001b[39mfrom\u001b[39;00m \u001b[39m.\u001b[39;00m\u001b[39m_config\u001b[39;00m \u001b[39mimport\u001b[39;00m get_config\n\u001b[0;32m---> 17\u001b[0m \u001b[39mfrom\u001b[39;00m \u001b[39m.\u001b[39;00m\u001b[39mutils\u001b[39;00m \u001b[39mimport\u001b[39;00m _IS_32BIT\n\u001b[1;32m     18\u001b[0m \u001b[39mfrom\u001b[39;00m \u001b[39m.\u001b[39;00m\u001b[39mutils\u001b[39;00m\u001b[39m.\u001b[39;00m\u001b[39m_tags\u001b[39;00m \u001b[39mimport\u001b[39;00m (\n\u001b[1;32m     19\u001b[0m     _DEFAULT_TAGS,\n\u001b[1;32m     20\u001b[0m     _safe_tags,\n\u001b[1;32m     21\u001b[0m )\n\u001b[1;32m     22\u001b[0m \u001b[39mfrom\u001b[39;00m \u001b[39m.\u001b[39;00m\u001b[39mutils\u001b[39;00m\u001b[39m.\u001b[39;00m\u001b[39mvalidation\u001b[39;00m \u001b[39mimport\u001b[39;00m check_X_y\n",
      "File \u001b[0;32m~/opt/anaconda3/lib/python3.9/site-packages/sklearn/utils/__init__.py:28\u001b[0m, in \u001b[0;36m<module>\u001b[0;34m\u001b[0m\n\u001b[1;32m     26\u001b[0m \u001b[39mfrom\u001b[39;00m \u001b[39m.\u001b[39;00m\u001b[39m.\u001b[39;00m\u001b[39mexceptions\u001b[39;00m \u001b[39mimport\u001b[39;00m DataConversionWarning\n\u001b[1;32m     27\u001b[0m \u001b[39mfrom\u001b[39;00m \u001b[39m.\u001b[39;00m\u001b[39mdeprecation\u001b[39;00m \u001b[39mimport\u001b[39;00m deprecated\n\u001b[0;32m---> 28\u001b[0m \u001b[39mfrom\u001b[39;00m \u001b[39m.\u001b[39;00m\u001b[39mfixes\u001b[39;00m \u001b[39mimport\u001b[39;00m np_version, parse_version\n\u001b[1;32m     29\u001b[0m \u001b[39mfrom\u001b[39;00m \u001b[39m.\u001b[39;00m\u001b[39m_estimator_html_repr\u001b[39;00m \u001b[39mimport\u001b[39;00m estimator_html_repr\n\u001b[1;32m     30\u001b[0m \u001b[39mfrom\u001b[39;00m \u001b[39m.\u001b[39;00m\u001b[39mvalidation\u001b[39;00m \u001b[39mimport\u001b[39;00m (\n\u001b[1;32m     31\u001b[0m     as_float_array,\n\u001b[1;32m     32\u001b[0m     assert_all_finite,\n\u001b[0;32m   (...)\u001b[0m\n\u001b[1;32m     40\u001b[0m     check_scalar,\n\u001b[1;32m     41\u001b[0m )\n",
      "File \u001b[0;32m~/opt/anaconda3/lib/python3.9/site-packages/sklearn/utils/fixes.py:20\u001b[0m, in \u001b[0;36m<module>\u001b[0;34m\u001b[0m\n\u001b[1;32m     18\u001b[0m \u001b[39mimport\u001b[39;00m \u001b[39mscipy\u001b[39;00m\u001b[39m.\u001b[39;00m\u001b[39msparse\u001b[39;00m \u001b[39mas\u001b[39;00m \u001b[39msp\u001b[39;00m\n\u001b[1;32m     19\u001b[0m \u001b[39mimport\u001b[39;00m \u001b[39mscipy\u001b[39;00m\n\u001b[0;32m---> 20\u001b[0m \u001b[39mimport\u001b[39;00m \u001b[39mscipy\u001b[39;00m\u001b[39m.\u001b[39;00m\u001b[39mstats\u001b[39;00m\n\u001b[1;32m     21\u001b[0m \u001b[39mfrom\u001b[39;00m \u001b[39mscipy\u001b[39;00m\u001b[39m.\u001b[39;00m\u001b[39msparse\u001b[39;00m\u001b[39m.\u001b[39;00m\u001b[39mlinalg\u001b[39;00m \u001b[39mimport\u001b[39;00m lsqr \u001b[39mas\u001b[39;00m sparse_lsqr  \u001b[39m# noqa\u001b[39;00m\n\u001b[1;32m     22\u001b[0m \u001b[39mimport\u001b[39;00m \u001b[39mthreadpoolctl\u001b[39;00m\n",
      "File \u001b[0;32m~/opt/anaconda3/lib/python3.9/site-packages/scipy/stats/__init__.py:441\u001b[0m, in \u001b[0;36m<module>\u001b[0;34m\u001b[0m\n\u001b[1;32m      1\u001b[0m \u001b[39m\"\"\"\u001b[39;00m\n\u001b[1;32m      2\u001b[0m \u001b[39m.. _statsrefmanual:\u001b[39;00m\n\u001b[1;32m      3\u001b[0m \n\u001b[0;32m   (...)\u001b[0m\n\u001b[1;32m    438\u001b[0m \n\u001b[1;32m    439\u001b[0m \u001b[39m\"\"\"\u001b[39;00m\n\u001b[0;32m--> 441\u001b[0m \u001b[39mfrom\u001b[39;00m \u001b[39m.\u001b[39;00m\u001b[39mstats\u001b[39;00m \u001b[39mimport\u001b[39;00m \u001b[39m*\u001b[39m\n\u001b[1;32m    442\u001b[0m \u001b[39mfrom\u001b[39;00m \u001b[39m.\u001b[39;00m\u001b[39mdistributions\u001b[39;00m \u001b[39mimport\u001b[39;00m \u001b[39m*\u001b[39m\n\u001b[1;32m    443\u001b[0m \u001b[39mfrom\u001b[39;00m \u001b[39m.\u001b[39;00m\u001b[39mmorestats\u001b[39;00m \u001b[39mimport\u001b[39;00m \u001b[39m*\u001b[39m\n",
      "File \u001b[0;32m~/opt/anaconda3/lib/python3.9/site-packages/scipy/stats/stats.py:37\u001b[0m, in \u001b[0;36m<module>\u001b[0;34m\u001b[0m\n\u001b[1;32m     34\u001b[0m \u001b[39mimport\u001b[39;00m \u001b[39mnumpy\u001b[39;00m \u001b[39mas\u001b[39;00m \u001b[39mnp\u001b[39;00m\n\u001b[1;32m     35\u001b[0m \u001b[39mfrom\u001b[39;00m \u001b[39mnumpy\u001b[39;00m \u001b[39mimport\u001b[39;00m array, asarray, ma\n\u001b[0;32m---> 37\u001b[0m \u001b[39mfrom\u001b[39;00m \u001b[39mscipy\u001b[39;00m\u001b[39m.\u001b[39;00m\u001b[39mspatial\u001b[39;00m\u001b[39m.\u001b[39;00m\u001b[39mdistance\u001b[39;00m \u001b[39mimport\u001b[39;00m cdist\n\u001b[1;32m     38\u001b[0m \u001b[39mfrom\u001b[39;00m \u001b[39mscipy\u001b[39;00m\u001b[39m.\u001b[39;00m\u001b[39mndimage\u001b[39;00m \u001b[39mimport\u001b[39;00m measurements\n\u001b[1;32m     39\u001b[0m \u001b[39mfrom\u001b[39;00m \u001b[39mscipy\u001b[39;00m\u001b[39m.\u001b[39;00m\u001b[39m_lib\u001b[39;00m\u001b[39m.\u001b[39;00m\u001b[39m_util\u001b[39;00m \u001b[39mimport\u001b[39;00m (check_random_state, MapWrapper,\n\u001b[1;32m     40\u001b[0m                               rng_integers, float_factorial)\n",
      "File \u001b[0;32m~/opt/anaconda3/lib/python3.9/site-packages/scipy/spatial/__init__.py:102\u001b[0m, in \u001b[0;36m<module>\u001b[0;34m\u001b[0m\n\u001b[1;32m    100\u001b[0m \u001b[39mfrom\u001b[39;00m \u001b[39m.\u001b[39;00m\u001b[39m_plotutils\u001b[39;00m \u001b[39mimport\u001b[39;00m \u001b[39m*\u001b[39m\n\u001b[1;32m    101\u001b[0m \u001b[39mfrom\u001b[39;00m \u001b[39m.\u001b[39;00m\u001b[39m_procrustes\u001b[39;00m \u001b[39mimport\u001b[39;00m procrustes\n\u001b[0;32m--> 102\u001b[0m \u001b[39mfrom\u001b[39;00m \u001b[39m.\u001b[39;00m\u001b[39m_geometric_slerp\u001b[39;00m \u001b[39mimport\u001b[39;00m geometric_slerp\n\u001b[1;32m    104\u001b[0m __all__ \u001b[39m=\u001b[39m [s \u001b[39mfor\u001b[39;00m s \u001b[39min\u001b[39;00m \u001b[39mdir\u001b[39m() \u001b[39mif\u001b[39;00m \u001b[39mnot\u001b[39;00m s\u001b[39m.\u001b[39mstartswith(\u001b[39m'\u001b[39m\u001b[39m_\u001b[39m\u001b[39m'\u001b[39m)]\n\u001b[1;32m    105\u001b[0m __all__ \u001b[39m+\u001b[39m\u001b[39m=\u001b[39m [\u001b[39m'\u001b[39m\u001b[39mdistance\u001b[39m\u001b[39m'\u001b[39m, \u001b[39m'\u001b[39m\u001b[39mtransform\u001b[39m\u001b[39m'\u001b[39m]\n",
      "File \u001b[0;32m~/opt/anaconda3/lib/python3.9/site-packages/scipy/spatial/_geometric_slerp.py:8\u001b[0m, in \u001b[0;36m<module>\u001b[0;34m\u001b[0m\n\u001b[1;32m      5\u001b[0m \u001b[39mimport\u001b[39;00m \u001b[39mwarnings\u001b[39;00m\n\u001b[1;32m      7\u001b[0m \u001b[39mimport\u001b[39;00m \u001b[39mnumpy\u001b[39;00m \u001b[39mas\u001b[39;00m \u001b[39mnp\u001b[39;00m\n\u001b[0;32m----> 8\u001b[0m \u001b[39mfrom\u001b[39;00m \u001b[39mscipy\u001b[39;00m\u001b[39m.\u001b[39;00m\u001b[39mspatial\u001b[39;00m\u001b[39m.\u001b[39;00m\u001b[39mdistance\u001b[39;00m \u001b[39mimport\u001b[39;00m euclidean\n\u001b[1;32m     11\u001b[0m \u001b[39mdef\u001b[39;00m \u001b[39m_geometric_slerp\u001b[39m(start, end, t):\n\u001b[1;32m     12\u001b[0m     \u001b[39m# create an orthogonal basis using QR decomposition\u001b[39;00m\n\u001b[1;32m     13\u001b[0m     basis \u001b[39m=\u001b[39m np\u001b[39m.\u001b[39mvstack([start, end])\n",
      "File \u001b[0;32m~/opt/anaconda3/lib/python3.9/site-packages/scipy/spatial/distance.py:124\u001b[0m, in \u001b[0;36m<module>\u001b[0;34m\u001b[0m\n\u001b[1;32m    122\u001b[0m \u001b[39mfrom\u001b[39;00m \u001b[39m.\u001b[39;00m \u001b[39mimport\u001b[39;00m _hausdorff\n\u001b[1;32m    123\u001b[0m \u001b[39mfrom\u001b[39;00m \u001b[39m.\u001b[39;00m\u001b[39m.\u001b[39;00m\u001b[39mlinalg\u001b[39;00m \u001b[39mimport\u001b[39;00m norm\n\u001b[0;32m--> 124\u001b[0m \u001b[39mfrom\u001b[39;00m \u001b[39m.\u001b[39;00m\u001b[39m.\u001b[39;00m\u001b[39mspecial\u001b[39;00m \u001b[39mimport\u001b[39;00m rel_entr\n\u001b[1;32m    126\u001b[0m \u001b[39mfrom\u001b[39;00m \u001b[39m.\u001b[39;00m \u001b[39mimport\u001b[39;00m _distance_pybind\n\u001b[1;32m    129\u001b[0m \u001b[39mdef\u001b[39;00m \u001b[39m_copy_array_if_base_present\u001b[39m(a):\n",
      "File \u001b[0;32m~/opt/anaconda3/lib/python3.9/site-packages/scipy/special/__init__.py:643\u001b[0m, in \u001b[0;36m<module>\u001b[0;34m\u001b[0m\n\u001b[1;32m      1\u001b[0m \u001b[39m\"\"\"\u001b[39;00m\n\u001b[1;32m      2\u001b[0m \u001b[39m========================================\u001b[39;00m\n\u001b[1;32m      3\u001b[0m \u001b[39mSpecial functions (:mod:`scipy.special`)\u001b[39;00m\n\u001b[0;32m   (...)\u001b[0m\n\u001b[1;32m    638\u001b[0m \n\u001b[1;32m    639\u001b[0m \u001b[39m\"\"\"\u001b[39;00m\n\u001b[1;32m    641\u001b[0m \u001b[39mfrom\u001b[39;00m \u001b[39m.\u001b[39;00m\u001b[39msf_error\u001b[39;00m \u001b[39mimport\u001b[39;00m SpecialFunctionWarning, SpecialFunctionError\n\u001b[0;32m--> 643\u001b[0m \u001b[39mfrom\u001b[39;00m \u001b[39m.\u001b[39;00m \u001b[39mimport\u001b[39;00m _ufuncs\n\u001b[1;32m    644\u001b[0m \u001b[39mfrom\u001b[39;00m \u001b[39m.\u001b[39;00m\u001b[39m_ufuncs\u001b[39;00m \u001b[39mimport\u001b[39;00m \u001b[39m*\u001b[39m\n\u001b[1;32m    646\u001b[0m \u001b[39mfrom\u001b[39;00m \u001b[39m.\u001b[39;00m \u001b[39mimport\u001b[39;00m _basic\n",
      "File \u001b[0;32m<frozen importlib._bootstrap>:398\u001b[0m, in \u001b[0;36mparent\u001b[0;34m(self)\u001b[0m\n",
      "\u001b[0;31mKeyboardInterrupt\u001b[0m: "
     ]
    }
   ],
   "source": [
    "import logging\n",
    "import os\n",
    "import csv\n",
    "\n",
    "from matplotlib import pyplot as plt\n",
    "import numpy as np\n",
    "import pandas as pd\n",
    "from sklearn import datasets\n",
    "import pkg_resources\n",
    "\n",
    "import azureml.core\n",
    "from azureml.core.experiment import Experiment\n",
    "from azureml.core.workspace import Workspace\n",
    "from azureml.train.automl import AutoMLConfig\n",
    "from azureml.core.dataset import Dataset\n",
    "\n",
    "from azureml.pipeline.steps import AutoMLStep\n",
    "\n",
    "from azureml.core.compute import AmlCompute\n",
    "from azureml.core.compute import ComputeTarget\n",
    "from azureml.core.compute_target import ComputeTargetException\n",
    "from azureml.data.datapath import DataPath\n",
    "from azure.storage.blob import BlobServiceClient, BlobClient, ContainerClient\n",
    "from azureml.core import Workspace, Dataset\n",
    "from azureml.train.automl.utilities import get_primary_metrics\n",
    "from azureml.widgets import RunDetails\n",
    "from azureml.core.run import Run\n",
    "from azureml.train.automl.run import AutoMLRun\n",
    "\n",
    "from azureml.core import Environment\n",
    "from azureml.core.model import InferenceConfig\n",
    "from azureml.core.model import Model\n",
    "from azureml.core.webservice import AciWebservice\n",
    "\n",
    "from azureml.core.authentication import InteractiveLoginAuthentication\n",
    "import requests\n",
    "\n",
    "# Check core SDK version number\n",
    "print(\"SDK version:\", azureml.core.VERSION)"
   ]
  },
  {
   "cell_type": "code",
   "execution_count": 2,
   "metadata": {},
   "outputs": [
    {
     "name": "stdout",
     "output_type": "stream",
     "text": [
      "quick-starts-ws-231015\n",
      "aml-quickstarts-231015\n",
      "westus2\n",
      "2c48c51c-bd47-40d4-abbe-fb8eabd19c8c\n"
     ]
    }
   ],
   "source": [
    "ws = Workspace.from_config()\n",
    "print(ws.name, ws.resource_group, ws.location, ws.subscription_id, sep = '\\n')"
   ]
  },
  {
   "cell_type": "code",
   "execution_count": 3,
   "metadata": {},
   "outputs": [
    {
     "name": "stdout",
     "output_type": "stream",
     "text": [
      "Found existing cluster, use it.\n",
      "Succeeded\n",
      "AmlCompute wait for completion finished\n",
      "\n",
      "Minimum number of nodes requested have been provisioned\n"
     ]
    }
   ],
   "source": [
    "from azureml.core.compute import AmlCompute\n",
    "from azureml.core.compute import ComputeTarget\n",
    "from azureml.core.compute_target import ComputeTargetException\n",
    "\n",
    "# NOTE: update the cluster name to match the existing cluster\n",
    "# Choose a name for your CPU cluster\n",
    "amlcompute_cluster_name = \"Project-3-Compute\"\n",
    "\n",
    "# Verify that cluster does not exist already\n",
    "try:\n",
    "    compute_target = ComputeTarget(workspace=ws, name=amlcompute_cluster_name)\n",
    "    print('Found existing cluster, use it.')\n",
    "except ComputeTargetException:\n",
    "    compute_config = AmlCompute.provisioning_configuration(vm_size='Standard_DS3_v2',# for GPU, use \"STANDARD_NC6\"\n",
    "                                                           #vm_priority = 'lowpriority', # optional\n",
    "                                                           max_nodes=4)\n",
    "    compute_target = ComputeTarget.create(ws, amlcompute_cluster_name, compute_config)\n",
    "\n",
    "compute_target.wait_for_completion(show_output=True, min_node_count = 0, timeout_in_minutes = 10)"
   ]
  },
  {
   "cell_type": "markdown",
   "metadata": {},
   "source": [
    "## Dataset\n",
    "\n",
    "### Overview\n",
    "TODO: In this markdown cell, give an overview of the dataset you are using. Also mention the task you will be performing.\n",
    "\n",
    "\n",
    "TODO: Get data. In the cell below, write code to access the data you will be using in this project. Remember that the dataset needs to be external."
   ]
  },
  {
   "cell_type": "code",
   "execution_count": 4,
   "metadata": {
    "gather": {
     "logged": 1598423890461
    },
    "jupyter": {
     "outputs_hidden": false,
     "source_hidden": false
    },
    "nteract": {
     "transient": {
      "deleting": false
     }
    }
   },
   "outputs": [],
   "source": [
    "# choose a name for experiment\n",
    "experiment_name = 'Project_3_Experiment'\n",
    "experiment=Experiment(ws, experiment_name)"
   ]
  },
  {
   "attachments": {},
   "cell_type": "markdown",
   "metadata": {},
   "source": [
    "### Upload Data"
   ]
  },
  {
   "attachments": {},
   "cell_type": "markdown",
   "metadata": {},
   "source": [
    "Must Upload the data manually before running this part"
   ]
  },
  {
   "cell_type": "code",
   "execution_count": 8,
   "metadata": {},
   "outputs": [
    {
     "data": {
      "text/html": [
       "<div>\n",
       "<style scoped>\n",
       "    .dataframe tbody tr th:only-of-type {\n",
       "        vertical-align: middle;\n",
       "    }\n",
       "\n",
       "    .dataframe tbody tr th {\n",
       "        vertical-align: top;\n",
       "    }\n",
       "\n",
       "    .dataframe thead th {\n",
       "        text-align: right;\n",
       "    }\n",
       "</style>\n",
       "<table border=\"1\" class=\"dataframe\">\n",
       "  <thead>\n",
       "    <tr style=\"text-align: right;\">\n",
       "      <th></th>\n",
       "      <th>_STATE</th>\n",
       "      <th>FMONTH</th>\n",
       "      <th>IDATE</th>\n",
       "      <th>IMONTH</th>\n",
       "      <th>IDAY</th>\n",
       "      <th>IYEAR</th>\n",
       "      <th>DISPCODE</th>\n",
       "      <th>SEQNO</th>\n",
       "      <th>_PSU</th>\n",
       "      <th>CTELENUM</th>\n",
       "      <th>...</th>\n",
       "      <th>_PAREC1</th>\n",
       "      <th>_PASTAE1</th>\n",
       "      <th>_LMTACT1</th>\n",
       "      <th>_LMTWRK1</th>\n",
       "      <th>_LMTSCL1</th>\n",
       "      <th>_RFSEAT2</th>\n",
       "      <th>_RFSEAT3</th>\n",
       "      <th>_FLSHOT6</th>\n",
       "      <th>_PNEUMO2</th>\n",
       "      <th>_AIDTST3</th>\n",
       "    </tr>\n",
       "  </thead>\n",
       "  <tbody>\n",
       "    <tr>\n",
       "      <th>0</th>\n",
       "      <td>1.0</td>\n",
       "      <td>1.0</td>\n",
       "      <td>1292015</td>\n",
       "      <td>1</td>\n",
       "      <td>29</td>\n",
       "      <td>2015</td>\n",
       "      <td>1200.0</td>\n",
       "      <td>2.015000e+09</td>\n",
       "      <td>2.015000e+09</td>\n",
       "      <td>1.0</td>\n",
       "      <td>...</td>\n",
       "      <td>4.0</td>\n",
       "      <td>2.0</td>\n",
       "      <td>1.0</td>\n",
       "      <td>1.0</td>\n",
       "      <td>1.0</td>\n",
       "      <td>1.0</td>\n",
       "      <td>1.0</td>\n",
       "      <td>NaN</td>\n",
       "      <td>NaN</td>\n",
       "      <td>1.0</td>\n",
       "    </tr>\n",
       "    <tr>\n",
       "      <th>1</th>\n",
       "      <td>1.0</td>\n",
       "      <td>1.0</td>\n",
       "      <td>1202015</td>\n",
       "      <td>1</td>\n",
       "      <td>20</td>\n",
       "      <td>2015</td>\n",
       "      <td>1100.0</td>\n",
       "      <td>2.015000e+09</td>\n",
       "      <td>2.015000e+09</td>\n",
       "      <td>1.0</td>\n",
       "      <td>...</td>\n",
       "      <td>2.0</td>\n",
       "      <td>2.0</td>\n",
       "      <td>3.0</td>\n",
       "      <td>3.0</td>\n",
       "      <td>4.0</td>\n",
       "      <td>2.0</td>\n",
       "      <td>2.0</td>\n",
       "      <td>NaN</td>\n",
       "      <td>NaN</td>\n",
       "      <td>2.0</td>\n",
       "    </tr>\n",
       "    <tr>\n",
       "      <th>2</th>\n",
       "      <td>1.0</td>\n",
       "      <td>1.0</td>\n",
       "      <td>2012015</td>\n",
       "      <td>2</td>\n",
       "      <td>1</td>\n",
       "      <td>2015</td>\n",
       "      <td>1200.0</td>\n",
       "      <td>2.015000e+09</td>\n",
       "      <td>2.015000e+09</td>\n",
       "      <td>1.0</td>\n",
       "      <td>...</td>\n",
       "      <td>9.0</td>\n",
       "      <td>9.0</td>\n",
       "      <td>9.0</td>\n",
       "      <td>9.0</td>\n",
       "      <td>9.0</td>\n",
       "      <td>9.0</td>\n",
       "      <td>9.0</td>\n",
       "      <td>9.0</td>\n",
       "      <td>9.0</td>\n",
       "      <td>NaN</td>\n",
       "    </tr>\n",
       "    <tr>\n",
       "      <th>3</th>\n",
       "      <td>1.0</td>\n",
       "      <td>1.0</td>\n",
       "      <td>1142015</td>\n",
       "      <td>1</td>\n",
       "      <td>14</td>\n",
       "      <td>2015</td>\n",
       "      <td>1100.0</td>\n",
       "      <td>2.015000e+09</td>\n",
       "      <td>2.015000e+09</td>\n",
       "      <td>1.0</td>\n",
       "      <td>...</td>\n",
       "      <td>4.0</td>\n",
       "      <td>2.0</td>\n",
       "      <td>1.0</td>\n",
       "      <td>1.0</td>\n",
       "      <td>1.0</td>\n",
       "      <td>1.0</td>\n",
       "      <td>1.0</td>\n",
       "      <td>NaN</td>\n",
       "      <td>NaN</td>\n",
       "      <td>9.0</td>\n",
       "    </tr>\n",
       "    <tr>\n",
       "      <th>4</th>\n",
       "      <td>1.0</td>\n",
       "      <td>1.0</td>\n",
       "      <td>1142015</td>\n",
       "      <td>1</td>\n",
       "      <td>14</td>\n",
       "      <td>2015</td>\n",
       "      <td>1100.0</td>\n",
       "      <td>2.015000e+09</td>\n",
       "      <td>2.015000e+09</td>\n",
       "      <td>1.0</td>\n",
       "      <td>...</td>\n",
       "      <td>4.0</td>\n",
       "      <td>2.0</td>\n",
       "      <td>1.0</td>\n",
       "      <td>1.0</td>\n",
       "      <td>1.0</td>\n",
       "      <td>1.0</td>\n",
       "      <td>1.0</td>\n",
       "      <td>NaN</td>\n",
       "      <td>NaN</td>\n",
       "      <td>1.0</td>\n",
       "    </tr>\n",
       "    <tr>\n",
       "      <th>...</th>\n",
       "      <td>...</td>\n",
       "      <td>...</td>\n",
       "      <td>...</td>\n",
       "      <td>...</td>\n",
       "      <td>...</td>\n",
       "      <td>...</td>\n",
       "      <td>...</td>\n",
       "      <td>...</td>\n",
       "      <td>...</td>\n",
       "      <td>...</td>\n",
       "      <td>...</td>\n",
       "      <td>...</td>\n",
       "      <td>...</td>\n",
       "      <td>...</td>\n",
       "      <td>...</td>\n",
       "      <td>...</td>\n",
       "      <td>...</td>\n",
       "      <td>...</td>\n",
       "      <td>...</td>\n",
       "      <td>...</td>\n",
       "      <td>...</td>\n",
       "    </tr>\n",
       "    <tr>\n",
       "      <th>9995</th>\n",
       "      <td>2.0</td>\n",
       "      <td>11.0</td>\n",
       "      <td>11202015</td>\n",
       "      <td>11</td>\n",
       "      <td>20</td>\n",
       "      <td>2015</td>\n",
       "      <td>1100.0</td>\n",
       "      <td>2.015002e+09</td>\n",
       "      <td>2.015002e+09</td>\n",
       "      <td>1.0</td>\n",
       "      <td>...</td>\n",
       "      <td>2.0</td>\n",
       "      <td>2.0</td>\n",
       "      <td>3.0</td>\n",
       "      <td>3.0</td>\n",
       "      <td>4.0</td>\n",
       "      <td>1.0</td>\n",
       "      <td>1.0</td>\n",
       "      <td>2.0</td>\n",
       "      <td>2.0</td>\n",
       "      <td>2.0</td>\n",
       "    </tr>\n",
       "    <tr>\n",
       "      <th>9996</th>\n",
       "      <td>2.0</td>\n",
       "      <td>11.0</td>\n",
       "      <td>11052015</td>\n",
       "      <td>11</td>\n",
       "      <td>5</td>\n",
       "      <td>2015</td>\n",
       "      <td>1100.0</td>\n",
       "      <td>2.015002e+09</td>\n",
       "      <td>2.015002e+09</td>\n",
       "      <td>1.0</td>\n",
       "      <td>...</td>\n",
       "      <td>3.0</td>\n",
       "      <td>2.0</td>\n",
       "      <td>1.0</td>\n",
       "      <td>1.0</td>\n",
       "      <td>2.0</td>\n",
       "      <td>1.0</td>\n",
       "      <td>2.0</td>\n",
       "      <td>2.0</td>\n",
       "      <td>1.0</td>\n",
       "      <td>2.0</td>\n",
       "    </tr>\n",
       "    <tr>\n",
       "      <th>9997</th>\n",
       "      <td>2.0</td>\n",
       "      <td>11.0</td>\n",
       "      <td>11242015</td>\n",
       "      <td>11</td>\n",
       "      <td>24</td>\n",
       "      <td>2015</td>\n",
       "      <td>1100.0</td>\n",
       "      <td>2.015002e+09</td>\n",
       "      <td>2.015002e+09</td>\n",
       "      <td>1.0</td>\n",
       "      <td>...</td>\n",
       "      <td>2.0</td>\n",
       "      <td>2.0</td>\n",
       "      <td>2.0</td>\n",
       "      <td>2.0</td>\n",
       "      <td>3.0</td>\n",
       "      <td>1.0</td>\n",
       "      <td>1.0</td>\n",
       "      <td>NaN</td>\n",
       "      <td>NaN</td>\n",
       "      <td>2.0</td>\n",
       "    </tr>\n",
       "    <tr>\n",
       "      <th>9998</th>\n",
       "      <td>2.0</td>\n",
       "      <td>11.0</td>\n",
       "      <td>11142015</td>\n",
       "      <td>11</td>\n",
       "      <td>14</td>\n",
       "      <td>2015</td>\n",
       "      <td>1100.0</td>\n",
       "      <td>2.015002e+09</td>\n",
       "      <td>2.015002e+09</td>\n",
       "      <td>1.0</td>\n",
       "      <td>...</td>\n",
       "      <td>9.0</td>\n",
       "      <td>9.0</td>\n",
       "      <td>1.0</td>\n",
       "      <td>2.0</td>\n",
       "      <td>2.0</td>\n",
       "      <td>1.0</td>\n",
       "      <td>1.0</td>\n",
       "      <td>1.0</td>\n",
       "      <td>1.0</td>\n",
       "      <td>9.0</td>\n",
       "    </tr>\n",
       "    <tr>\n",
       "      <th>9999</th>\n",
       "      <td>2.0</td>\n",
       "      <td>11.0</td>\n",
       "      <td>11222015</td>\n",
       "      <td>11</td>\n",
       "      <td>22</td>\n",
       "      <td>2015</td>\n",
       "      <td>1100.0</td>\n",
       "      <td>2.015002e+09</td>\n",
       "      <td>2.015002e+09</td>\n",
       "      <td>1.0</td>\n",
       "      <td>...</td>\n",
       "      <td>1.0</td>\n",
       "      <td>1.0</td>\n",
       "      <td>3.0</td>\n",
       "      <td>3.0</td>\n",
       "      <td>4.0</td>\n",
       "      <td>1.0</td>\n",
       "      <td>1.0</td>\n",
       "      <td>1.0</td>\n",
       "      <td>1.0</td>\n",
       "      <td>1.0</td>\n",
       "    </tr>\n",
       "  </tbody>\n",
       "</table>\n",
       "<p>10000 rows × 330 columns</p>\n",
       "</div>"
      ],
      "text/plain": [
       "      _STATE  FMONTH     IDATE  IMONTH  IDAY  IYEAR  DISPCODE         SEQNO  \\\n",
       "0        1.0     1.0   1292015       1    29   2015    1200.0  2.015000e+09   \n",
       "1        1.0     1.0   1202015       1    20   2015    1100.0  2.015000e+09   \n",
       "2        1.0     1.0   2012015       2     1   2015    1200.0  2.015000e+09   \n",
       "3        1.0     1.0   1142015       1    14   2015    1100.0  2.015000e+09   \n",
       "4        1.0     1.0   1142015       1    14   2015    1100.0  2.015000e+09   \n",
       "...      ...     ...       ...     ...   ...    ...       ...           ...   \n",
       "9995     2.0    11.0  11202015      11    20   2015    1100.0  2.015002e+09   \n",
       "9996     2.0    11.0  11052015      11     5   2015    1100.0  2.015002e+09   \n",
       "9997     2.0    11.0  11242015      11    24   2015    1100.0  2.015002e+09   \n",
       "9998     2.0    11.0  11142015      11    14   2015    1100.0  2.015002e+09   \n",
       "9999     2.0    11.0  11222015      11    22   2015    1100.0  2.015002e+09   \n",
       "\n",
       "              _PSU  CTELENUM  ...  _PAREC1 _PASTAE1  _LMTACT1  _LMTWRK1  \\\n",
       "0     2.015000e+09       1.0  ...      4.0      2.0       1.0       1.0   \n",
       "1     2.015000e+09       1.0  ...      2.0      2.0       3.0       3.0   \n",
       "2     2.015000e+09       1.0  ...      9.0      9.0       9.0       9.0   \n",
       "3     2.015000e+09       1.0  ...      4.0      2.0       1.0       1.0   \n",
       "4     2.015000e+09       1.0  ...      4.0      2.0       1.0       1.0   \n",
       "...            ...       ...  ...      ...      ...       ...       ...   \n",
       "9995  2.015002e+09       1.0  ...      2.0      2.0       3.0       3.0   \n",
       "9996  2.015002e+09       1.0  ...      3.0      2.0       1.0       1.0   \n",
       "9997  2.015002e+09       1.0  ...      2.0      2.0       2.0       2.0   \n",
       "9998  2.015002e+09       1.0  ...      9.0      9.0       1.0       2.0   \n",
       "9999  2.015002e+09       1.0  ...      1.0      1.0       3.0       3.0   \n",
       "\n",
       "     _LMTSCL1  _RFSEAT2  _RFSEAT3  _FLSHOT6 _PNEUMO2 _AIDTST3  \n",
       "0         1.0       1.0       1.0       NaN      NaN      1.0  \n",
       "1         4.0       2.0       2.0       NaN      NaN      2.0  \n",
       "2         9.0       9.0       9.0       9.0      9.0      NaN  \n",
       "3         1.0       1.0       1.0       NaN      NaN      9.0  \n",
       "4         1.0       1.0       1.0       NaN      NaN      1.0  \n",
       "...       ...       ...       ...       ...      ...      ...  \n",
       "9995      4.0       1.0       1.0       2.0      2.0      2.0  \n",
       "9996      2.0       1.0       2.0       2.0      1.0      2.0  \n",
       "9997      3.0       1.0       1.0       NaN      NaN      2.0  \n",
       "9998      2.0       1.0       1.0       1.0      1.0      9.0  \n",
       "9999      4.0       1.0       1.0       1.0      1.0      1.0  \n",
       "\n",
       "[10000 rows x 330 columns]"
      ]
     },
     "execution_count": 8,
     "metadata": {},
     "output_type": "execute_result"
    }
   ],
   "source": [
    "dataset = Dataset.get_by_name(ws, name='behavioral_data')\n",
    "dataset.to_pandas_dataframe()"
   ]
  },
  {
   "cell_type": "markdown",
   "metadata": {},
   "source": [
    "## AutoML Configuration\n",
    "\n",
    "TODO: Explain why you chose the automl settings and cofiguration you used below."
   ]
  },
  {
   "attachments": {},
   "cell_type": "markdown",
   "metadata": {},
   "source": [
    "Target: GENHLTH - general health"
   ]
  },
  {
   "cell_type": "code",
   "execution_count": 9,
   "metadata": {},
   "outputs": [
    {
     "data": {
      "text/plain": [
       "['r2_score',\n",
       " 'normalized_root_mean_squared_error',\n",
       " 'normalized_mean_absolute_error',\n",
       " 'spearman_correlation']"
      ]
     },
     "execution_count": 9,
     "metadata": {},
     "output_type": "execute_result"
    }
   ],
   "source": [
    "get_primary_metrics('regression')"
   ]
  },
  {
   "cell_type": "code",
   "execution_count": 42,
   "metadata": {
    "gather": {
     "logged": 1598429217746
    },
    "jupyter": {
     "outputs_hidden": false,
     "source_hidden": false
    },
    "nteract": {
     "transient": {
      "deleting": false
     }
    }
   },
   "outputs": [],
   "source": [
    "# TODO: Put your automl settings here\n",
    "automl_settings = {\n",
    "    \"experiment_timeout_hours\": .5,\n",
    "    \"max_concurrent_iterations\": 5,\n",
    "    \"primary_metric\" : 'normalized_mean_absolute_error'\n",
    "}\n",
    "\n",
    "# TODO: Put your automl config here\n",
    "automl_config = AutoMLConfig(compute_target=compute_target,\n",
    "                             task = \"regression\",\n",
    "                             training_data=dataset,\n",
    "                             label_column_name=\"GENHLTH\",   \n",
    "                             path = '.',\n",
    "                             enable_early_stopping= True,\n",
    "                             featurization= 'auto',\n",
    "                             debug_log = \"automl_errors.log\",\n",
    "                             **automl_settings\n",
    "                            )"
   ]
  },
  {
   "cell_type": "code",
   "execution_count": 43,
   "metadata": {
    "gather": {
     "logged": 1598431107951
    },
    "jupyter": {
     "outputs_hidden": false,
     "source_hidden": false
    },
    "nteract": {
     "transient": {
      "deleting": false
     }
    }
   },
   "outputs": [
    {
     "name": "stdout",
     "output_type": "stream",
     "text": [
      "Submitting remote run.\n"
     ]
    },
    {
     "data": {
      "text/html": [
       "<table style=\"width:100%\"><tr><th>Experiment</th><th>Id</th><th>Type</th><th>Status</th><th>Details Page</th><th>Docs Page</th></tr><tr><td>Project_3_Experiment</td><td>AutoML_bc06420d-c0d5-4168-893b-65dae5508651</td><td>automl</td><td>NotStarted</td><td><a href=\"https://ml.azure.com/runs/AutoML_bc06420d-c0d5-4168-893b-65dae5508651?wsid=/subscriptions/2c48c51c-bd47-40d4-abbe-fb8eabd19c8c/resourcegroups/aml-quickstarts-231015/workspaces/quick-starts-ws-231015&amp;tid=660b3398-b80e-49d2-bc5b-ac1dc93b5254\" target=\"_blank\" rel=\"noopener\">Link to Azure Machine Learning studio</a></td><td><a href=\"https://docs.microsoft.com/en-us/python/api/overview/azure/ml/intro?view=azure-ml-py\" target=\"_blank\" rel=\"noopener\">Link to Documentation</a></td></tr></table>"
      ],
      "text/plain": [
       "<IPython.core.display.HTML object>"
      ]
     },
     "metadata": {},
     "output_type": "display_data"
    }
   ],
   "source": [
    "# TODO: Submit your experiment\n",
    "remote_run = experiment.submit(automl_config)"
   ]
  },
  {
   "cell_type": "code",
   "execution_count": 12,
   "metadata": {},
   "outputs": [
    {
     "name": "stdout",
     "output_type": "stream",
     "text": [
      "AutoML_bc06420d-c0d5-4168-893b-65dae5508651\n"
     ]
    }
   ],
   "source": [
    "list_runs = experiment.get_runs()\n",
    "for run in list_runs:\n",
    "    print(run.id)"
   ]
  },
  {
   "cell_type": "code",
   "execution_count": 21,
   "metadata": {},
   "outputs": [],
   "source": [
    "remote_run = AutoMLRun(experiment, 'AutoML_bc06420d-c0d5-4168-893b-65dae5508651')"
   ]
  },
  {
   "cell_type": "code",
   "execution_count": 22,
   "metadata": {},
   "outputs": [
    {
     "data": {
      "text/html": [
       "<table style=\"width:100%\"><tr><th>Experiment</th><th>Id</th><th>Type</th><th>Status</th><th>Details Page</th><th>Docs Page</th></tr><tr><td>Project_3_Experiment</td><td>AutoML_bc06420d-c0d5-4168-893b-65dae5508651</td><td>automl</td><td>Completed</td><td><a href=\"https://ml.azure.com/runs/AutoML_bc06420d-c0d5-4168-893b-65dae5508651?wsid=/subscriptions/2c48c51c-bd47-40d4-abbe-fb8eabd19c8c/resourcegroups/aml-quickstarts-231015/workspaces/quick-starts-ws-231015&amp;tid=660b3398-b80e-49d2-bc5b-ac1dc93b5254\" target=\"_blank\" rel=\"noopener\">Link to Azure Machine Learning studio</a></td><td><a href=\"https://docs.microsoft.com/en-us/python/api/overview/azure/ml/intro?view=azure-ml-py\" target=\"_blank\" rel=\"noopener\">Link to Documentation</a></td></tr></table>"
      ],
      "text/plain": [
       "Run(Experiment: Project_3_Experiment,\n",
       "Id: AutoML_bc06420d-c0d5-4168-893b-65dae5508651,\n",
       "Type: automl,\n",
       "Status: Completed)"
      ]
     },
     "execution_count": 22,
     "metadata": {},
     "output_type": "execute_result"
    }
   ],
   "source": [
    "remote_run"
   ]
  },
  {
   "cell_type": "markdown",
   "metadata": {},
   "source": [
    "## Run Details\n",
    "\n",
    "OPTIONAL: Write about the different models trained and their performance. Why do you think some models did better than others?\n",
    "\n",
    "TODO: In the cell below, use the `RunDetails` widget to show the different experiments."
   ]
  },
  {
   "cell_type": "code",
   "execution_count": 23,
   "metadata": {
    "gather": {
     "logged": 1598431121770
    },
    "jupyter": {
     "outputs_hidden": false,
     "source_hidden": false
    },
    "nteract": {
     "transient": {
      "deleting": false
     }
    }
   },
   "outputs": [
    {
     "data": {
      "application/vnd.jupyter.widget-view+json": {
       "model_id": "45980bec6c3b4b4ea52cb291997c1330",
       "version_major": 2,
       "version_minor": 0
      },
      "text/plain": [
       "_AutoMLWidget(widget_settings={'childWidgetDisplay': 'popup', 'send_telemetry': False, 'log_level': 'INFO', 's…"
      ]
     },
     "metadata": {},
     "output_type": "display_data"
    },
    {
     "data": {
      "application/aml.mini.widget.v1": "{\"status\": \"Completed\", \"workbench_run_details_uri\": \"https://ml.azure.com/runs/AutoML_bc06420d-c0d5-4168-893b-65dae5508651?wsid=/subscriptions/2c48c51c-bd47-40d4-abbe-fb8eabd19c8c/resourcegroups/aml-quickstarts-231015/workspaces/quick-starts-ws-231015&tid=660b3398-b80e-49d2-bc5b-ac1dc93b5254\", \"run_id\": \"AutoML_bc06420d-c0d5-4168-893b-65dae5508651\", \"run_properties\": {\"run_id\": \"AutoML_bc06420d-c0d5-4168-893b-65dae5508651\", \"created_utc\": \"2023-04-13T16:55:08.771468Z\", \"properties\": {\"num_iterations\": \"1000\", \"training_type\": \"TrainFull\", \"acquisition_function\": \"EI\", \"primary_metric\": \"normalized_mean_absolute_error\", \"train_split\": \"0\", \"acquisition_parameter\": \"0\", \"num_cross_validation\": null, \"target\": \"Project-3-Compute\", \"AMLSettingsJsonString\": \"{\\\"path\\\":null,\\\"name\\\":\\\"Project_3_Experiment\\\",\\\"subscription_id\\\":\\\"2c48c51c-bd47-40d4-abbe-fb8eabd19c8c\\\",\\\"resource_group\\\":\\\"aml-quickstarts-231015\\\",\\\"workspace_name\\\":\\\"quick-starts-ws-231015\\\",\\\"region\\\":\\\"westus2\\\",\\\"compute_target\\\":\\\"Project-3-Compute\\\",\\\"spark_service\\\":null,\\\"azure_service\\\":\\\"remote\\\",\\\"many_models\\\":false,\\\"pipeline_fetch_max_batch_size\\\":1,\\\"enable_batch_run\\\":true,\\\"enable_parallel_run\\\":false,\\\"num_procs\\\":null,\\\"enable_run_restructure\\\":false,\\\"start_auxiliary_runs_before_parent_complete\\\":false,\\\"enable_code_generation\\\":true,\\\"iterations\\\":1000,\\\"primary_metric\\\":\\\"normalized_mean_absolute_error\\\",\\\"task_type\\\":\\\"regression\\\",\\\"positive_label\\\":null,\\\"data_script\\\":null,\\\"test_size\\\":0.0,\\\"test_include_predictions_only\\\":false,\\\"validation_size\\\":0.0,\\\"n_cross_validations\\\":null,\\\"y_min\\\":null,\\\"y_max\\\":null,\\\"num_classes\\\":null,\\\"featurization\\\":\\\"auto\\\",\\\"_ignore_package_version_incompatibilities\\\":false,\\\"is_timeseries\\\":false,\\\"max_cores_per_iteration\\\":1,\\\"max_concurrent_iterations\\\":5,\\\"iteration_timeout_minutes\\\":null,\\\"mem_in_mb\\\":null,\\\"enforce_time_on_windows\\\":false,\\\"experiment_timeout_minutes\\\":30,\\\"experiment_exit_score\\\":null,\\\"partition_column_names\\\":null,\\\"whitelist_models\\\":null,\\\"blacklist_algos\\\":[\\\"TensorFlowDNN\\\",\\\"TensorFlowLinearRegressor\\\"],\\\"supported_models\\\":[\\\"KNN\\\",\\\"SGD\\\",\\\"TensorFlowDNN\\\",\\\"FastLinearRegressor\\\",\\\"DecisionTree\\\",\\\"XGBoostRegressor\\\",\\\"ElasticNet\\\",\\\"TabnetRegressor\\\",\\\"LassoLars\\\",\\\"ExtremeRandomTrees\\\",\\\"TensorFlowLinearRegressor\\\",\\\"OnlineGradientDescentRegressor\\\",\\\"LightGBM\\\",\\\"GradientBoosting\\\",\\\"RandomForest\\\"],\\\"private_models\\\":[],\\\"auto_blacklist\\\":true,\\\"blacklist_samples_reached\\\":false,\\\"exclude_nan_labels\\\":true,\\\"verbosity\\\":20,\\\"_debug_log\\\":\\\"azureml_automl.log\\\",\\\"show_warnings\\\":false,\\\"model_explainability\\\":true,\\\"service_url\\\":null,\\\"sdk_url\\\":null,\\\"sdk_packages\\\":null,\\\"enable_onnx_compatible_models\\\":false,\\\"enable_split_onnx_featurizer_estimator_models\\\":false,\\\"vm_type\\\":\\\"STANDARD_DS3_V2\\\",\\\"telemetry_verbosity\\\":20,\\\"send_telemetry\\\":true,\\\"enable_dnn\\\":false,\\\"scenario\\\":\\\"AutoML\\\",\\\"environment_label\\\":null,\\\"save_mlflow\\\":false,\\\"enable_categorical_indicators\\\":false,\\\"force_text_dnn\\\":false,\\\"enable_feature_sweeping\\\":true,\\\"enable_early_stopping\\\":true,\\\"early_stopping_n_iters\\\":10,\\\"arguments\\\":null,\\\"dataset_id\\\":\\\"2e7d16f3-c3ba-40f7-8ca3-0e9152963084\\\",\\\"hyperdrive_config\\\":null,\\\"validation_dataset_id\\\":null,\\\"run_source\\\":null,\\\"metrics\\\":null,\\\"enable_metric_confidence\\\":false,\\\"enable_ensembling\\\":true,\\\"enable_stack_ensembling\\\":true,\\\"ensemble_iterations\\\":15,\\\"enable_tf\\\":false,\\\"enable_subsampling\\\":null,\\\"subsample_seed\\\":null,\\\"enable_nimbusml\\\":false,\\\"enable_streaming\\\":false,\\\"force_streaming\\\":false,\\\"track_child_runs\\\":true,\\\"n_best_runs\\\":1,\\\"allowed_private_models\\\":[],\\\"label_column_name\\\":\\\"GENHLTH\\\",\\\"weight_column_name\\\":null,\\\"cv_split_column_names\\\":null,\\\"enable_local_managed\\\":false,\\\"_local_managed_run_id\\\":null,\\\"cost_mode\\\":1,\\\"lag_length\\\":0,\\\"metric_operation\\\":\\\"minimize\\\",\\\"preprocess\\\":true}\", \"DataPrepJsonString\": \"{\\\\\\\"training_data\\\\\\\": {\\\\\\\"datasetId\\\\\\\": \\\\\\\"2e7d16f3-c3ba-40f7-8ca3-0e9152963084\\\\\\\"}, \\\\\\\"datasets\\\\\\\": 0}\", \"EnableSubsampling\": null, \"runTemplate\": \"AutoML\", \"azureml.runsource\": \"automl\", \"display_task_type\": \"regression\", \"dependencies_versions\": \"{\\\"azureml-widgets\\\": \\\"1.48.0\\\", \\\"azureml-training-tabular\\\": \\\"1.48.0\\\", \\\"azureml-train\\\": \\\"1.48.0\\\", \\\"azureml-train-restclients-hyperdrive\\\": \\\"1.48.0\\\", \\\"azureml-train-core\\\": \\\"1.48.0\\\", \\\"azureml-train-automl\\\": \\\"1.48.0\\\", \\\"azureml-train-automl-runtime\\\": \\\"1.48.0\\\", \\\"azureml-train-automl-client\\\": \\\"1.48.0\\\", \\\"azureml-tensorboard\\\": \\\"1.48.0\\\", \\\"azureml-telemetry\\\": \\\"1.48.0\\\", \\\"azureml-sdk\\\": \\\"1.48.0\\\", \\\"azureml-samples\\\": \\\"0+unknown\\\", \\\"azureml-responsibleai\\\": \\\"1.48.0\\\", \\\"azureml-pipeline\\\": \\\"1.48.0\\\", \\\"azureml-pipeline-steps\\\": \\\"1.48.0\\\", \\\"azureml-pipeline-core\\\": \\\"1.48.0\\\", \\\"azureml-opendatasets\\\": \\\"1.48.0\\\", \\\"azureml-mlflow\\\": \\\"1.48.0\\\", \\\"azureml-interpret\\\": \\\"1.48.0\\\", \\\"azureml-inference-server-http\\\": \\\"0.7.7\\\", \\\"azureml-explain-model\\\": \\\"1.48.0\\\", \\\"azureml-defaults\\\": \\\"1.48.0\\\", \\\"azureml-dataset-runtime\\\": \\\"1.48.0\\\", \\\"azureml-dataprep\\\": \\\"4.8.3\\\", \\\"azureml-dataprep-rslex\\\": \\\"2.15.1\\\", \\\"azureml-dataprep-native\\\": \\\"38.0.0\\\", \\\"azureml-datadrift\\\": \\\"1.48.0\\\", \\\"azureml-core\\\": \\\"1.48.0\\\", \\\"azureml-contrib-services\\\": \\\"1.48.0\\\", \\\"azureml-contrib-server\\\": \\\"1.48.0\\\", \\\"azureml-contrib-reinforcementlearning\\\": \\\"1.48.0\\\", \\\"azureml-contrib-pipeline-steps\\\": \\\"1.48.0\\\", \\\"azureml-contrib-notebook\\\": \\\"1.48.0\\\", \\\"azureml-contrib-fairness\\\": \\\"1.48.0\\\", \\\"azureml-contrib-dataset\\\": \\\"1.48.0\\\", \\\"azureml-contrib-automl-pipeline-steps\\\": \\\"1.48.0\\\", \\\"azureml-cli-common\\\": \\\"1.48.0\\\", \\\"azureml-automl-runtime\\\": \\\"1.48.0.post1\\\", \\\"azureml-automl-dnn-nlp\\\": \\\"1.48.0\\\", \\\"azureml-automl-core\\\": \\\"1.48.0\\\", \\\"azureml-accel-models\\\": \\\"1.48.0\\\"}\", \"_aml_system_scenario_identification\": \"Remote.Parent\", \"ClientType\": \"SDK\", \"PlatformVersion\": \"DPV1\", \"environment_cpu_name\": \"AzureML-AutoML\", \"environment_cpu_label\": \"nimbus-deprecation\", \"environment_gpu_name\": \"AzureML-AutoML-GPU\", \"environment_gpu_label\": \"prod\", \"root_attribution\": \"automl\", \"attribution\": \"AutoML\", \"Orchestrator\": \"AutoML\", \"CancelUri\": \"https://westus2.api.azureml.ms/jasmine/v1.0/subscriptions/2c48c51c-bd47-40d4-abbe-fb8eabd19c8c/resourceGroups/aml-quickstarts-231015/providers/Microsoft.MachineLearningServices/workspaces/quick-starts-ws-231015/experimentids/17cce722-8ab7-42ab-bf30-03e1a79cbeaa/cancel/AutoML_bc06420d-c0d5-4168-893b-65dae5508651\", \"ClientSdkVersion\": \"1.48.0.post2\", \"snapshotId\": \"00000000-0000-0000-0000-000000000000\", \"SetupRunId\": \"AutoML_bc06420d-c0d5-4168-893b-65dae5508651_setup\", \"SetupRunContainerId\": \"dcid.AutoML_bc06420d-c0d5-4168-893b-65dae5508651_setup\", \"FeaturizationRunJsonPath\": \"featurizer_container.json\", \"FeaturizationRunId\": \"AutoML_bc06420d-c0d5-4168-893b-65dae5508651_featurize\", \"ProblemInfoJsonString\": \"{\\\"dataset_num_categorical\\\": 0, \\\"is_sparse\\\": true, \\\"subsampling\\\": false, \\\"has_extra_col\\\": true, \\\"dataset_classes\\\": 7, \\\"dataset_features\\\": 651, \\\"dataset_samples\\\": 10000, \\\"single_frequency_class_detected\\\": false}\", \"ModelExplainRunId\": \"AutoML_bc06420d-c0d5-4168-893b-65dae5508651_ModelExplain\"}, \"tags\": {\"model_explain_run\": \"best_run\", \"_aml_system_automl_run_workspace_id\": \"b9ebaa39-8153-4db7-8611-d08acf3bcdf3\", \"_aml_system_azureml.automlComponent\": \"AutoML\", \"pipeline_id_000\": \"faf12f74cf9bbd358ca5525682c5030d36f7be7c;4bc4ec47eb8df2d5d68b361cd60120e65196f757;2dc95d8bafd84221b8de309021c722b4fa570e77;86f7c6ce026522eff88f32e647e3e27450da2679;8dd0d2b5b07d59df7d3518d8fdd9759f1d7144ab;7ac99a8d7e1f10883e7b154ca80bc4c96085ea6e;f21e8ba3898f5e0380866a659ed4c4adef119ec1;ae729f09378486945c70eb2a2306f8aa8f4e30a7;3d41561aa650aa5533e046dbc8a84c64295d0663;7b4a7261c08af7743d92782ce28a7f60ecdab0e2;e427b3684e9a8c615341d55270e540704152f40b;d925751fd9eac1f71df8b9fccd672dc70cbea612;2a94e1d01e7e8898616580c1f18558af204228f4;b5f35f573ce4f6e8526176d4e0932b5193598307;684236a89d44bd7525e435ff014bc99f36fb60c3;7839ca66a0ff9be386363c852f0384a7b2a1c93f;37f58541a91f6fdeb9053a6a2ce7ae2a6dba1d27;74ee6b79247e09b1518ef6d9dcb155e714f496e4;1a23d8a719deb25e0fc2bbc72db7ee3fd91d39d2;735cba3318c2ccc77fba61252dbfd5b383e4584f;0e985ee71c4900292b3fbd9e434ae686ea5fcaf3;9ef9cf7d41ac49d6df84fc323024df5303803877;ecb64199f6b4557ad6197758a214af07461f5853;12f81646879085fa96f7651993fc35d6e7359b89;287bceb7e467ac63bd87dfe615b2d15f757ab47b;985fb264c0c90a988d750a6b72b9b303bab259e8;dd2cdf8adb912874b884a9a3b424b7057af63d8d;6c0be7616ac459d8e33fd6eaf243bb2f28e4533e;17aa40653c6c30d54611d0e23e67d122d9150d5f;70b737f48c50b61cbaedb64da0ae69737ba6368a;3c9c9f1e368668d950e304beccee42e35a1df269;61f134580e8d0c137eae51ed9ae1021491795bff;3cdf41b3be66afbcd930c305d96a0c5c820e6f8a;145ad03dd8a3a1fc3a92dbc1c1291cc0f4fba600;7b83320e94307014d431b0eb67330c0cdde408c0;5d1dad3ead017df7eace52c0c10be17ad9d77596;e98bbe50f8603e6ce394bcb3112e120ad6a472c9;3f2b245b5a0487dc74fe6aa58421d85c8a132d43;__AutoML_Ensemble__;__AutoML_Stack_Ensemble__\", \"score\": \"\", \"predicted_cost\": \"\", \"fit_time\": \"\", \"training_percent\": \"\", \"iteration\": \"\", \"run_preprocessor\": \"\", \"run_algorithm\": \"\", \"dynamic_allowlisting_iterations\": \"<25>;<29>;<35>;\", \"_aml_system_azureml.automl_early_exit_message\": \"No scores improved over last 10 iterations, so experiment stopped early. This early stopping behavior can be disabled by setting enable_early_stopping = False in AutoMLConfig for notebook/python SDK runs.\", \"automl_best_child_run_id\": \"AutoML_bc06420d-c0d5-4168-893b-65dae5508651_38\", \"model_explain_best_run_child_id\": \"AutoML_bc06420d-c0d5-4168-893b-65dae5508651_38\"}, \"end_time_utc\": \"2023-04-13T17:35:59.110471Z\", \"status\": \"Completed\", \"log_files\": {}, \"log_groups\": [], \"run_duration\": \"0:40:50\", \"run_number\": \"1681404908\", \"run_queued_details\": {\"status\": \"Completed\", \"details\": null}}, \"child_runs\": [{\"run_id\": \"AutoML_bc06420d-c0d5-4168-893b-65dae5508651_setup\", \"run_number\": 1681404921, \"metric\": null, \"status\": \"Completed\", \"run_type\": \"azureml.scriptrun\", \"training_percent\": null, \"start_time\": \"2023-04-13T16:58:18.612862Z\", \"end_time\": \"2023-04-13T16:59:48.375149Z\", \"created_time\": \"2023-04-13T16:55:21.152971Z\", \"created_time_dt\": \"2023-04-13T16:55:21.152971Z\", \"duration\": \"0:04:27\", \"iteration\": null, \"goal\": null, \"run_name\": \"Completed\", \"run_properties\": null}, {\"run_id\": \"AutoML_bc06420d-c0d5-4168-893b-65dae5508651_featurize\", \"run_number\": 1681405188, \"metric\": null, \"status\": \"Completed\", \"run_type\": \"automl.featurization\", \"training_percent\": null, \"start_time\": \"2023-04-13T16:59:48.923528Z\", \"end_time\": \"2023-04-13T17:19:52.566991Z\", \"created_time\": \"2023-04-13T16:59:48.624441Z\", \"created_time_dt\": \"2023-04-13T16:59:48.624441Z\", \"duration\": \"0:20:03\", \"iteration\": null, \"goal\": null, \"run_name\": \"Completed\", \"run_properties\": null}, {\"run_id\": \"AutoML_bc06420d-c0d5-4168-893b-65dae5508651_0\", \"run_number\": 1681406394, \"metric\": null, \"status\": \"Completed\", \"run_type\": null, \"training_percent\": \"100\", \"start_time\": \"2023-04-13T17:20:12.787905Z\", \"end_time\": \"2023-04-13T17:20:27.648807Z\", \"created_time\": \"2023-04-13T17:19:54.465342Z\", \"created_time_dt\": \"2023-04-13T17:19:54.465342Z\", \"duration\": \"0:00:33\", \"iteration\": \"0\", \"goal\": \"normalized_mean_absolute_error_min\", \"run_name\": \"MaxAbsScaler, LightGBM\", \"run_properties\": \"copy=True\", \"primary_metric\": 0.06387613, \"best_metric\": 0.06387613}, {\"run_id\": \"AutoML_bc06420d-c0d5-4168-893b-65dae5508651_2\", \"run_number\": 1681406395, \"metric\": null, \"status\": \"Completed\", \"run_type\": null, \"training_percent\": \"100\", \"start_time\": \"2023-04-13T17:21:11.034147Z\", \"end_time\": \"2023-04-13T17:21:37.083672Z\", \"created_time\": \"2023-04-13T17:19:55.40035Z\", \"created_time_dt\": \"2023-04-13T17:19:55.40035Z\", \"duration\": \"0:01:41\", \"iteration\": \"2\", \"goal\": \"normalized_mean_absolute_error_min\", \"run_name\": \"MaxAbsScaler, ElasticNet\", \"run_properties\": \"copy=True\", \"primary_metric\": 0.07066088, \"best_metric\": 0.06387613}, {\"run_id\": \"AutoML_bc06420d-c0d5-4168-893b-65dae5508651_worker_0\", \"run_number\": 1681406396, \"metric\": null, \"status\": \"Completed\", \"run_type\": \"azureml.scriptrun\", \"training_percent\": null, \"start_time\": \"2023-04-13T17:20:03.382774Z\", \"end_time\": \"2023-04-13T17:22:32.322442Z\", \"created_time\": \"2023-04-13T17:19:56.09632Z\", \"created_time_dt\": \"2023-04-13T17:19:56.09632Z\", \"duration\": \"0:02:36\", \"iteration\": null, \"goal\": null, \"run_name\": \"Completed\", \"run_properties\": null}, {\"run_id\": \"AutoML_bc06420d-c0d5-4168-893b-65dae5508651_worker_1\", \"run_number\": 1681406397, \"metric\": null, \"status\": \"Completed\", \"run_type\": \"azureml.scriptrun\", \"training_percent\": null, \"start_time\": \"2023-04-13T17:22:00.399845Z\", \"end_time\": \"2023-04-13T17:25:56.434883Z\", \"created_time\": \"2023-04-13T17:19:57.663706Z\", \"created_time_dt\": \"2023-04-13T17:19:57.663706Z\", \"duration\": \"0:05:58\", \"iteration\": null, \"goal\": null, \"run_name\": \"Completed\", \"run_properties\": null}, {\"run_id\": \"AutoML_bc06420d-c0d5-4168-893b-65dae5508651_9\", \"run_number\": 1681406398, \"metric\": null, \"status\": \"Completed\", \"run_type\": null, \"training_percent\": \"100\", \"start_time\": \"2023-04-13T17:23:59.841015Z\", \"end_time\": \"2023-04-13T17:24:11.19265Z\", \"created_time\": \"2023-04-13T17:19:58.281651Z\", \"created_time_dt\": \"2023-04-13T17:19:58.281651Z\", \"duration\": \"0:04:12\", \"iteration\": \"9\", \"goal\": \"normalized_mean_absolute_error_min\", \"run_name\": \"StandardScalerWrapper, DecisionTree\", \"run_properties\": \"copy=True, with_mean=False, with_std=False\", \"primary_metric\": 0.06906004, \"best_metric\": 0.06387613}, {\"run_id\": \"AutoML_bc06420d-c0d5-4168-893b-65dae5508651_worker_2\", \"run_number\": 1681406399, \"metric\": null, \"status\": \"Completed\", \"run_type\": \"azureml.scriptrun\", \"training_percent\": null, \"start_time\": \"2023-04-13T17:22:02.081602Z\", \"end_time\": \"2023-04-13T17:26:02.760196Z\", \"created_time\": \"2023-04-13T17:19:59.311652Z\", \"created_time_dt\": \"2023-04-13T17:19:59.311652Z\", \"duration\": \"0:06:03\", \"iteration\": null, \"goal\": null, \"run_name\": \"Completed\", \"run_properties\": null}, {\"run_id\": \"AutoML_bc06420d-c0d5-4168-893b-65dae5508651_14\", \"run_number\": 1681406400, \"metric\": null, \"status\": \"Completed\", \"run_type\": null, \"training_percent\": \"100\", \"start_time\": \"2023-04-13T17:25:23.380968Z\", \"end_time\": \"2023-04-13T17:26:29.425468Z\", \"created_time\": \"2023-04-13T17:20:00.179852Z\", \"created_time_dt\": \"2023-04-13T17:20:00.179852Z\", \"duration\": \"0:06:29\", \"iteration\": \"14\", \"goal\": \"normalized_mean_absolute_error_min\", \"run_name\": \"StandardScalerWrapper, ElasticNet\", \"run_properties\": \"copy=True, with_mean=False, with_std=False\", \"primary_metric\": 0.08083406, \"best_metric\": 0.06387613}, {\"run_id\": \"AutoML_bc06420d-c0d5-4168-893b-65dae5508651_15\", \"run_number\": 1681406401, \"metric\": null, \"status\": \"Completed\", \"run_type\": null, \"training_percent\": \"100\", \"start_time\": \"2023-04-13T17:26:30.072542Z\", \"end_time\": \"2023-04-13T17:27:46.482028Z\", \"created_time\": \"2023-04-13T17:20:01.70402Z\", \"created_time_dt\": \"2023-04-13T17:20:01.70402Z\", \"duration\": \"0:07:44\", \"iteration\": \"15\", \"goal\": \"normalized_mean_absolute_error_min\", \"run_name\": \"StandardScalerWrapper, ElasticNet\", \"run_properties\": \"copy=True, with_mean=False, with_std=False\", \"primary_metric\": 0.0744865, \"best_metric\": 0.06387613}, {\"run_id\": \"AutoML_bc06420d-c0d5-4168-893b-65dae5508651_worker_3\", \"run_number\": 1681406402, \"metric\": null, \"status\": \"Completed\", \"run_type\": \"azureml.scriptrun\", \"training_percent\": null, \"start_time\": \"2023-04-13T17:22:05.276834Z\", \"end_time\": \"2023-04-13T17:27:55.087296Z\", \"created_time\": \"2023-04-13T17:20:02.654535Z\", \"created_time_dt\": \"2023-04-13T17:20:02.654535Z\", \"duration\": \"0:07:52\", \"iteration\": null, \"goal\": null, \"run_name\": \"Completed\", \"run_properties\": null}, {\"run_id\": \"AutoML_bc06420d-c0d5-4168-893b-65dae5508651_17\", \"run_number\": 1681406403, \"metric\": null, \"status\": \"Completed\", \"run_type\": null, \"training_percent\": \"100\", \"start_time\": \"2023-04-13T17:23:38.743042Z\", \"end_time\": \"2023-04-13T17:23:51.17682Z\", \"created_time\": \"2023-04-13T17:20:03.191247Z\", \"created_time_dt\": \"2023-04-13T17:20:03.191247Z\", \"duration\": \"0:03:47\", \"iteration\": \"17\", \"goal\": \"normalized_mean_absolute_error_min\", \"run_name\": \"StandardScalerWrapper, ElasticNet\", \"run_properties\": \"copy=True, with_mean=False, with_std=True\", \"primary_metric\": 0.07096465, \"best_metric\": 0.06387613}, {\"run_id\": \"AutoML_bc06420d-c0d5-4168-893b-65dae5508651_worker_4\", \"run_number\": 1681406404, \"metric\": null, \"status\": \"Completed\", \"run_type\": \"azureml.scriptrun\", \"training_percent\": null, \"start_time\": \"2023-04-13T17:22:36.683394Z\", \"end_time\": \"2023-04-13T17:24:26.299064Z\", \"created_time\": \"2023-04-13T17:20:04.482397Z\", \"created_time_dt\": \"2023-04-13T17:20:04.482397Z\", \"duration\": \"0:04:21\", \"iteration\": null, \"goal\": null, \"run_name\": \"Completed\", \"run_properties\": null}, {\"run_id\": \"AutoML_bc06420d-c0d5-4168-893b-65dae5508651_20\", \"run_number\": 1681406738, \"metric\": null, \"status\": \"Completed\", \"run_type\": \"azureml.scriptrun\", \"training_percent\": \"100\", \"start_time\": \"2023-04-13T17:25:49.978213Z\", \"end_time\": \"2023-04-13T17:26:23.469671Z\", \"created_time\": \"2023-04-13T17:25:38.957892Z\", \"created_time_dt\": \"2023-04-13T17:25:38.957892Z\", \"duration\": \"0:00:44\", \"iteration\": \"20\", \"goal\": \"normalized_mean_absolute_error_min\", \"run_name\": \"MaxAbsScaler, DecisionTree\", \"run_properties\": \"copy=True\", \"primary_metric\": 0.06793908, \"best_metric\": 0.06387613}, {\"run_id\": \"AutoML_bc06420d-c0d5-4168-893b-65dae5508651_22\", \"run_number\": 1681406787, \"metric\": null, \"status\": \"Completed\", \"run_type\": \"azureml.scriptrun\", \"training_percent\": \"100\", \"start_time\": \"2023-04-13T17:26:32.987454Z\", \"end_time\": \"2023-04-13T17:26:59.418015Z\", \"created_time\": \"2023-04-13T17:26:27.160831Z\", \"created_time_dt\": \"2023-04-13T17:26:27.160831Z\", \"duration\": \"0:00:32\", \"iteration\": \"22\", \"goal\": \"normalized_mean_absolute_error_min\", \"run_name\": \"MaxAbsScaler, DecisionTree\", \"run_properties\": \"copy=True\", \"primary_metric\": 0.06975729, \"best_metric\": 0.06387613}, {\"run_id\": \"AutoML_bc06420d-c0d5-4168-893b-65dae5508651_25\", \"run_number\": 1681406794, \"metric\": null, \"status\": \"Completed\", \"run_type\": \"azureml.scriptrun\", \"training_percent\": \"100\", \"start_time\": \"2023-04-13T17:27:03.18103Z\", \"end_time\": \"2023-04-13T17:27:30.241942Z\", \"created_time\": \"2023-04-13T17:26:34.317886Z\", \"created_time_dt\": \"2023-04-13T17:26:34.317886Z\", \"duration\": \"0:00:55\", \"iteration\": \"25\", \"goal\": \"normalized_mean_absolute_error_min\", \"run_name\": \"SparseNormalizer, LightGBM\", \"run_properties\": \"copy=True, norm='l1'\", \"primary_metric\": 0.06548919, \"best_metric\": 0.06387613}, {\"run_id\": \"AutoML_bc06420d-c0d5-4168-893b-65dae5508651_26\", \"run_number\": 1681406820, \"metric\": null, \"status\": \"Completed\", \"run_type\": \"azureml.scriptrun\", \"training_percent\": \"100\", \"start_time\": \"2023-04-13T17:27:33.48187Z\", \"end_time\": \"2023-04-13T17:28:17.774057Z\", \"created_time\": \"2023-04-13T17:27:00.959189Z\", \"created_time_dt\": \"2023-04-13T17:27:00.959189Z\", \"duration\": \"0:01:16\", \"iteration\": \"26\", \"goal\": \"normalized_mean_absolute_error_min\", \"run_name\": \"StandardScalerWrapper, RandomForest\", \"run_properties\": \"copy=True, with_mean=False, with_std=False\", \"primary_metric\": 0.06618201, \"best_metric\": 0.06387613}, {\"run_id\": \"AutoML_bc06420d-c0d5-4168-893b-65dae5508651_27\", \"run_number\": 1681406851, \"metric\": null, \"status\": \"Completed\", \"run_type\": \"azureml.scriptrun\", \"training_percent\": \"100\", \"start_time\": \"2023-04-13T17:27:38.754481Z\", \"end_time\": \"2023-04-13T17:28:40.397054Z\", \"created_time\": \"2023-04-13T17:27:31.677708Z\", \"created_time_dt\": \"2023-04-13T17:27:31.677708Z\", \"duration\": \"0:01:08\", \"iteration\": \"27\", \"goal\": \"normalized_mean_absolute_error_min\", \"run_name\": \"SparseNormalizer, XGBoostRegressor\", \"run_properties\": \"copy=True, norm='l2'\", \"primary_metric\": 0.06807574, \"best_metric\": 0.06387613}, {\"run_id\": \"AutoML_bc06420d-c0d5-4168-893b-65dae5508651_28\", \"run_number\": 1681406856, \"metric\": null, \"status\": \"Canceled\", \"run_type\": \"azureml.scriptrun\", \"training_percent\": \"100\", \"start_time\": \"2023-04-13T17:28:00.070636Z\", \"end_time\": \"2023-04-13T17:34:40.038948Z\", \"created_time\": \"2023-04-13T17:27:36.453509Z\", \"created_time_dt\": \"2023-04-13T17:27:36.453509Z\", \"duration\": \"0:07:03\", \"iteration\": \"28\", \"goal\": null, \"run_name\": \"StandardScalerWrapper, ExtremeRandomTrees\", \"run_properties\": null}, {\"run_id\": \"AutoML_bc06420d-c0d5-4168-893b-65dae5508651_30\", \"run_number\": 1681406900, \"metric\": null, \"status\": \"Completed\", \"run_type\": \"azureml.scriptrun\", \"training_percent\": \"100\", \"start_time\": \"2023-04-13T17:28:27.860448Z\", \"end_time\": \"2023-04-13T17:33:18.185361Z\", \"created_time\": \"2023-04-13T17:28:20.267302Z\", \"created_time_dt\": \"2023-04-13T17:28:20.267302Z\", \"duration\": \"0:04:57\", \"iteration\": \"30\", \"goal\": \"normalized_mean_absolute_error_min\", \"run_name\": \"MaxAbsScaler, ExtremeRandomTrees\", \"run_properties\": \"copy=True\", \"primary_metric\": 0.06679039, \"best_metric\": 0.06387613}, {\"run_id\": \"AutoML_bc06420d-c0d5-4168-893b-65dae5508651_31\", \"run_number\": 1681406922, \"metric\": null, \"status\": \"Canceled\", \"run_type\": \"azureml.scriptrun\", \"training_percent\": \"100\", \"start_time\": \"2023-04-13T17:29:19.670357Z\", \"end_time\": \"2023-04-13T17:34:39.911969Z\", \"created_time\": \"2023-04-13T17:28:42.263397Z\", \"created_time_dt\": \"2023-04-13T17:28:42.263397Z\", \"duration\": \"0:05:57\", \"iteration\": \"31\", \"goal\": null, \"run_name\": \"StandardScalerWrapper, RandomForest\", \"run_properties\": null}, {\"run_id\": \"AutoML_bc06420d-c0d5-4168-893b-65dae5508651_32\", \"run_number\": 1681406958, \"metric\": null, \"status\": \"Completed\", \"run_type\": \"azureml.scriptrun\", \"training_percent\": \"100\", \"start_time\": \"2023-04-13T17:30:24.541368Z\", \"end_time\": \"2023-04-13T17:31:06.191222Z\", \"created_time\": \"2023-04-13T17:29:18.030541Z\", \"created_time_dt\": \"2023-04-13T17:29:18.030541Z\", \"duration\": \"0:01:48\", \"iteration\": \"32\", \"goal\": \"normalized_mean_absolute_error_min\", \"run_name\": \"SparseNormalizer, XGBoostRegressor\", \"run_properties\": \"copy=True, norm='l2'\", \"primary_metric\": 0.06674953, \"best_metric\": 0.06387613}, {\"run_id\": \"AutoML_bc06420d-c0d5-4168-893b-65dae5508651_33\", \"run_number\": 1681407022, \"metric\": null, \"status\": \"Completed\", \"run_type\": \"azureml.scriptrun\", \"training_percent\": \"100\", \"start_time\": \"2023-04-13T17:31:06.840825Z\", \"end_time\": \"2023-04-13T17:31:58.67754Z\", \"created_time\": \"2023-04-13T17:30:22.974215Z\", \"created_time_dt\": \"2023-04-13T17:30:22.974215Z\", \"duration\": \"0:01:35\", \"iteration\": \"33\", \"goal\": \"normalized_mean_absolute_error_min\", \"run_name\": \"SparseNormalizer, XGBoostRegressor\", \"run_properties\": \"copy=True, norm='l2'\", \"primary_metric\": 0.1765219, \"best_metric\": 0.06387613}, {\"run_id\": \"AutoML_bc06420d-c0d5-4168-893b-65dae5508651_34\", \"run_number\": 1681407067, \"metric\": null, \"status\": \"Canceled\", \"run_type\": \"azureml.scriptrun\", \"training_percent\": \"100\", \"start_time\": \"2023-04-13T17:32:03.963211Z\", \"end_time\": \"2023-04-13T17:34:36.196535Z\", \"created_time\": \"2023-04-13T17:31:07.74161Z\", \"created_time_dt\": \"2023-04-13T17:31:07.74161Z\", \"duration\": \"0:03:28\", \"iteration\": \"34\", \"goal\": null, \"run_name\": \"StandardScalerWrapper, ExtremeRandomTrees\", \"run_properties\": null}, {\"run_id\": \"AutoML_bc06420d-c0d5-4168-893b-65dae5508651_35\", \"run_number\": 1681407121, \"metric\": null, \"status\": \"Completed\", \"run_type\": \"azureml.scriptrun\", \"training_percent\": \"100\", \"start_time\": \"2023-04-13T17:33:22.411557Z\", \"end_time\": \"2023-04-13T17:34:00.359818Z\", \"created_time\": \"2023-04-13T17:32:01.380721Z\", \"created_time_dt\": \"2023-04-13T17:32:01.380721Z\", \"duration\": \"0:01:58\", \"iteration\": \"35\", \"goal\": \"normalized_mean_absolute_error_min\", \"run_name\": \"SparseNormalizer, LightGBM\", \"run_properties\": \"copy=True, norm='l1'\", \"primary_metric\": 0.06760086, \"best_metric\": 0.06387613}, {\"run_id\": \"AutoML_bc06420d-c0d5-4168-893b-65dae5508651_36\", \"run_number\": 1681407199, \"metric\": null, \"status\": \"Completed\", \"run_type\": \"azureml.scriptrun\", \"training_percent\": \"100\", \"start_time\": \"2023-04-13T17:34:03.121458Z\", \"end_time\": \"2023-04-13T17:34:35.236497Z\", \"created_time\": \"2023-04-13T17:33:19.935938Z\", \"created_time_dt\": \"2023-04-13T17:33:19.935938Z\", \"duration\": \"0:01:15\", \"iteration\": \"36\", \"goal\": \"normalized_mean_absolute_error_min\", \"run_name\": \"MaxAbsScaler, RandomForest\", \"run_properties\": \"copy=True\", \"primary_metric\": 0.0672756, \"best_metric\": 0.06387613}, {\"run_id\": \"AutoML_bc06420d-c0d5-4168-893b-65dae5508651_37\", \"run_number\": 1681407244, \"metric\": null, \"status\": \"Canceled\", \"run_type\": \"azureml.scriptrun\", \"training_percent\": \"100\", \"start_time\": \"2023-04-13T17:34:36.014868Z\", \"end_time\": \"2023-04-13T17:34:37.145867Z\", \"created_time\": \"2023-04-13T17:34:04.394771Z\", \"created_time_dt\": \"2023-04-13T17:34:04.394771Z\", \"duration\": \"0:00:32\", \"iteration\": \"37\", \"goal\": null, \"run_name\": \"Canceled\", \"run_properties\": null}, {\"run_id\": \"AutoML_bc06420d-c0d5-4168-893b-65dae5508651_38\", \"run_number\": 1681407280, \"metric\": null, \"status\": \"Completed\", \"run_type\": \"azureml.scriptrun\", \"training_percent\": \"100\", \"start_time\": \"2023-04-13T17:34:47.600402Z\", \"end_time\": \"2023-04-13T17:35:55.638626Z\", \"created_time\": \"2023-04-13T17:34:40.682912Z\", \"created_time_dt\": \"2023-04-13T17:34:40.682912Z\", \"duration\": \"0:01:14\", \"iteration\": \"38\", \"goal\": \"normalized_mean_absolute_error_min\", \"run_name\": \"VotingEnsemble\", \"run_properties\": \"estimators=[('0', Pipeline(memory=None, steps=[('maxabsscaler', MaxAbsScaler(copy=True\", \"primary_metric\": 0.06276985, \"best_metric\": 0.06276985}], \"children_metrics\": {\"categories\": [0], \"series\": {\"normalized_root_mean_squared_error\": [{\"categories\": [\"0\", \"2\", \"9\", \"14\", \"15\", \"17\", \"20\", \"22\", \"25\", \"26\", \"27\", \"30\", \"32\", \"33\", \"35\", \"36\", \"38\"], \"mode\": \"markers\", \"name\": \"normalized_root_mean_squared_error\", \"stepped\": false, \"type\": \"scatter\", \"data\": [0.0780951226004041, 0.08819537859534017, 0.08637829702464887, 0.10048299274824261, 0.09228504128004149, 0.08864067509822234, 0.08416700852254487, 0.08534377763304363, 0.08243440744195864, 0.08435457080522785, 0.08478763803666454, 0.08703592327145371, 0.08201683812909805, 0.20734563557705013, 0.08498556128253089, 0.08429216056278949, 0.07800172026394003]}, {\"categories\": [\"0\", \"2\", \"9\", \"14\", \"15\", \"17\", \"20\", \"22\", \"25\", \"26\", \"27\", \"30\", \"32\", \"33\", \"35\", \"36\", \"38\"], \"mode\": \"lines\", \"name\": \"normalized_root_mean_squared_error_min\", \"stepped\": true, \"type\": \"scatter\", \"data\": [0.0780951226004041, 0.0780951226004041, 0.0780951226004041, 0.0780951226004041, 0.0780951226004041, 0.0780951226004041, 0.0780951226004041, 0.0780951226004041, 0.0780951226004041, 0.0780951226004041, 0.0780951226004041, 0.0780951226004041, 0.0780951226004041, 0.0780951226004041, 0.0780951226004041, 0.0780951226004041, 0.07800172026394003]}], \"normalized_median_absolute_error\": [{\"categories\": [\"0\", \"2\", \"9\", \"14\", \"15\", \"17\", \"20\", \"22\", \"25\", \"26\", \"27\", \"30\", \"32\", \"33\", \"35\", \"36\", \"38\"], \"mode\": \"markers\", \"name\": \"normalized_median_absolute_error\", \"stepped\": false, \"type\": \"scatter\", \"data\": [0.05581785514691132, 0.061533697244841416, 0.05887887081336096, 0.0701937267390728, 0.06538316703336022, 0.061586896776268295, 0.06016227590160519, 0.061548343475796484, 0.0571861729719698, 0.05835089119192156, 0.058111779391765594, 0.055783955514544036, 0.05879365156094233, 0.19873484472433725, 0.05881361246644027, 0.05882804428761717, 0.054986515093653654]}, {\"categories\": [\"0\", \"2\", \"9\", \"14\", \"15\", \"17\", \"20\", \"22\", \"25\", \"26\", \"27\", \"30\", \"32\", \"33\", \"35\", \"36\", \"38\"], \"mode\": \"lines\", \"name\": \"normalized_median_absolute_error_min\", \"stepped\": true, \"type\": \"scatter\", \"data\": [0.05581785514691132, 0.05581785514691132, 0.05581785514691132, 0.05581785514691132, 0.05581785514691132, 0.05581785514691132, 0.05581785514691132, 0.05581785514691132, 0.05581785514691132, 0.05581785514691132, 0.05581785514691132, 0.055783955514544036, 0.055783955514544036, 0.055783955514544036, 0.055783955514544036, 0.055783955514544036, 0.054986515093653654]}], \"explained_variance\": [{\"categories\": [\"0\", \"2\", \"9\", \"14\", \"15\", \"17\", \"20\", \"22\", \"25\", \"26\", \"27\", \"30\", \"32\", \"33\", \"35\", \"36\", \"38\"], \"mode\": \"markers\", \"name\": \"explained_variance\", \"stepped\": false, \"type\": \"scatter\", \"data\": [0.7194747110228868, 0.6423721334755167, 0.6571223468796039, 0.5358482346266565, 0.6084947411985571, 0.6388030676747424, 0.6742032550395578, 0.6652700632514127, 0.6876937378685176, 0.6729863819781673, 0.6693177185604973, 0.6518935821364792, 0.6906760315199527, 0.3713784028848643, 0.6681109068705341, 0.6735189540363443, 0.7202381913175729]}, {\"categories\": [\"0\", \"2\", \"9\", \"14\", \"15\", \"17\", \"20\", \"22\", \"25\", \"26\", \"27\", \"30\", \"32\", \"33\", \"35\", \"36\", \"38\"], \"mode\": \"lines\", \"name\": \"explained_variance_max\", \"stepped\": true, \"type\": \"scatter\", \"data\": [0.7194747110228868, 0.7194747110228868, 0.7194747110228868, 0.7194747110228868, 0.7194747110228868, 0.7194747110228868, 0.7194747110228868, 0.7194747110228868, 0.7194747110228868, 0.7194747110228868, 0.7194747110228868, 0.7194747110228868, 0.7194747110228868, 0.7194747110228868, 0.7194747110228868, 0.7194747110228868, 0.7202381913175729]}], \"root_mean_squared_log_error\": [{\"categories\": [\"0\", \"2\", \"9\", \"14\", \"15\", \"17\", \"20\", \"22\", \"25\", \"26\", \"27\", \"30\", \"32\", \"33\", \"35\", \"36\", \"38\"], \"mode\": \"markers\", \"name\": \"root_mean_squared_log_error\", \"stepped\": false, \"type\": \"scatter\", \"data\": [0.20428083914168768, 0.21840264020620956, 0.21598738178593516, 0.24047387422374542, 0.22657143943692568, 0.22017971147075852, 0.2192458485351286, 0.2136485280639151, 0.20965977081437215, 0.21213415324535623, 0.21727635352364097, 0.2160371341704911, 0.2104777231051557, 0.4764103508584425, 0.21163275155389738, 0.2119981772830335, 0.2041393359859873]}, {\"categories\": [\"0\", \"2\", \"9\", \"14\", \"15\", \"17\", \"20\", \"22\", \"25\", \"26\", \"27\", \"30\", \"32\", \"33\", \"35\", \"36\", \"38\"], \"mode\": \"lines\", \"name\": \"root_mean_squared_log_error_min\", \"stepped\": true, \"type\": \"scatter\", \"data\": [0.20428083914168768, 0.20428083914168768, 0.20428083914168768, 0.20428083914168768, 0.20428083914168768, 0.20428083914168768, 0.20428083914168768, 0.20428083914168768, 0.20428083914168768, 0.20428083914168768, 0.20428083914168768, 0.20428083914168768, 0.20428083914168768, 0.20428083914168768, 0.20428083914168768, 0.20428083914168768, 0.2041393359859873]}], \"mean_absolute_error\": [{\"categories\": [\"0\", \"2\", \"9\", \"14\", \"15\", \"17\", \"20\", \"22\", \"25\", \"26\", \"27\", \"30\", \"32\", \"33\", \"35\", \"36\", \"38\"], \"mode\": \"markers\", \"name\": \"mean_absolute_error\", \"stepped\": false, \"type\": \"scatter\", \"data\": [0.5110090427403083, 0.5652870681744616, 0.5524802922553509, 0.6466724455761872, 0.5958919625722783, 0.5677172383963676, 0.5435126556786255, 0.5580583564450636, 0.5239135279976277, 0.5294560920261325, 0.5446059088679388, 0.5343231016860305, 0.5339962490320128, 1.412175200214891, 0.5408068895453387, 0.5382047722283243, 0.5021588183515895]}, {\"categories\": [\"0\", \"2\", \"9\", \"14\", \"15\", \"17\", \"20\", \"22\", \"25\", \"26\", \"27\", \"30\", \"32\", \"33\", \"35\", \"36\", \"38\"], \"mode\": \"lines\", \"name\": \"mean_absolute_error_min\", \"stepped\": true, \"type\": \"scatter\", \"data\": [0.5110090427403083, 0.5110090427403083, 0.5110090427403083, 0.5110090427403083, 0.5110090427403083, 0.5110090427403083, 0.5110090427403083, 0.5110090427403083, 0.5110090427403083, 0.5110090427403083, 0.5110090427403083, 0.5110090427403083, 0.5110090427403083, 0.5110090427403083, 0.5110090427403083, 0.5110090427403083, 0.5021588183515895]}], \"normalized_mean_absolute_error\": [{\"categories\": [\"0\", \"2\", \"9\", \"14\", \"15\", \"17\", \"20\", \"22\", \"25\", \"26\", \"27\", \"30\", \"32\", \"33\", \"35\", \"36\", \"38\"], \"mode\": \"markers\", \"name\": \"normalized_mean_absolute_error\", \"stepped\": false, \"type\": \"scatter\", \"data\": [0.06387613034253854, 0.0706608835218077, 0.06906003653191886, 0.0808340556970234, 0.07448649532153478, 0.07096465479954595, 0.06793908195982819, 0.06975729455563295, 0.06548919099970346, 0.06618201150326657, 0.06807573860849235, 0.06679038771075381, 0.0667495311290016, 0.17652190002686138, 0.06760086119316734, 0.06727559652854054, 0.06276985229394869]}, {\"categories\": [\"0\", \"2\", \"9\", \"14\", \"15\", \"17\", \"20\", \"22\", \"25\", \"26\", \"27\", \"30\", \"32\", \"33\", \"35\", \"36\", \"38\"], \"mode\": \"lines\", \"name\": \"normalized_mean_absolute_error_min\", \"stepped\": true, \"type\": \"scatter\", \"data\": [0.06387613034253854, 0.06387613034253854, 0.06387613034253854, 0.06387613034253854, 0.06387613034253854, 0.06387613034253854, 0.06387613034253854, 0.06387613034253854, 0.06387613034253854, 0.06387613034253854, 0.06387613034253854, 0.06387613034253854, 0.06387613034253854, 0.06387613034253854, 0.06387613034253854, 0.06387613034253854, 0.06276985229394869]}], \"r2_score\": [{\"categories\": [\"0\", \"2\", \"9\", \"14\", \"15\", \"17\", \"20\", \"22\", \"25\", \"26\", \"27\", \"30\", \"32\", \"33\", \"35\", \"36\", \"38\"], \"mode\": \"markers\", \"name\": \"r2_score\", \"stepped\": false, \"type\": \"scatter\", \"data\": [0.7193950446829716, 0.6421838170985027, 0.6570597609235473, 0.5357806116600273, 0.608385624978745, 0.6386566981439441, 0.6741168017934364, 0.6651979472391583, 0.6876311455227954, 0.672947194494256, 0.6692145371799532, 0.6518456272303058, 0.6905952221164471, -0.9742482358816767, 0.6680316110641601, 0.673406995537646, 0.7201610943432021]}, {\"categories\": [\"0\", \"2\", \"9\", \"14\", \"15\", \"17\", \"20\", \"22\", \"25\", \"26\", \"27\", \"30\", \"32\", \"33\", \"35\", \"36\", \"38\"], \"mode\": \"lines\", \"name\": \"r2_score_max\", \"stepped\": true, \"type\": \"scatter\", \"data\": [0.7193950446829716, 0.7193950446829716, 0.7193950446829716, 0.7193950446829716, 0.7193950446829716, 0.7193950446829716, 0.7193950446829716, 0.7193950446829716, 0.7193950446829716, 0.7193950446829716, 0.7193950446829716, 0.7193950446829716, 0.7193950446829716, 0.7193950446829716, 0.7193950446829716, 0.7193950446829716, 0.7201610943432021]}], \"spearman_correlation\": [{\"categories\": [\"0\", \"2\", \"9\", \"14\", \"15\", \"17\", \"20\", \"22\", \"25\", \"26\", \"27\", \"30\", \"32\", \"33\", \"35\", \"36\", \"38\"], \"mode\": \"markers\", \"name\": \"spearman_correlation\", \"stepped\": false, \"type\": \"scatter\", \"data\": [0.7664526067251697, 0.7526169703581974, 0.7315207077111269, 0.7010191198518809, 0.7377442274617872, 0.7538982664443066, 0.7166906406009579, 0.7384382305198236, 0.7659960190363994, 0.7567941560013592, 0.7368451654526215, 0.7614349295280656, 0.7524247607353738, 0.7623675224127063, 0.7507415247457069, 0.7533716648693974, 0.7724978978229432]}, {\"categories\": [\"0\", \"2\", \"9\", \"14\", \"15\", \"17\", \"20\", \"22\", \"25\", \"26\", \"27\", \"30\", \"32\", \"33\", \"35\", \"36\", \"38\"], \"mode\": \"lines\", \"name\": \"spearman_correlation_max\", \"stepped\": true, \"type\": \"scatter\", \"data\": [0.7664526067251697, 0.7664526067251697, 0.7664526067251697, 0.7664526067251697, 0.7664526067251697, 0.7664526067251697, 0.7664526067251697, 0.7664526067251697, 0.7664526067251697, 0.7664526067251697, 0.7664526067251697, 0.7664526067251697, 0.7664526067251697, 0.7664526067251697, 0.7664526067251697, 0.7664526067251697, 0.7724978978229432]}], \"root_mean_squared_error\": [{\"categories\": [\"0\", \"2\", \"9\", \"14\", \"15\", \"17\", \"20\", \"22\", \"25\", \"26\", \"27\", \"30\", \"32\", \"33\", \"35\", \"36\", \"38\"], \"mode\": \"markers\", \"name\": \"root_mean_squared_error\", \"stepped\": false, \"type\": \"scatter\", \"data\": [0.6247609808032328, 0.7055630287627214, 0.691026376197191, 0.8038639419859409, 0.7382803302403319, 0.7091254007857787, 0.673336068180359, 0.682750221064349, 0.6594752595356691, 0.6748365664418228, 0.6783011042933164, 0.6962873861716297, 0.6561347050327844, 1.658765084616401, 0.6798844902602471, 0.6743372845023159, 0.6240137621115203]}, {\"categories\": [\"0\", \"2\", \"9\", \"14\", \"15\", \"17\", \"20\", \"22\", \"25\", \"26\", \"27\", \"30\", \"32\", \"33\", \"35\", \"36\", \"38\"], \"mode\": \"lines\", \"name\": \"root_mean_squared_error_min\", \"stepped\": true, \"type\": \"scatter\", \"data\": [0.6247609808032328, 0.6247609808032328, 0.6247609808032328, 0.6247609808032328, 0.6247609808032328, 0.6247609808032328, 0.6247609808032328, 0.6247609808032328, 0.6247609808032328, 0.6247609808032328, 0.6247609808032328, 0.6247609808032328, 0.6247609808032328, 0.6247609808032328, 0.6247609808032328, 0.6247609808032328, 0.6240137621115203]}], \"median_absolute_error\": [{\"categories\": [\"0\", \"2\", \"9\", \"14\", \"15\", \"17\", \"20\", \"22\", \"25\", \"26\", \"27\", \"30\", \"32\", \"33\", \"35\", \"36\", \"38\"], \"mode\": \"markers\", \"name\": \"median_absolute_error\", \"stepped\": false, \"type\": \"scatter\", \"data\": [0.4465428411752906, 0.49226957795873133, 0.4710309665068877, 0.5615498139125824, 0.5230653362668818, 0.49269517421014636, 0.4812982072128415, 0.49238674780637187, 0.4574893837757584, 0.46680712953537246, 0.46489423513412476, 0.4462716441163523, 0.47034921248753864, 1.589878757794698, 0.47050889973152216, 0.47062435430093735, 0.43989212074922923]}, {\"categories\": [\"0\", \"2\", \"9\", \"14\", \"15\", \"17\", \"20\", \"22\", \"25\", \"26\", \"27\", \"30\", \"32\", \"33\", \"35\", \"36\", \"38\"], \"mode\": \"lines\", \"name\": \"median_absolute_error_min\", \"stepped\": true, \"type\": \"scatter\", \"data\": [0.4465428411752906, 0.4465428411752906, 0.4465428411752906, 0.4465428411752906, 0.4465428411752906, 0.4465428411752906, 0.4465428411752906, 0.4465428411752906, 0.4465428411752906, 0.4465428411752906, 0.4465428411752906, 0.4462716441163523, 0.4462716441163523, 0.4462716441163523, 0.4462716441163523, 0.4462716441163523, 0.43989212074922923]}], \"normalized_root_mean_squared_log_error\": [{\"categories\": [\"0\", \"2\", \"9\", \"14\", \"15\", \"17\", \"20\", \"22\", \"25\", \"26\", \"27\", \"30\", \"32\", \"33\", \"35\", \"36\", \"38\"], \"mode\": \"markers\", \"name\": \"normalized_root_mean_squared_log_error\", \"stepped\": false, \"type\": \"scatter\", \"data\": [0.1269268218198831, 0.13570119016017165, 0.13420050572766593, 0.14941481890410716, 0.14077675049561925, 0.13680534661803792, 0.13622510495204068, 0.13274729420335005, 0.13026893997873112, 0.13180636022456207, 0.13500138889796254, 0.13423141862226814, 0.130777162311798, 0.29601039417415204, 0.1314948218374114, 0.13172187360891058, 0.12683890096589603]}, {\"categories\": [\"0\", \"2\", \"9\", \"14\", \"15\", \"17\", \"20\", \"22\", \"25\", \"26\", \"27\", \"30\", \"32\", \"33\", \"35\", \"36\", \"38\"], \"mode\": \"lines\", \"name\": \"normalized_root_mean_squared_log_error_min\", \"stepped\": true, \"type\": \"scatter\", \"data\": [0.1269268218198831, 0.1269268218198831, 0.1269268218198831, 0.1269268218198831, 0.1269268218198831, 0.1269268218198831, 0.1269268218198831, 0.1269268218198831, 0.1269268218198831, 0.1269268218198831, 0.1269268218198831, 0.1269268218198831, 0.1269268218198831, 0.1269268218198831, 0.1269268218198831, 0.1269268218198831, 0.12683890096589603]}], \"mean_absolute_percentage_error\": [{\"categories\": [\"0\", \"2\", \"9\", \"14\", \"15\", \"17\", \"20\", \"22\", \"25\", \"26\", \"27\", \"30\", \"32\", \"33\", \"35\", \"36\", \"38\"], \"mode\": \"markers\", \"name\": \"mean_absolute_percentage_error\", \"stepped\": false, \"type\": \"scatter\", \"data\": [27.0795893583303, 29.58394993967411, 28.89614700312207, 33.200336282314645, 30.91982288376353, 30.153139700909154, 28.93008927899597, 29.04748850653368, 28.10159047235295, 28.496304797412247, 28.4064954410763, 28.87603657138723, 27.898075877442547, 45.688342191996746, 28.001742037270656, 28.653922278667608, 27.150784185515885]}, {\"categories\": [\"0\", \"2\", \"9\", \"14\", \"15\", \"17\", \"20\", \"22\", \"25\", \"26\", \"27\", \"30\", \"32\", \"33\", \"35\", \"36\", \"38\"], \"mode\": \"lines\", \"name\": \"mean_absolute_percentage_error_min\", \"stepped\": true, \"type\": \"scatter\", \"data\": [27.0795893583303, 27.0795893583303, 27.0795893583303, 27.0795893583303, 27.0795893583303, 27.0795893583303, 27.0795893583303, 27.0795893583303, 27.0795893583303, 27.0795893583303, 27.0795893583303, 27.0795893583303, 27.0795893583303, 27.0795893583303, 27.0795893583303, 27.0795893583303, 27.0795893583303]}]}, \"metricName\": null, \"primaryMetricName\": \"normalized_mean_absolute_error\", \"showLegend\": false}, \"run_metrics\": [{\"name\": \"experiment_status\", \"run_id\": \"AutoML_bc06420d-c0d5-4168-893b-65dae5508651\", \"categories\": [0, 1, 2, 3, 4, 5, 6, 7, 8, 9, 10, 11, 12, 13], \"series\": [{\"data\": [\"DatasetEvaluation\", \"FeaturesGeneration\", \"DatasetFeaturization\", \"DatasetFeaturizationCompleted\", \"DatasetCrossValidationSplit\", \"ModelSelection\", \"BestRunExplainModel\", \"ModelExplanationDataSetSetup\", \"PickSurrogateModel\", \"EngineeredFeatureExplanations\", \"EngineeredFeatureExplanations\", \"RawFeaturesExplanations\", \"RawFeaturesExplanations\", \"BestRunExplainModel\"]}]}, {\"name\": \"experiment_status_description\", \"run_id\": \"AutoML_bc06420d-c0d5-4168-893b-65dae5508651\", \"categories\": [0, 1, 2, 3, 4, 5, 6, 7, 8, 9, 10, 11, 12, 13], \"series\": [{\"data\": [\"Gathering dataset statistics.\", \"Generating features for the dataset.\", \"Beginning to fit featurizers and featurize the dataset.\", \"Completed fit featurizers and featurizing the dataset.\", \"Generating individually featurized CV splits.\", \"Beginning model selection.\", \"Best run model explanations started\", \"Model explanations data setup completed\", \"Choosing LightGBM as the surrogate model for explanations\", \"Computation of engineered features started\", \"Computation of engineered features completed\", \"Computation of raw features started\", \"Computation of raw features completed\", \"Best run model explanations completed\"]}]}, {\"name\": \"explained_variance\", \"run_id\": \"AutoML_bc06420d-c0d5-4168-893b-65dae5508651\", \"categories\": [0], \"series\": [{\"data\": [0.7202381913175729]}]}, {\"name\": \"normalized_root_mean_squared_log_error\", \"run_id\": \"AutoML_bc06420d-c0d5-4168-893b-65dae5508651\", \"categories\": [0], \"series\": [{\"data\": [0.12683890096589603]}]}, {\"name\": \"root_mean_squared_log_error\", \"run_id\": \"AutoML_bc06420d-c0d5-4168-893b-65dae5508651\", \"categories\": [0], \"series\": [{\"data\": [0.2041393359859873]}]}, {\"name\": \"spearman_correlation\", \"run_id\": \"AutoML_bc06420d-c0d5-4168-893b-65dae5508651\", \"categories\": [0], \"series\": [{\"data\": [0.7724978978229432]}]}, {\"name\": \"normalized_median_absolute_error\", \"run_id\": \"AutoML_bc06420d-c0d5-4168-893b-65dae5508651\", \"categories\": [0], \"series\": [{\"data\": [0.054986515093653654]}]}, {\"name\": \"normalized_mean_absolute_error\", \"run_id\": \"AutoML_bc06420d-c0d5-4168-893b-65dae5508651\", \"categories\": [0], \"series\": [{\"data\": [0.06276985229394869]}]}, {\"name\": \"normalized_root_mean_squared_error\", \"run_id\": \"AutoML_bc06420d-c0d5-4168-893b-65dae5508651\", \"categories\": [0], \"series\": [{\"data\": [0.07800172026394003]}]}, {\"name\": \"r2_score\", \"run_id\": \"AutoML_bc06420d-c0d5-4168-893b-65dae5508651\", \"categories\": [0], \"series\": [{\"data\": [0.7201610943432021]}]}, {\"name\": \"mean_absolute_percentage_error\", \"run_id\": \"AutoML_bc06420d-c0d5-4168-893b-65dae5508651\", \"categories\": [0], \"series\": [{\"data\": [27.150784185515885]}]}, {\"name\": \"root_mean_squared_error\", \"run_id\": \"AutoML_bc06420d-c0d5-4168-893b-65dae5508651\", \"categories\": [0], \"series\": [{\"data\": [0.6240137621115203]}]}, {\"name\": \"median_absolute_error\", \"run_id\": \"AutoML_bc06420d-c0d5-4168-893b-65dae5508651\", \"categories\": [0], \"series\": [{\"data\": [0.43989212074922923]}]}, {\"name\": \"mean_absolute_error\", \"run_id\": \"AutoML_bc06420d-c0d5-4168-893b-65dae5508651\", \"categories\": [0], \"series\": [{\"data\": [0.5021588183515895]}]}], \"run_logs\": \"\\nRun is completed.\", \"graph\": {}, \"widget_settings\": {\"childWidgetDisplay\": \"popup\", \"send_telemetry\": false, \"log_level\": \"INFO\", \"sdk_version\": \"1.48.0\"}, \"loading\": false}"
     },
     "metadata": {},
     "output_type": "display_data"
    }
   ],
   "source": [
    "RunDetails(remote_run).show()"
   ]
  },
  {
   "cell_type": "code",
   "execution_count": 45,
   "metadata": {},
   "outputs": [
    {
     "data": {
      "text/plain": [
       "{'runId': 'AutoML_bc06420d-c0d5-4168-893b-65dae5508651',\n",
       " 'target': 'Project-3-Compute',\n",
       " 'status': 'Completed',\n",
       " 'startTimeUtc': '2023-04-13T16:55:21.962125Z',\n",
       " 'endTimeUtc': '2023-04-13T17:35:59.110471Z',\n",
       " 'services': {},\n",
       " 'warnings': [{'source': 'JasmineService',\n",
       "   'message': 'No scores improved over last 10 iterations, so experiment stopped early. This early stopping behavior can be disabled by setting enable_early_stopping = False in AutoMLConfig for notebook/python SDK runs.'}],\n",
       " 'properties': {'num_iterations': '1000',\n",
       "  'training_type': 'TrainFull',\n",
       "  'acquisition_function': 'EI',\n",
       "  'primary_metric': 'normalized_mean_absolute_error',\n",
       "  'train_split': '0',\n",
       "  'acquisition_parameter': '0',\n",
       "  'num_cross_validation': None,\n",
       "  'target': 'Project-3-Compute',\n",
       "  'AMLSettingsJsonString': '{\"path\":null,\"name\":\"Project_3_Experiment\",\"subscription_id\":\"2c48c51c-bd47-40d4-abbe-fb8eabd19c8c\",\"resource_group\":\"aml-quickstarts-231015\",\"workspace_name\":\"quick-starts-ws-231015\",\"region\":\"westus2\",\"compute_target\":\"Project-3-Compute\",\"spark_service\":null,\"azure_service\":\"remote\",\"many_models\":false,\"pipeline_fetch_max_batch_size\":1,\"enable_batch_run\":true,\"enable_parallel_run\":false,\"num_procs\":null,\"enable_run_restructure\":false,\"start_auxiliary_runs_before_parent_complete\":false,\"enable_code_generation\":true,\"iterations\":1000,\"primary_metric\":\"normalized_mean_absolute_error\",\"task_type\":\"regression\",\"positive_label\":null,\"data_script\":null,\"test_size\":0.0,\"test_include_predictions_only\":false,\"validation_size\":0.0,\"n_cross_validations\":null,\"y_min\":null,\"y_max\":null,\"num_classes\":null,\"featurization\":\"auto\",\"_ignore_package_version_incompatibilities\":false,\"is_timeseries\":false,\"max_cores_per_iteration\":1,\"max_concurrent_iterations\":5,\"iteration_timeout_minutes\":null,\"mem_in_mb\":null,\"enforce_time_on_windows\":false,\"experiment_timeout_minutes\":30,\"experiment_exit_score\":null,\"partition_column_names\":null,\"whitelist_models\":null,\"blacklist_algos\":[\"TensorFlowDNN\",\"TensorFlowLinearRegressor\"],\"supported_models\":[\"KNN\",\"SGD\",\"TensorFlowDNN\",\"FastLinearRegressor\",\"DecisionTree\",\"XGBoostRegressor\",\"ElasticNet\",\"TabnetRegressor\",\"LassoLars\",\"ExtremeRandomTrees\",\"TensorFlowLinearRegressor\",\"OnlineGradientDescentRegressor\",\"LightGBM\",\"GradientBoosting\",\"RandomForest\"],\"private_models\":[],\"auto_blacklist\":true,\"blacklist_samples_reached\":false,\"exclude_nan_labels\":true,\"verbosity\":20,\"_debug_log\":\"azureml_automl.log\",\"show_warnings\":false,\"model_explainability\":true,\"service_url\":null,\"sdk_url\":null,\"sdk_packages\":null,\"enable_onnx_compatible_models\":false,\"enable_split_onnx_featurizer_estimator_models\":false,\"vm_type\":\"STANDARD_DS3_V2\",\"telemetry_verbosity\":20,\"send_telemetry\":true,\"enable_dnn\":false,\"scenario\":\"AutoML\",\"environment_label\":null,\"save_mlflow\":false,\"enable_categorical_indicators\":false,\"force_text_dnn\":false,\"enable_feature_sweeping\":true,\"enable_early_stopping\":true,\"early_stopping_n_iters\":10,\"arguments\":null,\"dataset_id\":\"2e7d16f3-c3ba-40f7-8ca3-0e9152963084\",\"hyperdrive_config\":null,\"validation_dataset_id\":null,\"run_source\":null,\"metrics\":null,\"enable_metric_confidence\":false,\"enable_ensembling\":true,\"enable_stack_ensembling\":true,\"ensemble_iterations\":15,\"enable_tf\":false,\"enable_subsampling\":null,\"subsample_seed\":null,\"enable_nimbusml\":false,\"enable_streaming\":false,\"force_streaming\":false,\"track_child_runs\":true,\"n_best_runs\":1,\"allowed_private_models\":[],\"label_column_name\":\"GENHLTH\",\"weight_column_name\":null,\"cv_split_column_names\":null,\"enable_local_managed\":false,\"_local_managed_run_id\":null,\"cost_mode\":1,\"lag_length\":0,\"metric_operation\":\"minimize\",\"preprocess\":true}',\n",
       "  'DataPrepJsonString': '{\\\\\"training_data\\\\\": {\\\\\"datasetId\\\\\": \\\\\"2e7d16f3-c3ba-40f7-8ca3-0e9152963084\\\\\"}, \\\\\"datasets\\\\\": 0}',\n",
       "  'EnableSubsampling': None,\n",
       "  'runTemplate': 'AutoML',\n",
       "  'azureml.runsource': 'automl',\n",
       "  'display_task_type': 'regression',\n",
       "  'dependencies_versions': '{\"azureml-widgets\": \"1.48.0\", \"azureml-training-tabular\": \"1.48.0\", \"azureml-train\": \"1.48.0\", \"azureml-train-restclients-hyperdrive\": \"1.48.0\", \"azureml-train-core\": \"1.48.0\", \"azureml-train-automl\": \"1.48.0\", \"azureml-train-automl-runtime\": \"1.48.0\", \"azureml-train-automl-client\": \"1.48.0\", \"azureml-tensorboard\": \"1.48.0\", \"azureml-telemetry\": \"1.48.0\", \"azureml-sdk\": \"1.48.0\", \"azureml-samples\": \"0+unknown\", \"azureml-responsibleai\": \"1.48.0\", \"azureml-pipeline\": \"1.48.0\", \"azureml-pipeline-steps\": \"1.48.0\", \"azureml-pipeline-core\": \"1.48.0\", \"azureml-opendatasets\": \"1.48.0\", \"azureml-mlflow\": \"1.48.0\", \"azureml-interpret\": \"1.48.0\", \"azureml-inference-server-http\": \"0.7.7\", \"azureml-explain-model\": \"1.48.0\", \"azureml-defaults\": \"1.48.0\", \"azureml-dataset-runtime\": \"1.48.0\", \"azureml-dataprep\": \"4.8.3\", \"azureml-dataprep-rslex\": \"2.15.1\", \"azureml-dataprep-native\": \"38.0.0\", \"azureml-datadrift\": \"1.48.0\", \"azureml-core\": \"1.48.0\", \"azureml-contrib-services\": \"1.48.0\", \"azureml-contrib-server\": \"1.48.0\", \"azureml-contrib-reinforcementlearning\": \"1.48.0\", \"azureml-contrib-pipeline-steps\": \"1.48.0\", \"azureml-contrib-notebook\": \"1.48.0\", \"azureml-contrib-fairness\": \"1.48.0\", \"azureml-contrib-dataset\": \"1.48.0\", \"azureml-contrib-automl-pipeline-steps\": \"1.48.0\", \"azureml-cli-common\": \"1.48.0\", \"azureml-automl-runtime\": \"1.48.0.post1\", \"azureml-automl-dnn-nlp\": \"1.48.0\", \"azureml-automl-core\": \"1.48.0\", \"azureml-accel-models\": \"1.48.0\"}',\n",
       "  '_aml_system_scenario_identification': 'Remote.Parent',\n",
       "  'ClientType': 'SDK',\n",
       "  'PlatformVersion': 'DPV1',\n",
       "  'environment_cpu_name': 'AzureML-AutoML',\n",
       "  'environment_cpu_label': 'nimbus-deprecation',\n",
       "  'environment_gpu_name': 'AzureML-AutoML-GPU',\n",
       "  'environment_gpu_label': 'prod',\n",
       "  'root_attribution': 'automl',\n",
       "  'attribution': 'AutoML',\n",
       "  'Orchestrator': 'AutoML',\n",
       "  'CancelUri': 'https://westus2.api.azureml.ms/jasmine/v1.0/subscriptions/2c48c51c-bd47-40d4-abbe-fb8eabd19c8c/resourceGroups/aml-quickstarts-231015/providers/Microsoft.MachineLearningServices/workspaces/quick-starts-ws-231015/experimentids/17cce722-8ab7-42ab-bf30-03e1a79cbeaa/cancel/AutoML_bc06420d-c0d5-4168-893b-65dae5508651',\n",
       "  'ClientSdkVersion': '1.48.0.post2',\n",
       "  'snapshotId': '00000000-0000-0000-0000-000000000000',\n",
       "  'SetupRunId': 'AutoML_bc06420d-c0d5-4168-893b-65dae5508651_setup',\n",
       "  'SetupRunContainerId': 'dcid.AutoML_bc06420d-c0d5-4168-893b-65dae5508651_setup',\n",
       "  'FeaturizationRunJsonPath': 'featurizer_container.json',\n",
       "  'FeaturizationRunId': 'AutoML_bc06420d-c0d5-4168-893b-65dae5508651_featurize',\n",
       "  'ProblemInfoJsonString': '{\"dataset_num_categorical\": 0, \"is_sparse\": true, \"subsampling\": false, \"has_extra_col\": true, \"dataset_classes\": 7, \"dataset_features\": 651, \"dataset_samples\": 10000, \"single_frequency_class_detected\": false}',\n",
       "  'ModelExplainRunId': 'AutoML_bc06420d-c0d5-4168-893b-65dae5508651_ModelExplain'},\n",
       " 'inputDatasets': [{'dataset': {'id': '2e7d16f3-c3ba-40f7-8ca3-0e9152963084'}, 'consumptionDetails': {'type': 'RunInput', 'inputName': 'training_data', 'mechanism': 'Direct'}}],\n",
       " 'outputDatasets': [],\n",
       " 'logFiles': {},\n",
       " 'submittedBy': 'ODL_User 231015'}"
      ]
     },
     "execution_count": 45,
     "metadata": {},
     "output_type": "execute_result"
    }
   ],
   "source": [
    "remote_run.wait_for_completion()"
   ]
  },
  {
   "cell_type": "markdown",
   "metadata": {},
   "source": [
    "## Best Model\n",
    "\n",
    "TODO: In the cell below, get the best model from the automl experiments and display all the properties of the model.\n",
    "\n"
   ]
  },
  {
   "cell_type": "code",
   "execution_count": null,
   "metadata": {
    "gather": {
     "logged": 1598431426111
    },
    "jupyter": {
     "outputs_hidden": false,
     "source_hidden": false
    },
    "nteract": {
     "transient": {
      "deleting": false
     }
    }
   },
   "outputs": [],
   "source": [
    "#TODO: Save the best model"
   ]
  },
  {
   "cell_type": "code",
   "execution_count": 24,
   "metadata": {
    "gather": {
     "logged": 1598431425670
    },
    "jupyter": {
     "outputs_hidden": false,
     "source_hidden": false
    },
    "nteract": {
     "transient": {
      "deleting": false
     }
    }
   },
   "outputs": [
    {
     "name": "stdout",
     "output_type": "stream",
     "text": [
      "Run(Experiment: Project_3_Experiment,\n",
      "Id: AutoML_bc06420d-c0d5-4168-893b-65dae5508651_38,\n",
      "Type: azureml.scriptrun,\n",
      "Status: Completed)\n",
      "RegressionPipeline(pipeline=Pipeline(memory=None,\n",
      "                                     steps=[('datatransformer',\n",
      "                                             DataTransformer(enable_dnn=False, enable_feature_sweeping=True, feature_sweeping_config={}, feature_sweeping_timeout=86400, featurization_config=None, force_text_dnn=False, is_cross_validation=True, is_onnx_compatible=False, observer=None, task='regression', working_dir='/mnt/batch/ta...\n",
      "                                             PreFittedSoftVotingRegressor(estimators=[('0', Pipeline(memory=None, steps=[('maxabsscaler', MaxAbsScaler(copy=True)), ('lightgbmregressor', LightGBMRegressor(min_data_in_leaf=20, n_jobs=1, problem_info=ProblemInfo(gpu_training_param_dict={'processing_unit_type': 'cpu'}), random_state=None))], verbose=False)), ('24', Pipeline(memory=None, steps=[('standardscalerwrapper', StandardScalerWrapper(copy=True, with_mean=False, with_std=True)), ('randomforestregressor', RandomForestRegressor(bootstrap=False, ccp_alpha=0.0, criterion='mse', max_depth=None, max_features=0.3, max_leaf_nodes=None, max_samples=None, min_impurity_decrease=0.0, min_impurity_split=None, min_samples_leaf=0.009017208223328022, min_samples_split=0.0008991789964660114, min_weight_fraction_leaf=0.0, n_estimators=200, n_jobs=1, oob_score=False, random_state=None, verbose=0, warm_start=False))], verbose=False)), ('25', Pipeline(memory=None, steps=[('sparsenormalizer', Normalizer(copy=True, norm='l1')), ('lightgbmregressor', LightGBMRegressor(boosting_type='gbdt', colsample_bytree=0.4, learning_rate=0.16842263157894738, max_bin=255, max_depth=5, min_data_in_leaf=0.006300382669981896, min_split_gain=0.6842105263157894, n_estimators=25, n_jobs=1, num_leaves=7, problem_info=ProblemInfo(gpu_training_param_dict={'processing_unit_type': 'cpu'}), random_state=None, reg_alpha=0, reg_lambda=0.975, subsample=0.7999999999999999, subsample_freq=7))], verbose=False)), ('29', Pipeline(memory=None, steps=[('maxabsscaler', MaxAbsScaler(copy=True)), ('lightgbmregressor', LightGBMRegressor(boosting_type='gbdt', colsample_bytree=0.6, learning_rate=0.1789484210526316, max_bin=1023, max_depth=7, min_data_in_leaf=0.0032263930780845784, min_split_gain=0, n_estimators=25, n_jobs=1, num_leaves=15, problem_info=ProblemInfo(gpu_training_param_dict={'processing_unit_type': 'cpu'}), random_state=None, reg_alpha=0.44999999999999996, reg_lambda=0.22499999999999998, subsample=0.39999999999999997, subsample_freq=5))], verbose=False)), ('5', Pipeline(memory=None, steps=[('maxabsscaler', MaxAbsScaler(copy=True)), ('extratreesregressor', ExtraTreesRegressor(bootstrap=False, ccp_alpha=0.0, criterion='mse', max_depth=None, max_features=0.8, max_leaf_nodes=None, max_samples=None, min_impurity_decrease=0.0, min_impurity_split=None, min_samples_leaf=0.0023646822772690063, min_samples_split=0.005285388593079247, min_weight_fraction_leaf=0.0, n_estimators=10, n_jobs=1, oob_score=False, random_state=None, verbose=0, warm_start=False))], verbose=False)), ('1', Pipeline(memory=None, steps=[('maxabsscaler', MaxAbsScaler(copy=True)), ('xgboostregressor', XGBoostRegressor(n_jobs=1, problem_info=ProblemInfo(gpu_training_param_dict={'processing_unit_type': 'cpu'}), random_state=0, tree_method='auto'))], verbose=False)), ('30', Pipeline(memory=None, steps=[('maxabsscaler', MaxAbsScaler(copy=True)), ('extratreesregressor', ExtraTreesRegressor(bootstrap=True, ccp_alpha=0.0, criterion='mse', max_depth=None, max_features=0.7, max_leaf_nodes=None, max_samples=None, min_impurity_decrease=0.0, min_impurity_split=None, min_samples_leaf=0.001953125, min_samples_split=0.02180025323490051, min_weight_fraction_leaf=0.0, n_estimators=200, n_jobs=1, oob_score=False, random_state=None, verbose=0, warm_start=False))], verbose=False)), ('8', Pipeline(memory=None, steps=[('maxabsscaler', MaxAbsScaler(copy=True)), ('elasticnet', ElasticNet(alpha=0.001, copy_X=True, fit_intercept=True, l1_ratio=1, max_iter=1000, normalize=False, positive=False, precompute=False, random_state=None, selection='cyclic', tol=0.0001, warm_start=False))], verbose=False)), ('11', Pipeline(memory=None, steps=[('standardscalerwrapper', StandardScalerWrapper(copy=True, with_mean=False, with_std=False)), ('elasticnet', ElasticNet(alpha=0.001, copy_X=True, fit_intercept=True, l1_ratio=0.32263157894736844, max_iter=1000, normalize=False, positive=False, precompute=False, random_state=None, selection='cyclic', tol=0.0001, warm_start=False))], verbose=False))], weights=[0.4666666666666667, 0.06666666666666667, 0.06666666666666667, 0.06666666666666667, 0.06666666666666667, 0.06666666666666667, 0.06666666666666667, 0.06666666666666667, 0.06666666666666667]))],\n",
      "                                     verbose=False),\n",
      "                   stddev=[0.6240593276749241])\n"
     ]
    }
   ],
   "source": [
    "best_run, fitted_model = remote_run.get_output()\n",
    "print(best_run)\n",
    "print(fitted_model)"
   ]
  },
  {
   "cell_type": "markdown",
   "metadata": {},
   "source": [
    "## Model Deployment\n",
    "\n",
    "Remember you have to deploy only one of the two models you trained but you still need to register both the models. Perform the steps in the rest of this notebook only if you wish to deploy this model.\n",
    "\n",
    "TODO: In the cell below, register the model, create an inference config and deploy the model as a web service."
   ]
  },
  {
   "cell_type": "code",
   "execution_count": 57,
   "metadata": {},
   "outputs": [],
   "source": [
    "model = best_run.register_model(\n",
    "    model_name='Behavioral_Model', \n",
    "    model_path='outputs/model.pkl', \n",
    "    description='AutoML Model for Behavioral Dataset')"
   ]
  },
  {
   "cell_type": "code",
   "execution_count": 58,
   "metadata": {},
   "outputs": [
    {
     "data": {
      "text/plain": [
       "Model(workspace=Workspace.create(name='quick-starts-ws-231015', subscription_id='2c48c51c-bd47-40d4-abbe-fb8eabd19c8c', resource_group='aml-quickstarts-231015'), name=Behavioral_Model, id=Behavioral_Model:2, version=2, tags={}, properties={})"
      ]
     },
     "execution_count": 58,
     "metadata": {},
     "output_type": "execute_result"
    }
   ],
   "source": [
    "model"
   ]
  },
  {
   "cell_type": "code",
   "execution_count": 28,
   "metadata": {},
   "outputs": [],
   "source": [
    "best_run.download_files(output_directory='automl_output_dir')"
   ]
  },
  {
   "cell_type": "code",
   "execution_count": 47,
   "metadata": {},
   "outputs": [],
   "source": [
    "env = Environment.from_conda_specification(\"AutoML-env\", \"automl_output_dir/outputs/conda_env_v_1_0_0.yml\")\n",
    "inference_config = InferenceConfig(entry_script='automl_output_dir/outputs/scoring_file_v_2_0_0.py',\n",
    "                                   environment=env)"
   ]
  },
  {
   "cell_type": "code",
   "execution_count": 49,
   "metadata": {},
   "outputs": [],
   "source": [
    "deployment_config = AciWebservice.deploy_configuration(\n",
    "    enable_app_insights=True,\n",
    "    auth_enabled=True) "
   ]
  },
  {
   "cell_type": "code",
   "execution_count": null,
   "metadata": {},
   "outputs": [],
   "source": [
    "service = Model.deploy(ws, \"behavioral-model-endpoint\", [model], inference_config, deployment_config, overwrite=True)"
   ]
  },
  {
   "cell_type": "code",
   "execution_count": 61,
   "metadata": {},
   "outputs": [
    {
     "name": "stdout",
     "output_type": "stream",
     "text": [
      "Tips: You can try get_logs(): https://aka.ms/debugimage#dockerlog or local deployment: https://aka.ms/debugimage#debug-locally to debug if deployment takes longer than 10 minutes.\n",
      "Running\n",
      "2023-04-13 21:49:02+00:00 Creating Container Registry if not exists..\n",
      "2023-04-13 21:59:02+00:00 Registering the environment.\n",
      "2023-04-13 21:59:03+00:00 Building image."
     ]
    },
    {
     "ename": "",
     "evalue": "",
     "output_type": "error",
     "traceback": [
      "\u001b[1;31mFailed to connect to the remote Jupyter Server 'https://compute-project-three.westus2.instances.azureml.ms/'. Verify the server is running and reachable."
     ]
    }
   ],
   "source": [
    "service.wait_for_deployment(show_output = True)"
   ]
  },
  {
   "cell_type": "markdown",
   "metadata": {
    "collapsed": true,
    "gather": {
     "logged": 1598431657736
    },
    "jupyter": {
     "outputs_hidden": false,
     "source_hidden": false
    },
    "nteract": {
     "transient": {
      "deleting": false
     }
    }
   },
   "source": [
    "TODO: In the cell below, send a request to the web service you deployed to test it."
   ]
  },
  {
   "cell_type": "code",
   "execution_count": null,
   "metadata": {},
   "outputs": [],
   "source": [
    "interactive_auth = InteractiveLoginAuthentication()\n",
    "auth_header = interactive_auth.get_authentication_header()"
   ]
  },
  {
   "cell_type": "code",
   "execution_count": null,
   "metadata": {
    "gather": {
     "logged": 1598432707604
    },
    "jupyter": {
     "outputs_hidden": false,
     "source_hidden": false
    },
    "nteract": {
     "transient": {
      "deleting": false
     }
    }
   },
   "outputs": [],
   "source": [
    "rest_endpoint = service.endpoint\n",
    "response = requests.post(rest_endpoint, \n",
    "                         headers=auth_header, \n",
    "                         json={\"ExperimentName\": \"behavioral-data-rest-endpoint\"}\n",
    "                        )"
   ]
  },
  {
   "cell_type": "code",
   "execution_count": null,
   "metadata": {},
   "outputs": [],
   "source": [
    "try:\n",
    "    response.raise_for_status()\n",
    "except Exception:    \n",
    "    raise Exception(\"Received bad response from the endpoint: {}\\n\"\n",
    "                    \"Response Code: {}\\n\"\n",
    "                    \"Headers: {}\\n\"\n",
    "                    \"Content: {}\".format(rest_endpoint, response.status_code, response.headers, response.content))\n",
    "\n",
    "run_id = response.json().get('Id')\n",
    "print('Submitted pipeline run: ', run_id)"
   ]
  },
  {
   "cell_type": "markdown",
   "metadata": {
    "collapsed": true,
    "gather": {
     "logged": 1598432765711
    },
    "jupyter": {
     "outputs_hidden": false,
     "source_hidden": false
    },
    "nteract": {
     "transient": {
      "deleting": false
     }
    }
   },
   "source": [
    "TODO: In the cell below, print the logs of the web service and delete the service"
   ]
  },
  {
   "cell_type": "code",
   "execution_count": null,
   "metadata": {
    "jupyter": {
     "outputs_hidden": false,
     "source_hidden": false
    },
    "nteract": {
     "transient": {
      "deleting": false
     }
    }
   },
   "outputs": [],
   "source": []
  },
  {
   "attachments": {},
   "cell_type": "markdown",
   "metadata": {},
   "source": [
    "# Cleanup"
   ]
  },
  {
   "cell_type": "code",
   "execution_count": null,
   "metadata": {},
   "outputs": [],
   "source": [
    "compute_target.delete()"
   ]
  },
  {
   "cell_type": "markdown",
   "metadata": {},
   "source": [
    "**Submission Checklist**\n",
    "- I have registered the model.\n",
    "- I have deployed the model with the best accuracy as a webservice.\n",
    "- I have tested the webservice by sending a request to the model endpoint.\n",
    "- I have deleted the webservice and shutdown all the computes that I have used.\n",
    "- I have taken a screenshot showing the model endpoint as active.\n",
    "- The project includes a file containing the environment details.\n"
   ]
  },
  {
   "cell_type": "markdown",
   "metadata": {},
   "source": []
  }
 ],
 "metadata": {
  "kernel_info": {
   "name": "python3-azureml"
  },
  "kernelspec": {
   "display_name": "base",
   "language": "python",
   "name": "python3"
  },
  "language_info": {
   "codemirror_mode": {
    "name": "ipython",
    "version": 3
   },
   "file_extension": ".py",
   "mimetype": "text/x-python",
   "name": "python",
   "nbconvert_exporter": "python",
   "pygments_lexer": "ipython3",
   "version": "3.9.12"
  },
  "nteract": {
   "version": "nteract-front-end@1.0.0"
  }
 },
 "nbformat": 4,
 "nbformat_minor": 2
}
