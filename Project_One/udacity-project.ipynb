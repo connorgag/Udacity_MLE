{
  "cells": [
    {
      "cell_type": "code",
      "execution_count": 28,
      "metadata": {
        "gather": {
          "logged": 1677364105380
        }
      },
      "outputs": [
        {
          "ename": "UserErrorException",
          "evalue": "UserErrorException:\n\tMessage: The workspace configuration file config.json, could not be found in /Users/connorgag/Desktop/Udacity_MLE_Github_Repo/Project_One or its parent directories. Please check whether the workspace configuration file exists, or provide the full path to the configuration file as an argument. You can download a configuration file for your workspace, via http://ml.azure.com and clicking on the name of your workspace in the right top.\n\tInnerException None\n\tErrorResponse \n{\n    \"error\": {\n        \"code\": \"UserError\",\n        \"message\": \"The workspace configuration file config.json, could not be found in /Users/connorgag/Desktop/Udacity_MLE_Github_Repo/Project_One or its parent directories. Please check whether the workspace configuration file exists, or provide the full path to the configuration file as an argument. You can download a configuration file for your workspace, via http://ml.azure.com and clicking on the name of your workspace in the right top.\"\n    }\n}",
          "output_type": "error",
          "traceback": [
            "\u001b[0;31m---------------------------------------------------------------------------\u001b[0m",
            "\u001b[0;31mUserErrorException\u001b[0m                        Traceback (most recent call last)",
            "\u001b[1;32m/Users/connorgag/Desktop/Udacity_MLE_Github_Repo/Project_One/udacity-project.ipynb Cell 1\u001b[0m in \u001b[0;36m<cell line: 3>\u001b[0;34m()\u001b[0m\n\u001b[1;32m      <a href='vscode-notebook-cell:/Users/connorgag/Desktop/Udacity_MLE_Github_Repo/Project_One/udacity-project.ipynb#W0sZmlsZQ%3D%3D?line=0'>1</a>\u001b[0m \u001b[39mfrom\u001b[39;00m \u001b[39mazureml\u001b[39;00m\u001b[39m.\u001b[39;00m\u001b[39mcore\u001b[39;00m \u001b[39mimport\u001b[39;00m Workspace, Experiment\n\u001b[0;32m----> <a href='vscode-notebook-cell:/Users/connorgag/Desktop/Udacity_MLE_Github_Repo/Project_One/udacity-project.ipynb#W0sZmlsZQ%3D%3D?line=2'>3</a>\u001b[0m ws \u001b[39m=\u001b[39m Workspace\u001b[39m.\u001b[39;49mfrom_config()\n\u001b[1;32m      <a href='vscode-notebook-cell:/Users/connorgag/Desktop/Udacity_MLE_Github_Repo/Project_One/udacity-project.ipynb#W0sZmlsZQ%3D%3D?line=3'>4</a>\u001b[0m exp \u001b[39m=\u001b[39m Experiment(workspace\u001b[39m=\u001b[39mws, name\u001b[39m=\u001b[39m\u001b[39m\"\u001b[39m\u001b[39mudacity-project\u001b[39m\u001b[39m\"\u001b[39m)\n\u001b[1;32m      <a href='vscode-notebook-cell:/Users/connorgag/Desktop/Udacity_MLE_Github_Repo/Project_One/udacity-project.ipynb#W0sZmlsZQ%3D%3D?line=5'>6</a>\u001b[0m \u001b[39mprint\u001b[39m(\u001b[39m'\u001b[39m\u001b[39mWorkspace name: \u001b[39m\u001b[39m'\u001b[39m \u001b[39m+\u001b[39m ws\u001b[39m.\u001b[39mname, \n\u001b[1;32m      <a href='vscode-notebook-cell:/Users/connorgag/Desktop/Udacity_MLE_Github_Repo/Project_One/udacity-project.ipynb#W0sZmlsZQ%3D%3D?line=6'>7</a>\u001b[0m       \u001b[39m'\u001b[39m\u001b[39mAzure region: \u001b[39m\u001b[39m'\u001b[39m \u001b[39m+\u001b[39m ws\u001b[39m.\u001b[39mlocation, \n\u001b[1;32m      <a href='vscode-notebook-cell:/Users/connorgag/Desktop/Udacity_MLE_Github_Repo/Project_One/udacity-project.ipynb#W0sZmlsZQ%3D%3D?line=7'>8</a>\u001b[0m       \u001b[39m'\u001b[39m\u001b[39mSubscription id: \u001b[39m\u001b[39m'\u001b[39m \u001b[39m+\u001b[39m ws\u001b[39m.\u001b[39msubscription_id, \n\u001b[1;32m      <a href='vscode-notebook-cell:/Users/connorgag/Desktop/Udacity_MLE_Github_Repo/Project_One/udacity-project.ipynb#W0sZmlsZQ%3D%3D?line=8'>9</a>\u001b[0m       \u001b[39m'\u001b[39m\u001b[39mResource group: \u001b[39m\u001b[39m'\u001b[39m \u001b[39m+\u001b[39m ws\u001b[39m.\u001b[39mresource_group, sep \u001b[39m=\u001b[39m \u001b[39m'\u001b[39m\u001b[39m\\n\u001b[39;00m\u001b[39m'\u001b[39m)\n",
            "File \u001b[0;32m~/opt/anaconda3/lib/python3.9/site-packages/azureml/core/workspace.py:280\u001b[0m, in \u001b[0;36mWorkspace.from_config\u001b[0;34m(path, auth, _logger, _file_name)\u001b[0m\n\u001b[1;32m    277\u001b[0m             \u001b[39mbreak\u001b[39;00m\n\u001b[1;32m    279\u001b[0m     \u001b[39mif\u001b[39;00m \u001b[39mnot\u001b[39;00m found_path:\n\u001b[0;32m--> 280\u001b[0m         \u001b[39mraise\u001b[39;00m UserErrorException(\n\u001b[1;32m    281\u001b[0m             \u001b[39m\"\u001b[39m\u001b[39mThe workspace configuration file config.json, could not be found in \u001b[39m\u001b[39m{}\u001b[39;00m\u001b[39m or its parent \u001b[39m\u001b[39m\"\u001b[39m\n\u001b[1;32m    282\u001b[0m             \u001b[39m\"\u001b[39m\u001b[39mdirectories. Please check whether the workspace configuration file exists, or provide \u001b[39m\u001b[39m\"\u001b[39m\n\u001b[1;32m    283\u001b[0m             \u001b[39m\"\u001b[39m\u001b[39mthe full path to the configuration file as an argument. You can download a configuration \u001b[39m\u001b[39m\"\u001b[39m\n\u001b[1;32m    284\u001b[0m             \u001b[39m\"\u001b[39m\u001b[39mfile for your workspace, via http://ml.azure.com and clicking on the name of your \u001b[39m\u001b[39m\"\u001b[39m\n\u001b[1;32m    285\u001b[0m             \u001b[39m\"\u001b[39m\u001b[39mworkspace in the right top.\u001b[39m\u001b[39m\"\u001b[39m\u001b[39m.\u001b[39mformat(\n\u001b[1;32m    286\u001b[0m                 normalized_path))\n\u001b[1;32m    288\u001b[0m subscription_id, resource_group, workspace_name \u001b[39m=\u001b[39m project_info\u001b[39m.\u001b[39mget_workspace_info(\n\u001b[1;32m    289\u001b[0m     found_path)\n\u001b[1;32m    291\u001b[0m _logger\u001b[39m.\u001b[39minfo(\u001b[39m'\u001b[39m\u001b[39mFound the config file in: \u001b[39m\u001b[39m%s\u001b[39;00m\u001b[39m'\u001b[39m, found_path)\n",
            "\u001b[0;31mUserErrorException\u001b[0m: UserErrorException:\n\tMessage: The workspace configuration file config.json, could not be found in /Users/connorgag/Desktop/Udacity_MLE_Github_Repo/Project_One or its parent directories. Please check whether the workspace configuration file exists, or provide the full path to the configuration file as an argument. You can download a configuration file for your workspace, via http://ml.azure.com and clicking on the name of your workspace in the right top.\n\tInnerException None\n\tErrorResponse \n{\n    \"error\": {\n        \"code\": \"UserError\",\n        \"message\": \"The workspace configuration file config.json, could not be found in /Users/connorgag/Desktop/Udacity_MLE_Github_Repo/Project_One or its parent directories. Please check whether the workspace configuration file exists, or provide the full path to the configuration file as an argument. You can download a configuration file for your workspace, via http://ml.azure.com and clicking on the name of your workspace in the right top.\"\n    }\n}"
          ]
        }
      ],
      "source": [
        "from azureml.core import Workspace, Experiment\n",
        "\n",
        "ws = Workspace.from_config()\n",
        "exp = Experiment(workspace=ws, name=\"udacity-project\")\n",
        "\n",
        "print('Workspace name: ' + ws.name, \n",
        "      'Azure region: ' + ws.location, \n",
        "      'Subscription id: ' + ws.subscription_id, \n",
        "      'Resource group: ' + ws.resource_group, sep = '\\n')\n",
        "\n",
        "run = exp.start_logging()"
      ]
    },
    {
      "cell_type": "code",
      "execution_count": 7,
      "metadata": {
        "gather": {
          "logged": 1677364147529
        },
        "jupyter": {
          "outputs_hidden": false,
          "source_hidden": false
        },
        "nteract": {
          "transient": {
            "deleting": false
          }
        }
      },
      "outputs": [
        {
          "name": "stdout",
          "output_type": "stream",
          "text": [
            "InProgress..\n",
            "SucceededProvisioning operation finished, operation \"Succeeded\"\n",
            "Succeeded\n",
            "AmlCompute wait for completion finished\n",
            "\n",
            "Minimum number of nodes requested have been provisioned\n"
          ]
        }
      ],
      "source": [
        "from azureml.core.compute import ComputeTarget, AmlCompute\n",
        "from azureml.core.compute_target import ComputeTargetException\n",
        "\n",
        "cluster_name = \"udacity-project-one-cluster\"\n",
        "\n",
        "# TODO: Create compute cluster\n",
        "# Use vm_size = \"Standard_D2_V2\" in your provisioning configuration.\n",
        "# max_nodes should be no greater than 4.\n",
        "\n",
        "### YOUR CODE HERE ###\n",
        "try:\n",
        "    aml_compute = ComputeTarget(workspace=ws, name=cluster_name)\n",
        "    print('Found existing cluster, use it.')\n",
        "except ComputeTargetException:\n",
        "    compute_config = AmlCompute.provisioning_configuration(vm_size='Standard_D2_V2',\n",
        "                                                           max_nodes=4)\n",
        "    aml_compute = ComputeTarget.create(ws, cluster_name, compute_config)\n",
        "\n",
        "aml_compute.wait_for_completion(show_output=True)"
      ]
    },
    {
      "cell_type": "code",
      "execution_count": null,
      "metadata": {
        "gather": {
          "logged": 1598275789986
        },
        "jupyter": {
          "outputs_hidden": false,
          "source_hidden": false
        },
        "nteract": {
          "transient": {
            "deleting": false
          }
        }
      },
      "outputs": [],
      "source": [
        "from azureml.widgets import RunDetails\n",
        "from azureml.train.sklearn import SKLearn\n",
        "from azureml.train.hyperdrive.run import PrimaryMetricGoal\n",
        "from azureml.train.hyperdrive.policy import BanditPolicy\n",
        "from azureml.train.hyperdrive.sampling import RandomParameterSampling\n",
        "from azureml.train.hyperdrive.runconfig import HyperDriveConfig\n",
        "from azureml.train.hyperdrive.parameter_expressions import choice, uniform, normal\n",
        "from azureml.core import Environment, ScriptRunConfig\n",
        "import os\n",
        "\n",
        "# Specify parameter sampler\n",
        "### YOUR CODE HERE ###\n",
        "ps = RandomParameterSampling({\"batch_size\": choice(16, 32, 64, 128), \n",
        "                               \"learning_rate\": normal(10, 3), \n",
        "                               \"keep_probability\": uniform(0.05, 0.1)})\n",
        "\n",
        "\n",
        "\n",
        "# Specify a Policy\n",
        "policy = BanditPolicy(evaluation_interval=2, slack_factor=0.1)\n",
        "\n",
        "if \"training\" not in os.listdir():\n",
        "    os.mkdir(\"./training\")\n",
        "\n",
        "# Setup environment for your training run\n",
        "sklearn_env = Environment.from_conda_specification(name='sklearn-env', file_path='conda_dependencies.yml')\n",
        "\n",
        "# Create a ScriptRunConfig Object to specify the configuration details of your training job\n",
        "src = ScriptRunConfig(source_directory='Project_One',\n",
        "                      script='train.py',\n",
        "                      arguments=['--C', 1.0, '--max_iter', 100],\n",
        "                      compute_target=aml_compute,\n",
        "                      environment=sklearn_env)\n",
        "\n",
        "# Create a HyperDriveConfig using the src object, hyperparameter sampler, and policy.\n",
        "hyperdrive_config = HyperDriveConfig(run_config=src,\n",
        "                                     hyperparameter_sampling=ps,\n",
        "                                     policy=policy,\n",
        "                                     primary_metric_name='Accuracy',\n",
        "                                     primary_metric_goal=PrimaryMetricGoal.MAXIMIZE,\n",
        "                                     max_total_runs=20,\n",
        "                                     max_concurrent_runs=4)"
      ]
    },
    {
      "cell_type": "code",
      "execution_count": null,
      "metadata": {},
      "outputs": [],
      "source": [
        "# Submit your hyperdrive run to the experiment and show run details with the widget.\n",
        "\n",
        "### YOUR CODE HERE ###\n",
        "hyperdrive_run = exp.submit(config=hyperdrive_config)"
      ]
    },
    {
      "cell_type": "code",
      "execution_count": null,
      "metadata": {
        "gather": {
          "logged": 1598276310862
        },
        "jupyter": {
          "outputs_hidden": false,
          "source_hidden": false
        },
        "nteract": {
          "transient": {
            "deleting": false
          }
        }
      },
      "outputs": [],
      "source": [
        "import joblib\n",
        "# Get your best run and save the model from that run.\n",
        "\n",
        "### YOUR CODE HERE ###\n",
        "RunDetails(hyperdrive_run).show()\n",
        "hyperdrive_run.wait_for_completion(show_output=True)\n",
        "assert(hyperdrive_run.get_status() == \"Completed\")\n",
        "\n",
        "best_run = hyperdrive_run.get_best_run_by_primary_metric()\n",
        "best_run_metrics = best_run.get_metrics()\n",
        "parameter_values = best_run.get_details()['runDefinition']['Arguments']\n",
        "\n",
        "print('Best Run Id: ', best_run.id)\n",
        "print('\\n Accuracy:', best_run_metrics['accuracy'])\n",
        "print('\\n learning rate:',parameter_values[3])\n",
        "print('\\n keep probability:',parameter_values[5])\n",
        "print('\\n batch size:',parameter_values[7])"
      ]
    },
    {
      "attachments": {},
      "cell_type": "markdown",
      "metadata": {},
      "source": [
        "# AutoML Part"
      ]
    },
    {
      "cell_type": "code",
      "execution_count": 4,
      "metadata": {},
      "outputs": [],
      "source": [
        "from azureml.data.dataset_factory import TabularDatasetFactory\n",
        "\n",
        "# Create TabularDataset using TabularDatasetFactory\n",
        "# Data is available at: \n",
        "# \"https://automlsamplenotebookdata.blob.core.windows.net/automl-sample-notebook-data/bankmarketing_train.csv\"\n",
        "\n",
        "### YOUR CODE HERE ###\n",
        "df = TabularDatasetFactory().from_delimited_files(\"https://automlsamplenotebookdata.blob.core.windows.net/automl-sample-notebook-data/bankmarketing_train.csv\")\n"
      ]
    },
    {
      "cell_type": "code",
      "execution_count": 18,
      "metadata": {
        "gather": {
          "logged": 1598275726969
        },
        "jupyter": {
          "outputs_hidden": false,
          "source_hidden": false
        },
        "nteract": {
          "transient": {
            "deleting": false
          }
        }
      },
      "outputs": [],
      "source": [
        "from train import clean_data\n",
        "\n",
        "# Use the clean_data function to clean your data.\n",
        "x, y = clean_data(df)"
      ]
    },
    {
      "cell_type": "code",
      "execution_count": 25,
      "metadata": {},
      "outputs": [
        {
          "data": {
            "text/plain": [
              "['AUC_weighted',\n",
              " 'average_precision_score_weighted',\n",
              " 'norm_macro_recall',\n",
              " 'accuracy',\n",
              " 'precision_score_weighted']"
            ]
          },
          "execution_count": 25,
          "metadata": {},
          "output_type": "execute_result"
        }
      ],
      "source": [
        "from azureml.train.automl.utilities import get_primary_metrics\n",
        "get_primary_metrics('classification')"
      ]
    },
    {
      "cell_type": "code",
      "execution_count": 26,
      "metadata": {
        "gather": {
          "logged": 1598275665403
        },
        "jupyter": {
          "outputs_hidden": false,
          "source_hidden": false
        },
        "nteract": {
          "transient": {
            "deleting": false
          }
        }
      },
      "outputs": [],
      "source": [
        "from azureml.train.automl import AutoMLConfig\n",
        "\n",
        "# Set parameters for AutoMLConfig\n",
        "# NOTE: DO NOT CHANGE THE experiment_timeout_minutes PARAMETER OR YOUR INSTANCE WILL TIME OUT.\n",
        "# If you wish to run the experiment longer, you will need to run this notebook in your own\n",
        "# Azure tenant, which will incur personal costs.\n",
        "\n",
        "\n",
        "automl_config = AutoMLConfig(\n",
        "    experiment_timeout_minutes=30,\n",
        "    task='classification',\n",
        "    primary_metric='accuracy',\n",
        "    X=x,\n",
        "    y=y,\n",
        "    iterations=30,\n",
        "    label_column_name='y',\n",
        "    n_cross_validations=5)"
      ]
    },
    {
      "cell_type": "code",
      "execution_count": 27,
      "metadata": {
        "jupyter": {
          "outputs_hidden": false,
          "source_hidden": false
        },
        "nteract": {
          "transient": {
            "deleting": false
          }
        }
      },
      "outputs": [
        {
          "ename": "NameError",
          "evalue": "name 'exp' is not defined",
          "output_type": "error",
          "traceback": [
            "\u001b[0;31m---------------------------------------------------------------------------\u001b[0m",
            "\u001b[0;31mNameError\u001b[0m                                 Traceback (most recent call last)",
            "\u001b[1;32m/Users/connorgag/Desktop/Udacity_MLE_Github_Repo/Project_One/udacity-project.ipynb Cell 12\u001b[0m in \u001b[0;36m<cell line: 4>\u001b[0;34m()\u001b[0m\n\u001b[1;32m      <a href='vscode-notebook-cell:/Users/connorgag/Desktop/Udacity_MLE_Github_Repo/Project_One/udacity-project.ipynb#X11sZmlsZQ%3D%3D?line=0'>1</a>\u001b[0m \u001b[39m# Submit your automl run\u001b[39;00m\n\u001b[1;32m      <a href='vscode-notebook-cell:/Users/connorgag/Desktop/Udacity_MLE_Github_Repo/Project_One/udacity-project.ipynb#X11sZmlsZQ%3D%3D?line=1'>2</a>\u001b[0m \n\u001b[1;32m      <a href='vscode-notebook-cell:/Users/connorgag/Desktop/Udacity_MLE_Github_Repo/Project_One/udacity-project.ipynb#X11sZmlsZQ%3D%3D?line=2'>3</a>\u001b[0m \u001b[39m### YOUR CODE HERE ###\u001b[39;00m\n\u001b[0;32m----> <a href='vscode-notebook-cell:/Users/connorgag/Desktop/Udacity_MLE_Github_Repo/Project_One/udacity-project.ipynb#X11sZmlsZQ%3D%3D?line=3'>4</a>\u001b[0m local_run \u001b[39m=\u001b[39m exp\u001b[39m.\u001b[39msubmit(automl_config, show_output\u001b[39m=\u001b[39m\u001b[39mTrue\u001b[39;00m)\n",
            "\u001b[0;31mNameError\u001b[0m: name 'exp' is not defined"
          ]
        }
      ],
      "source": [
        "# Submit your automl run\n",
        "\n",
        "### YOUR CODE HERE ###\n",
        "automl_run = exp.submit(automl_config, show_output=True)"
      ]
    },
    {
      "cell_type": "code",
      "execution_count": null,
      "metadata": {},
      "outputs": [],
      "source": [
        "# Retrieve and save your best automl model.\n",
        "\n",
        "### YOUR CODE HERE ###\n",
        "RunDetails(automl_run).show()\n",
        "automl_run.wait_for_completion(show_output=True)\n",
        "assert(automl_run.get_status() == \"Completed\")\n",
        "\n",
        "best_run = automl_run.get_best_run_by_primary_metric()\n",
        "best_run_metrics = best_run.get_metrics()\n",
        "parameter_values = best_run.get_details()['runDefinition']['Arguments']\n",
        "\n",
        "print('Best Run Id: ', best_run.id)\n",
        "print('\\n Accuracy:', best_run_metrics['accuracy'])\n",
        "print('\\n learning rate:',parameter_values[3])\n",
        "print('\\n keep probability:',parameter_values[5])\n",
        "print('\\n batch size:',parameter_values[7])"
      ]
    },
    {
      "attachments": {},
      "cell_type": "markdown",
      "metadata": {},
      "source": [
        "# Cleanup"
      ]
    },
    {
      "cell_type": "code",
      "execution_count": null,
      "metadata": {},
      "outputs": [],
      "source": [
        "ws.delete(delete_dependent_resources=True, no_wait=False)"
      ]
    },
    {
      "cell_type": "code",
      "execution_count": null,
      "metadata": {},
      "outputs": [],
      "source": [
        "aml_compute.delete()"
      ]
    }
  ],
  "metadata": {
    "kernel_info": {
      "name": "python3"
    },
    "kernelspec": {
      "display_name": "base",
      "language": "python",
      "name": "python3"
    },
    "language_info": {
      "codemirror_mode": {
        "name": "ipython",
        "version": 3
      },
      "file_extension": ".py",
      "mimetype": "text/x-python",
      "name": "python",
      "nbconvert_exporter": "python",
      "pygments_lexer": "ipython3",
      "version": "3.9.12"
    },
    "microsoft": {
      "ms_spell_check": {
        "ms_spell_check_language": "en"
      }
    },
    "nteract": {
      "version": "nteract-front-end@1.0.0"
    },
    "vscode": {
      "interpreter": {
        "hash": "7a42a4edc488f7002b813bf55eaf2f344a39560893a4c6e3b8d3d62d10e7fc9c"
      }
    }
  },
  "nbformat": 4,
  "nbformat_minor": 2
}
